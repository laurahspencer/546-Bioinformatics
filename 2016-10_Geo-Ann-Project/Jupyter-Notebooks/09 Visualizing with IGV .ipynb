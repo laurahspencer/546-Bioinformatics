{
 "cells": [
  {
   "cell_type": "markdown",
   "metadata": {},
   "source": [
    "## In this notebook I load and view gene tracks on Integrative Genomics Viewer (IGV)"
   ]
  },
  {
   "cell_type": "markdown",
   "metadata": {},
   "source": [
    "### IGV is a user friendly GUI application [available as a download](https://software.broadinstitute.org/software/igv/download) for free.  \n",
    "  * Version used: 2.3.85 (135) 10/30/2016\n",
    "  * IGV accepts the file formats listed [here](https://software.broadinstitute.org/software/igv/FileFormats)\n",
    " \n",
    " NOTE: this notebook provides links to the files in this project's results folder on GitHub, so you can follow along!"
   ]
  },
  {
   "cell_type": "markdown",
   "metadata": {},
   "source": [
    "### Step 1: load _P. generosa scaffolds_ via  Genomes -> Load Genome from URL; ([my file on GitHub](https://raw.githubusercontent.com/laurahspencer/546-Bioinformatics/master/2016-10_Geo-Ann-Project/results/Panopea_generosa_scaff-70k.fasta))\n",
    "\n",
    "![loading genome in igv](https://github.com/laurahspencer/546-Bioinformatics/blob/master/2016-10_Geo-Ann-Project/images/2016-12-14_IGV-loading-genome.png?raw=true)"
   ]
  },
  {
   "cell_type": "markdown",
   "metadata": {},
   "source": [
    "### Step 2: load transcriptome sites (blast results reformatted to.gff) via Load File -> Load File from URL ([transcriptome blast .gff on Github](https://raw.githubusercontent.com/laurahspencer/546-Bioinformatics/master/2016-10_Geo-Ann-Project/results/pgenerosa-transcrv3-blastn-scaff70k-01.gff))\n",
    "\n",
    "![loading file from url](https://github.com/laurahspencer/546-Bioinformatics/blob/master/2016-10_Geo-Ann-Project/images/2016-12-14_IGV-loading-file-url.png?raw=true)\n"
   ]
  },
  {
   "cell_type": "markdown",
   "metadata": {},
   "source": [
    "### Step 3: load transposable elements track ([trans. elements .gff on Github](https://raw.githubusercontent.com/laurahspencer/546-Bioinformatics/master/2016-10_Geo-Ann-Project/results/Panopea_generosa_scaff-70k.scafSeq.out.refined.gff))\n",
    "\n",
    "### Step 4: load CpG sites track ([Cpg .gff on Github](https://raw.githubusercontent.com/laurahspencer/546-Bioinformatics/master/2016-10_Geo-Ann-Project/results/Panopea_generosa_Scaff-70k-CpG.gff))\n",
    "\n",
    "### Step 5: load candidate miRNA track ([miRNA .gff Github](https://raw.githubusercontent.com/laurahspencer/546-Bioinformatics/master/2016-10_Geo-Ann-Project/results/pgenerosa-scaff70-miRNA.gff))\n",
    "\n",
    "### Step 6: load RNASeq reads from gonad tissue, mapped via Bowtie2 ([Female .bam on Owl](http://owl.fish.washington.edu/generosa/GeoAnn/Panopea_generosascaff-70k_gonadF_bowtie-sorted.bam), [Male .bam on Owl](http://owl.fish.washington.edu/generosa/GeoAnn/Panopea_generosascaff-70k_gonadM_bowtie-sorted.bam))\n",
    "\n",
    "### Step 7: load SNPS found via male & female gonad tissue (found using mpileup) ([Female SNPs on GitHub](https://raw.githubusercontent.com/laurahspencer/546-Bioinformatics/master/2016-10_Geo-Ann-Project/results/Pg_70k_gonadF_SNPs.vcf), [Male SNPs on GitHub](https://raw.githubusercontent.com/laurahspencer/546-Bioinformatics/master/2016-10_Geo-Ann-Project/results/Pg_70k_gonadM_SNPs.vcf))\n",
    "\n",
    "### Step 8: Reformat to beautify\n",
    "\n",
    "After adding all the tracks, this is what the viewer shows:\n",
    "\n",
    "![unformatted IGV](https://github.com/laurahspencer/546-Bioinformatics/blob/master/2016-10_Geo-Ann-Project/images/2016-12-14_IGV-raw-tracks.png?raw=true)\n"
   ]
  },
  {
   "cell_type": "code",
   "execution_count": null,
   "metadata": {
    "collapsed": true
   },
   "outputs": [],
   "source": []
  }
 ],
 "metadata": {
  "anaconda-cloud": {},
  "kernelspec": {
   "display_name": "Python [default]",
   "language": "python",
   "name": "python3"
  },
  "language_info": {
   "codemirror_mode": {
    "name": "ipython",
    "version": 3
   },
   "file_extension": ".py",
   "mimetype": "text/x-python",
   "name": "python",
   "nbconvert_exporter": "python",
   "pygments_lexer": "ipython3",
   "version": "3.5.2"
  }
 },
 "nbformat": 4,
 "nbformat_minor": 1
}
