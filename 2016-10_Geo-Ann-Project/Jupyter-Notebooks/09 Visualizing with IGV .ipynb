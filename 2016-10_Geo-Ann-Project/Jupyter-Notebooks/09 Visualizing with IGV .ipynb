{
 "cells": [
  {
   "cell_type": "markdown",
   "metadata": {},
   "source": [
    "## In this notebook I load and view gene tracks on Integrative Genomics Viewer (IGV)"
   ]
  },
  {
   "cell_type": "markdown",
   "metadata": {},
   "source": [
    "### IGV is a user friendly GUI application [available as a download](https://software.broadinstitute.org/software/igv/download) for free.  \n",
    "  * Version used: 2.3.85 (135) 10/30/2016\n",
    "  * IGV accepts the file formats listed [here](https://software.broadinstitute.org/software/igv/FileFormats)\n",
    " "
   ]
  },
  {
   "cell_type": "markdown",
   "metadata": {},
   "source": [
    "### Step 1: load _P. generosa scaffolds,_ ([file on GitHub](RESULTS GITHUB FILE))\n",
    "\n",
    "![loading genome in igv](photo url)"
   ]
  },
  {
   "cell_type": "markdown",
   "metadata": {},
   "source": [
    "### Step 2: load .gff reformatted blast results ([file on Github]( )"
   ]
  }
 ],
 "metadata": {
  "anaconda-cloud": {},
  "kernelspec": {
   "display_name": "Python [default]",
   "language": "python",
   "name": "python3"
  },
  "language_info": {
   "codemirror_mode": {
    "name": "ipython",
    "version": 3
   },
   "file_extension": ".py",
   "mimetype": "text/x-python",
   "name": "python",
   "nbconvert_exporter": "python",
   "pygments_lexer": "ipython3",
   "version": "3.5.2"
  }
 },
 "nbformat": 4,
 "nbformat_minor": 1
}
