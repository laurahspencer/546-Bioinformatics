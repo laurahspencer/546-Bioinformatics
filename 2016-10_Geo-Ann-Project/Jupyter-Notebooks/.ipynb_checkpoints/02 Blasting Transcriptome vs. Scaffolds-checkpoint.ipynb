{
 "cells": [
  {
   "cell_type": "code",
   "execution_count": 2,
   "metadata": {
    "collapsed": false,
    "scrolled": true
   },
   "outputs": [
    {
     "name": "stdout",
     "output_type": "stream",
     "text": [
      "Software:\r\n",
      "\r\n",
      "    System Software Overview:\r\n",
      "\r\n",
      "      System Version: OS X 10.11.6 (15G1108)\r\n",
      "      Kernel Version: Darwin 15.6.0\r\n",
      "      Boot Volume: Peach Macbook\r\n",
      "      Boot Mode: Normal\r\n",
      "      Computer Name: laura spencer’s MacBook Pro\r\n",
      "      User Name: laura spencer (shlaura3)\r\n",
      "      Secure Virtual Memory: Enabled\r\n",
      "      System Integrity Protection: Enabled\r\n",
      "      Time since boot: 2 days 4:27\r\n",
      "\r\n"
     ]
    }
   ],
   "source": [
    "# SYSTEM INFO:\n",
    "! system_profiler SPSoftwareDataType"
   ]
  },
  {
   "cell_type": "markdown",
   "metadata": {},
   "source": [
    "---\n",
    "\n",
    "# Leveraging annotated geoduck gonad transcriptome to annotate scaffolds  \n",
    "\n",
    "**In this notebook I merge the _p. generosa_ transcriptome that Steven et al. have been working on with the _p. generosa_ genome scaffolds I extracted. I'm using [NBCI's `blastn` program](https://blast.ncbi.nlm.nih.gov/Blast.cgi?CMD=Web&PAGE_TYPE=BlastDocs&DOC_TYPE=Download); `blastn` compares nucleotide-nucleotide.**\n",
    "\n",
    "The NCBI Blast user manual is helpful, particularly the [Options for command line applications](https://www.ncbi.nlm.nih.gov/books/NBK279675/) page."
   ]
  },
  {
   "cell_type": "markdown",
   "metadata": {},
   "source": [
    "--- \n",
    "\n",
    "## Blast attempt #1: blastn geoduck transcriptome against >70k scaffolds"
   ]
  },
  {
   "cell_type": "code",
   "execution_count": 8,
   "metadata": {
    "collapsed": false
   },
   "outputs": [
    {
     "name": "stdout",
     "output_type": "stream",
     "text": [
      "blastn: 2.5.0+\r\n",
      " Package: blast 2.5.0, build Sep  9 2016 13:36:03\r\n"
     ]
    }
   ],
   "source": [
    "# identifying version\n",
    "! /Applications/ncbi-blast-2.5.0+/bin/blastn -version"
   ]
  },
  {
   "cell_type": "code",
   "execution_count": 7,
   "metadata": {
    "collapsed": false
   },
   "outputs": [
    {
     "name": "stdout",
     "output_type": "stream",
     "text": [
      "BLAST query/options error: Either a BLAST database or subject sequence(s) must be specified\r\n",
      "Please refer to the BLAST+ user manual.\r\n"
     ]
    }
   ],
   "source": [
    "# I didn't add blast to my path, so need to navigate to the blast application directory\n",
    "!/Applications/ncbi-blast-2.5.0+/bin/blastn"
   ]
  },
  {
   "cell_type": "markdown",
   "metadata": {},
   "source": [
    "### Downloading _p. generosa_ transcriptome"
   ]
  },
  {
   "cell_type": "code",
   "execution_count": 8,
   "metadata": {
    "collapsed": false
   },
   "outputs": [
    {
     "name": "stdout",
     "output_type": "stream",
     "text": [
      "/Users/shlaura3/Documents/SAFS/FISH_546_Bioinformatics/546-Bioinformatics/2016-10_Geo-Ann-Project/data\n"
     ]
    }
   ],
   "source": [
    "cd ../data"
   ]
  },
  {
   "cell_type": "code",
   "execution_count": 9,
   "metadata": {
    "collapsed": false
   },
   "outputs": [
    {
     "name": "stdout",
     "output_type": "stream",
     "text": [
      "  % Total    % Received % Xferd  Average Speed   Time    Time     Time  Current\n",
      "                                 Dload  Upload   Total   Spent    Left  Speed\n",
      "100   171  100   171    0     0    313      0 --:--:-- --:--:-- --:--:--   316\n"
     ]
    }
   ],
   "source": [
    "!curl -O https://github.com/sr320/paper-pano-go/raw/master/data-results/Geoduck-transcriptome-v3.fa.zip"
   ]
  },
  {
   "cell_type": "markdown",
   "metadata": {},
   "source": [
    "### NOTE: Unzipped the file by using the gui directory"
   ]
  },
  {
   "cell_type": "code",
   "execution_count": 15,
   "metadata": {
    "collapsed": false,
    "scrolled": true
   },
   "outputs": [
    {
     "name": "stdout",
     "output_type": "stream",
     "text": [
      "Geoduck-transcriptome-v3.fa.zip\r\n",
      "Geoduck-transcriptome-v3.fa.zip.cpgz\r\n",
      "Panopea_generosa.scafSeq\r\n",
      "Panopea_generosa.scafSeq.zip\r\n",
      "Panopea_generosa_No-Line-Breaks.scafSeq\r\n",
      "Panopea_generosa_scaff-70k.scafSeq\r\n"
     ]
    }
   ],
   "source": [
    "ls"
   ]
  },
  {
   "cell_type": "markdown",
   "metadata": {},
   "source": [
    "---\n",
    "\n",
    "## Building a database from the _p. generosa_ genome "
   ]
  },
  {
   "cell_type": "code",
   "execution_count": 16,
   "metadata": {
    "collapsed": false
   },
   "outputs": [
    {
     "name": "stdout",
     "output_type": "stream",
     "text": [
      "\n",
      "\n",
      "Building a new DB, current time: 10/20/2016 11:29:24\n",
      "New DB name:   /Users/shlaura3/Documents/SAFS/FISH_546_Bioinformatics/546-Bioinformatics/2016-10_Geo-Ann-Project/data/Panopea_generosa_scaff-70k_db\n",
      "New DB title:  ../data/Panopea_generosa_scaff-70k.scafSeq\n",
      "Sequence type: Nucleotide\n",
      "Keep MBits: T\n",
      "Maximum file size: 1000000000B\n",
      "Adding sequences from FASTA; added 20 sequences in 0.0768011 seconds.\n"
     ]
    }
   ],
   "source": [
    "!/Applications/ncbi-blast-2.5.0+/bin/makeblastdb \\\n",
    "-in ../data/Panopea_generosa_scaff-70k.scafSeq \\\n",
    "-dbtype nucl \\\n",
    "-out ../data/Panopea_generosa_scaff-70k_db"
   ]
  },
  {
   "cell_type": "code",
   "execution_count": 17,
   "metadata": {
    "collapsed": false,
    "scrolled": true
   },
   "outputs": [
    {
     "name": "stdout",
     "output_type": "stream",
     "text": [
      "Geoduck-transcriptome-v3.fa.zip\r\n",
      "Geoduck-transcriptome-v3.fa.zip.cpgz\r\n",
      "Panopea_generosa.scafSeq\r\n",
      "Panopea_generosa.scafSeq.zip\r\n",
      "Panopea_generosa_No-Line-Breaks.scafSeq\r\n",
      "Panopea_generosa_scaff-70k.scafSeq\r\n",
      "Panopea_generosa_scaff-70k_db.nhr\r\n",
      "Panopea_generosa_scaff-70k_db.nin\r\n",
      "Panopea_generosa_scaff-70k_db.nsq\r\n"
     ]
    }
   ],
   "source": [
    "ls"
   ]
  },
  {
   "cell_type": "markdown",
   "metadata": {},
   "source": [
    "## Running `blastn`"
   ]
  },
  {
   "cell_type": "code",
   "execution_count": 20,
   "metadata": {
    "collapsed": false
   },
   "outputs": [
    {
     "name": "stdout",
     "output_type": "stream",
     "text": [
      "Error: NCBI C++ Exception:\r\n",
      "    T0 \"/Users/coremake/release_build/build/PrepareRelease_IntelMAC-Clang36_JSID_01_40204_130.14.22.10_9008__PrepareRelease_IntelMAC-Clang36_1473441060/c++/compilers/unix/../../src/objtools/readers/fasta.cpp\", line 2178: Error: ncbi::objects::CFastaReader::PostWarning() - CFastaReader: Near line 1, there's a line that doesn't look like plausible data, but it's not marked as defline or comment. (m_Pos = 1)\r\n",
      "\r\n"
     ]
    }
   ],
   "source": [
    "!/Applications/ncbi-blast-2.5.0+/bin/blastn \\\n",
    "-query ../data/Geoduck-transcriptome-v3.fa.zip.cpgz \\\n",
    "-db ../data/Panopea_generosa_scaff-70k_db \\\n",
    "-outfmt 6  \\\n",
    "-out ../analyses/pgenerosa-transcrv3-blastn-scaff70k-01.tab"
   ]
  },
  {
   "cell_type": "code",
   "execution_count": 24,
   "metadata": {
    "collapsed": false
   },
   "outputs": [
    {
     "name": "stdout",
     "output_type": "stream",
     "text": [
      "\u001f�\b\u0000\u0000\u0000\u0000\u0000\u0000\u0003�P�J�@\f",
      "���{�̴3݂�\u0005\u000f\"��ŋǴͶ�mgȤ�~��\r\n",
      "RW��/�����*�\u0012[\u0018U\u0016Ź��%��,9�>��>3�*t��*�\u001c",
      "�H]�-g{c.��w5c�\u0015e���B\u000b",
      "y�����\t����ٍ��hq\u0004�>���<�*[���zrs\f",
      "�q����\u0016��x��}����Ut\u0003�s=\u0007��M�\u0013�ƍ2�Ε���R\u000f�K;'G\b�$[`H\t�|��]E�\u000e�\r",
      "ck%T��՗���\u001f���m��wVo�������!I����\u0000����\u0000\u0002\u0000\u0000"
     ]
    }
   ],
   "source": [
    "!head -n 100 Geoduck-transcriptome-v3.fa.zip.cpgz"
   ]
  },
  {
   "cell_type": "markdown",
   "metadata": {},
   "source": [
    "### Something is not right with the transcriptome file. Turns out while unzipping it created the .cpgz zip file [interesting read on .cpgz](http://osxdaily.com/2013/02/13/open-zip-cpgz-file/). I'm going to download the .zip file again, then try to unzip at command line"
   ]
  },
  {
   "cell_type": "code",
   "execution_count": 28,
   "metadata": {
    "collapsed": false
   },
   "outputs": [
    {
     "name": "stdout",
     "output_type": "stream",
     "text": [
      "rm: Geoduck-transcriptome-v3.fa.zip: No such file or directory\r\n"
     ]
    }
   ],
   "source": [
    "!rm Geoduck-transcriptome-v3.fa.zip"
   ]
  },
  {
   "cell_type": "code",
   "execution_count": 30,
   "metadata": {
    "collapsed": false
   },
   "outputs": [
    {
     "name": "stdout",
     "output_type": "stream",
     "text": [
      "Panopea_generosa.scafSeq\r\n",
      "Panopea_generosa.scafSeq.zip\r\n",
      "Panopea_generosa_No-Line-Breaks.scafSeq\r\n",
      "Panopea_generosa_scaff-70k.scafSeq\r\n",
      "Panopea_generosa_scaff-70k_db.nhr\r\n",
      "Panopea_generosa_scaff-70k_db.nin\r\n",
      "Panopea_generosa_scaff-70k_db.nsq\r\n"
     ]
    }
   ],
   "source": [
    "ls"
   ]
  },
  {
   "cell_type": "code",
   "execution_count": 31,
   "metadata": {
    "collapsed": false
   },
   "outputs": [
    {
     "name": "stdout",
     "output_type": "stream",
     "text": [
      "  % Total    % Received % Xferd  Average Speed   Time    Time     Time  Current\n",
      "                                 Dload  Upload   Total   Spent    Left  Speed\n",
      "100   171  100   171    0     0    297      0 --:--:-- --:--:-- --:--:--   304\n"
     ]
    }
   ],
   "source": [
    "!curl -O https://github.com/sr320/paper-pano-go/raw/master/data-results/Geoduck-transcriptome-v3.fa.zip"
   ]
  },
  {
   "cell_type": "code",
   "execution_count": 4,
   "metadata": {
    "collapsed": false
   },
   "outputs": [
    {
     "name": "stdout",
     "output_type": "stream",
     "text": [
      "/Users/shlaura3/Documents/SAFS/FISH_546_Bioinformatics/546-Bioinformatics/2016-10_Geo-Ann-Project/data\n"
     ]
    }
   ],
   "source": [
    "cd ../data"
   ]
  },
  {
   "cell_type": "code",
   "execution_count": 5,
   "metadata": {
    "collapsed": false
   },
   "outputs": [
    {
     "name": "stdout",
     "output_type": "stream",
     "text": [
      "Geoduck-transcriptome-v3.fa.zip\r\n",
      "Panopea_generosa.scafSeq\r\n",
      "Panopea_generosa.scafSeq.zip\r\n",
      "Panopea_generosa_No-Line-Breaks.scafSeq\r\n",
      "Panopea_generosa_scaff-70k.scafSeq\r\n",
      "Panopea_generosa_scaff-70k_db.nhr\r\n",
      "Panopea_generosa_scaff-70k_db.nin\r\n",
      "Panopea_generosa_scaff-70k_db.nsq\r\n"
     ]
    }
   ],
   "source": [
    "ls"
   ]
  },
  {
   "cell_type": "code",
   "execution_count": 6,
   "metadata": {
    "collapsed": false
   },
   "outputs": [
    {
     "name": "stdout",
     "output_type": "stream",
     "text": [
      "Archive:  Geoduck-transcriptome-v3.fa.zip\r\n",
      "  End-of-central-directory signature not found.  Either this file is not\r\n",
      "  a zipfile, or it constitutes one disk of a multi-part archive.  In the\r\n",
      "  latter case the central directory and zipfile comment will be found on\r\n",
      "  the last disk(s) of this archive.\r\n",
      "unzip:  cannot find zipfile directory in one of Geoduck-transcriptome-v3.fa.zip or\r\n",
      "        Geoduck-transcriptome-v3.fa.zip.zip, and cannot find Geoduck-transcriptome-v3.fa.zip.ZIP, period.\r\n"
     ]
    }
   ],
   "source": [
    "!unzip Geoduck-transcriptome-v3.fa.zip"
   ]
  },
  {
   "cell_type": "markdown",
   "metadata": {
    "collapsed": true
   },
   "source": [
    "### It's clear that the file downloaded via `curl` is corrupted. I deleted it, and will download again via GUI, then `unzip` and `blast` as previously attempted"
   ]
  },
  {
   "cell_type": "code",
   "execution_count": 3,
   "metadata": {
    "collapsed": false
   },
   "outputs": [
    {
     "name": "stdout",
     "output_type": "stream",
     "text": [
      "/Users/shlaura3/Documents/SAFS/FISH_546_Bioinformatics/546-Bioinformatics/2016-10_Geo-Ann-Project/data\n"
     ]
    }
   ],
   "source": [
    "cd ../data"
   ]
  },
  {
   "cell_type": "code",
   "execution_count": 5,
   "metadata": {
    "collapsed": false
   },
   "outputs": [
    {
     "name": "stdout",
     "output_type": "stream",
     "text": [
      "Geoduck-transcriptome-v3.fa.zip\r\n",
      "Panopea_generosa.scafSeq\r\n",
      "Panopea_generosa.scafSeq.zip\r\n",
      "Panopea_generosa_No-Line-Breaks.scafSeq\r\n",
      "Panopea_generosa_scaff-70k.scafSeq\r\n",
      "Panopea_generosa_scaff-70k_db.nhr\r\n",
      "Panopea_generosa_scaff-70k_db.nin\r\n",
      "Panopea_generosa_scaff-70k_db.nsq\r\n"
     ]
    }
   ],
   "source": [
    "ls"
   ]
  },
  {
   "cell_type": "code",
   "execution_count": 6,
   "metadata": {
    "collapsed": false
   },
   "outputs": [
    {
     "name": "stdout",
     "output_type": "stream",
     "text": [
      "Archive:  Geoduck-transcriptome-v3.fa.zip\n",
      "  inflating: Geoduck-transcriptome-v3.fa  \n"
     ]
    }
   ],
   "source": [
    "!unzip Geoduck-transcriptome-v3.fa.zip"
   ]
  },
  {
   "cell_type": "markdown",
   "metadata": {},
   "source": [
    "## Running `blastn`, for real this time"
   ]
  },
  {
   "cell_type": "code",
   "execution_count": 7,
   "metadata": {
    "collapsed": false
   },
   "outputs": [
    {
     "name": "stdout",
     "output_type": "stream",
     "text": [
      "BLAST query/options error: Either a BLAST database or subject sequence(s) must be specified\r\n",
      "Please refer to the BLAST+ user manual.\r\n"
     ]
    }
   ],
   "source": [
    "!/Applications/ncbi-blast-2.5.0+/bin/blastn"
   ]
  },
  {
   "cell_type": "code",
   "execution_count": 8,
   "metadata": {
    "collapsed": true
   },
   "outputs": [],
   "source": [
    "!/Applications/ncbi-blast-2.5.0+/bin/blastn \\\n",
    "-query ../data/Geoduck-transcriptome-v3.fa \\\n",
    "-db ../data/Panopea_generosa_scaff-70k_db \\\n",
    "-outfmt 6  \\\n",
    "-out ../analyses/pgenerosa-transcrv3-blastn-scaff70k-01.tab"
   ]
  },
  {
   "cell_type": "markdown",
   "metadata": {},
   "source": [
    "**Options used**  \n",
    "`-query`: the file you wish to search within to find where nucleotide sequences match the database  \n",
    "`-db`: database file to which you are aligning your query file  \n",
    "`-outfmt 6`: output format is tabular  \n",
    "`-out`: output file name and location  "
   ]
  },
  {
   "cell_type": "code",
   "execution_count": 14,
   "metadata": {
    "collapsed": false
   },
   "outputs": [
    {
     "name": "stdout",
     "output_type": "stream",
     "text": [
      "/Users/shlaura3/Documents/SAFS/FISH_546_Bioinformatics/546-Bioinformatics/2016-10_Geo-Ann-Project/analyses\n"
     ]
    }
   ],
   "source": [
    "cd ../analyses"
   ]
  },
  {
   "cell_type": "code",
   "execution_count": 15,
   "metadata": {
    "collapsed": false
   },
   "outputs": [
    {
     "name": "stdout",
     "output_type": "stream",
     "text": [
      "pgenerosa-transcrv3-blastn-scaff70k-01.tab\r\n"
     ]
    }
   ],
   "source": [
    "ls"
   ]
  },
  {
   "cell_type": "code",
   "execution_count": 16,
   "metadata": {
    "collapsed": false
   },
   "outputs": [
    {
     "name": "stdout",
     "output_type": "stream",
     "text": [
      "comp100323_c0_seq1\tscaffold10970\t95.161\t62\t3\t0\t3\t64\t58201\t58262\t5.51e-22\t99.0\r\n",
      "comp100333_c1_seq1\tscaffold10970\t88.800\t125\t10\t3\t1\t121\t99916\t100040\t2.05e-37\t150\r\n",
      "comp100468_c0_seq1\tscaffold9504\t100.000\t28\t0\t0\t206\t233\t59077\t59104\t5.04e-08\t52.8\r\n",
      "comp101573_c0_seq1\tscaffold32578\t98.341\t422\t6\t1\t1\t422\t55507\t55927\t0.0\t739\r\n",
      "comp101587_c0_seq1\tscaffold30278\t100.000\t29\t0\t0\t275\t303\t60566\t60538\t1.86e-08\t54.7\r\n",
      "comp102059_c0_seq1\tscaffold71773\t81.875\t160\t23\t5\t1\t158\t55978\t55823\t2.38e-31\t130\r\n",
      "comp102699_c0_seq1\tscaffold15463\t86.765\t68\t9\t0\t91\t158\t6270\t6203\t2.79e-15\t76.8\r\n",
      "comp103000_c0_seq1\tscaffold59644\t98.305\t118\t2\t0\t105\t222\t2781\t2664\t9.63e-55\t207\r\n",
      "comp103462_c0_seq1\tscaffold26337\t83.784\t111\t6\t2\t156\t254\t134703\t134813\t1.03e-20\t95.3\r\n",
      "comp103462_c0_seq2\tscaffold26337\t83.784\t111\t6\t2\t185\t283\t134703\t134813\t1.14e-20\t95.3\r\n"
     ]
    }
   ],
   "source": [
    "!head pgenerosa-transcrv3-blastn-scaff70k-01.tab"
   ]
  },
  {
   "cell_type": "code",
   "execution_count": 18,
   "metadata": {
    "collapsed": false
   },
   "outputs": [
    {
     "name": "stdout",
     "output_type": "stream",
     "text": [
      "3366\r\n"
     ]
    }
   ],
   "source": [
    "! grep -c \"^comp\" pgenerosa-transcrv3-blastn-scaff70k-01.tab"
   ]
  },
  {
   "cell_type": "markdown",
   "metadata": {},
   "source": [
    "### If blasted correctly, there are 3,366 matches"
   ]
  },
  {
   "cell_type": "markdown",
   "metadata": {},
   "source": [
    "---\n",
    "\n",
    "# Blast attempt #2: re-blasting per Steven's feedback\n",
    "\n",
    "### Steven provided [video feedback](https://uw.hosted.panopto.com/Panopto/Pages/Viewer.aspx?id=f3692c33-b29b-44d9-ac2b-ac1540b518f1) of my work thus far. He suggested blasting again using modified commands, namely restricting hits with e-values < 1e-20, and allowing for mutliple hits on a contig. Here's me re-doing the blast"
   ]
  },
  {
   "cell_type": "code",
   "execution_count": 1,
   "metadata": {
    "collapsed": false
   },
   "outputs": [
    {
     "name": "stdout",
     "output_type": "stream",
     "text": [
      "BLAST query/options error: Either a BLAST database or subject sequence(s) must be specified\r\n",
      "Please refer to the BLAST+ user manual.\r\n"
     ]
    }
   ],
   "source": [
    "!/Applications/ncbi-blast-2.5.0+/bin/blastn"
   ]
  },
  {
   "cell_type": "code",
   "execution_count": 6,
   "metadata": {
    "collapsed": false
   },
   "outputs": [
    {
     "name": "stdout",
     "output_type": "stream",
     "text": [
      "[Errno 2] No such file or directory: '../data | ls'\n",
      "/Users/shlaura3/Documents/SAFS/FISH_546_Bioinformatics/546-Bioinformatics/2016-10_Geo-Ann-Project/data\n"
     ]
    }
   ],
   "source": [
    "cd ../data"
   ]
  },
  {
   "cell_type": "code",
   "execution_count": 7,
   "metadata": {
    "collapsed": false
   },
   "outputs": [
    {
     "name": "stdout",
     "output_type": "stream",
     "text": [
      "Geoduck-transcriptome-v3.fa\r\n",
      "Geoduck-transcriptome-v3.fa.zip\r\n",
      "Geoduck-transcriptome-v3.fa_db.nhr\r\n",
      "Geoduck-transcriptome-v3.fa_db.nin\r\n",
      "Geoduck-transcriptome-v3.fa_db.nsq\r\n",
      "Panopea_generosa.scafSeq\r\n",
      "Panopea_generosa.scafSeq.zip\r\n",
      "Panopea_generosa_No-Line-Breaks.scafSeq\r\n",
      "Panopea_generosa_scaff-70k.scafSeq\r\n",
      "Panopea_generosa_scaff-70k_db.nhr\r\n",
      "Panopea_generosa_scaff-70k_db.nin\r\n",
      "Panopea_generosa_scaff-70k_db.nsq\r\n",
      "Phel_countdata.txt\r\n",
      "Phel_transcriptome.fasta\r\n"
     ]
    }
   ],
   "source": [
    "ls"
   ]
  },
  {
   "cell_type": "code",
   "execution_count": 8,
   "metadata": {
    "collapsed": true
   },
   "outputs": [],
   "source": [
    "!/Applications/ncbi-blast-2.5.0+/bin/blastn \\\n",
    "-query ../data/Geoduck-transcriptome-v3.fa \\\n",
    "-db ../data/Panopea_generosa_scaff-70k_db \\\n",
    "-task blastn \\\n",
    "-evalue 1e-20 \\\n",
    "-outfmt 6 \\\n",
    "-max_target_seqs 1 \\\n",
    "-num_threads 6 \\\n",
    "-out ../analyses/pgenerosa-transcrv3-blastn-scaff70k-01.tab"
   ]
  },
  {
   "cell_type": "markdown",
   "metadata": {},
   "source": [
    "#### NOTE: Whoops, I accidentally overwrote the previous blast ouput file. Good lesson to learn eary in the game.\n",
    "\n",
    "**Options used:**  \n",
    "`-query`: the file you wish to search within to find where nucleotide sequences match the database  \n",
    "`-db`: database file to which you are aligning your query file  \n",
    "`-task blastn`: specifies nucleotide-nucleotide matching  \n",
    "`-evalue 1e-20`: Set minimum value (E) for saving hits  \n",
    "`-outfmt 6`: output to tabular format  \n",
    "`-max_target_seqs 1`: Number of aligned sequences to keep  \n",
    "`-num_threads 6`: Number of threads (CPUs) to use in blast search (aka computer power)  \n",
    "`-out`: -output file name and location  "
   ]
  },
  {
   "cell_type": "code",
   "execution_count": 9,
   "metadata": {
    "collapsed": false
   },
   "outputs": [
    {
     "name": "stdout",
     "output_type": "stream",
     "text": [
      "comp100007_c0_seq1\tscaffold26337\t70.435\t230\t44\t7\t351\t556\t55193\t55422\t2.67e-21\t98.7\r\n",
      "comp100064_c1_seq1\tscaffold71773\t82.192\t146\t23\t3\t76\t220\t36938\t36795\t2.95e-33\t136\r\n",
      "comp100102_c0_seq1\tscaffold4463\t79.444\t180\t28\t5\t1\t175\t12886\t13061\t1.82e-35\t143\r\n",
      "comp100151_c0_seq1\tscaffold34940\t79.866\t149\t29\t1\t1\t148\t28989\t28841\t1.22e-31\t131\r\n",
      "comp100168_c0_seq1\tscaffold26337\t68.222\t343\t83\t11\t412\t744\t116776\t117102\t2.22e-22\t102\r\n",
      "comp100173_c0_seq1\tscaffold19489\t76.923\t130\t20\t2\t2\t124\t30526\t30652\t2.02e-22\t100\r\n",
      "comp100177_c1_seq1\tscaffold5354\t70.279\t323\t58\t6\t5\t289\t23010\t23332\t1.72e-39\t158\r\n",
      "comp100177_c1_seq1\tscaffold5354\t74.317\t183\t28\t3\t5\t168\t31421\t31603\t1.24e-28\t122\r\n",
      "comp100181_c0_seq1\tscaffold11875\t80.583\t103\t11\t1\t232\t334\t31235\t31142\t3.35e-22\t100\r\n",
      "comp100181_c0_seq2\tscaffold11875\t80.583\t103\t11\t1\t102\t204\t31235\t31142\t1.96e-22\t100\r\n"
     ]
    }
   ],
   "source": [
    "!head ../analyses/pgenerosa-transcrv3-blastn-scaff70k-01.tab"
   ]
  },
  {
   "cell_type": "markdown",
   "metadata": {},
   "source": [
    "### How many matches do I get by adjusting the blastn options, particularly by allowing for multiple matches?: "
   ]
  },
  {
   "cell_type": "code",
   "execution_count": 11,
   "metadata": {
    "collapsed": false
   },
   "outputs": [
    {
     "name": "stdout",
     "output_type": "stream",
     "text": [
      "22781\r\n"
     ]
    }
   ],
   "source": [
    "! grep -c \"^comp\" ../analyses/pgenerosa-transcrv3-blastn-scaff70k-01.tab"
   ]
  },
  {
   "cell_type": "markdown",
   "metadata": {},
   "source": [
    "### Result: 22,781 contigs > 70k\n",
    "\n",
    "### Let's try using a different method of counting the scaffold hits:"
   ]
  },
  {
   "cell_type": "code",
   "execution_count": 18,
   "metadata": {
    "collapsed": false
   },
   "outputs": [
    {
     "name": "stdout",
     "output_type": "stream",
     "text": [
      "   22781 ../analyses/pgenerosa-transcrv3-blastn-scaff70k-01.tab\r\n"
     ]
    }
   ],
   "source": [
    "!wc -l ../analyses/pgenerosa-transcrv3-blastn-scaff70k-01.tab"
   ]
  },
  {
   "cell_type": "markdown",
   "metadata": {},
   "source": [
    "--- \n",
    "\n",
    "# Making blastn results visible on Integrated Genomics Viewer (IGV)\n",
    "\n",
    "### Steven used a perl script file to transform the .tab blast output to gff for visualization, so I will do the same"
   ]
  },
  {
   "cell_type": "code",
   "execution_count": 19,
   "metadata": {
    "collapsed": false
   },
   "outputs": [
    {
     "name": "stdout",
     "output_type": "stream",
     "text": [
      "/Users/shlaura3/Documents/SAFS/FISH_546_Bioinformatics/546-Bioinformatics/2016-10_Geo-Ann-Project/scripts\n"
     ]
    }
   ],
   "source": [
    "cd ../scripts"
   ]
  },
  {
   "cell_type": "markdown",
   "metadata": {},
   "source": [
    "### Downloading the perl script from Steven's GitHub"
   ]
  },
  {
   "cell_type": "code",
   "execution_count": 22,
   "metadata": {
    "collapsed": false
   },
   "outputs": [
    {
     "name": "stdout",
     "output_type": "stream",
     "text": [
      "  % Total    % Received % Xferd  Average Speed   Time    Time     Time  Current\n",
      "                                 Dload  Upload   Total   Spent    Left  Speed\n",
      "100  7427  100  7427    0     0   4376      0  0:00:01  0:00:01 --:--:--  233k\n"
     ]
    }
   ],
   "source": [
    "!curl -O https://raw.githubusercontent.com/sr320/student-fish546-2016/master/scripts/2_Blast2Gff.pl "
   ]
  },
  {
   "cell_type": "markdown",
   "metadata": {
    "collapsed": false
   },
   "source": [
    "### Running the Blast2Gff script to convert blastn results from .tab to .gff "
   ]
  },
  {
   "cell_type": "code",
   "execution_count": 23,
   "metadata": {
    "collapsed": true
   },
   "outputs": [],
   "source": [
    "!perl ../scripts/2_Blast2Gff.pl \\\n",
    "-i ../analyses/pgenerosa-transcrv3-blastn-scaff70k-01.tab \\\n",
    "-s \"something\" \\\n",
    "-o ../analyses/pgenerosa-transcrv3-blastn-scaff70k-01.gff \\\n",
    "-p \"gene-blast\" \\\n",
    "-d \"geoduck-scaff-70k\""
   ]
  },
  {
   "cell_type": "markdown",
   "metadata": {},
   "source": [
    "**Option used:**  \n",
    "`-i`: Full path to the BLAST output file, aka input file for this script.  \n",
    "`-s`: From script: \".\" Not sure what this is; perhaps it means to work in existing directory.  \n",
    "`-o`: Full path for the outputted GFF formated file. Default is the intput file path with gff extension.  \n",
    "`-p`: Blast program used. Default is blastn.  \n",
    "`-d`: Blast database that was blasted against. This is required.  \n",
    "For more options, [see script](https://github.com/laurahspencer/546-Bioinformatics/blob/master/2016-10_Geo-Ann-Project/scripts/2_Blast2Gff.pl). "
   ]
  },
  {
   "cell_type": "code",
   "execution_count": 24,
   "metadata": {
    "collapsed": false
   },
   "outputs": [
    {
     "name": "stdout",
     "output_type": "stream",
     "text": [
      "scaffold26337\tblastn:geoduck-scaff-70k\tblastn\t55193\t55422\t2.67e-21\t+\t.\tcomp100007_c0_seq1\t\r\n",
      "scaffold71773\tblastn:geoduck-scaff-70k\tblastn\t36938\t36795\t2.95e-33\t-\t.\tcomp100064_c1_seq1\t\r\n",
      "scaffold4463\tblastn:geoduck-scaff-70k\tblastn\t12886\t13061\t1.82e-35\t+\t.\tcomp100102_c0_seq1\t\r\n",
      "scaffold34940\tblastn:geoduck-scaff-70k\tblastn\t28989\t28841\t1.22e-31\t-\t.\tcomp100151_c0_seq1\t\r\n",
      "scaffold26337\tblastn:geoduck-scaff-70k\tblastn\t116776\t117102\t2.22e-22\t+\t.\tcomp100168_c0_seq1\t\r\n",
      "scaffold19489\tblastn:geoduck-scaff-70k\tblastn\t30526\t30652\t2.02e-22\t+\t.\tcomp100173_c0_seq1\t\r\n",
      "scaffold5354\tblastn:geoduck-scaff-70k\tblastn\t23010\t23332\t1.72e-39\t+\t.\tcomp100177_c1_seq1\t\r\n",
      "scaffold5354\tblastn:geoduck-scaff-70k\tblastn\t31421\t31603\t1.24e-28\t+\t.\tcomp100177_c1_seq1\t\r\n",
      "scaffold11875\tblastn:geoduck-scaff-70k\tblastn\t31235\t31142\t3.35e-22\t-\t.\tcomp100181_c0_seq1\t\r\n",
      "scaffold11875\tblastn:geoduck-scaff-70k\tblastn\t31235\t31142\t1.96e-22\t-\t.\tcomp100181_c0_seq2\t\r\n"
     ]
    }
   ],
   "source": [
    "!head ../analyses/pgenerosa-transcrv3-blastn-scaff70k-01.gff"
   ]
  },
  {
   "cell_type": "markdown",
   "metadata": {},
   "source": [
    "### confirming same # of lines, should still be 22781"
   ]
  },
  {
   "cell_type": "code",
   "execution_count": 27,
   "metadata": {
    "collapsed": false
   },
   "outputs": [
    {
     "name": "stdout",
     "output_type": "stream",
     "text": [
      "   22781 ../analyses/pgenerosa-transcrv3-blastn-scaff70k-01.gff\r\n"
     ]
    }
   ],
   "source": [
    "!wc -l ../analyses/pgenerosa-transcrv3-blastn-scaff70k-01.gff"
   ]
  },
  {
   "cell_type": "markdown",
   "metadata": {},
   "source": [
    "### In comparison, the total genome file has the following number of scaffolds "
   ]
  },
  {
   "cell_type": "code",
   "execution_count": 33,
   "metadata": {
    "collapsed": false
   },
   "outputs": [
    {
     "name": "stdout",
     "output_type": "stream",
     "text": [
      "1296135\r\n"
     ]
    }
   ],
   "source": [
    "! grep -c \"^>\" ../data/Panopea_generosa.scafSeq"
   ]
  },
  {
   "cell_type": "markdown",
   "metadata": {},
   "source": [
    "\n",
    "## Loaded file into the IGV [software tool](http://software.broadinstitute.org/software/igv/feature_track_options) to get a visual of the scaffolds and where transcriptome matches are located**\n",
    "\n",
    "All 20 scaffolds:\n",
    "\n",
    "![All scaffolds](../images/2016-11-3_Feature-track-all-scaffolds.png)\n",
    "\n",
    "Scaffold # 71773\n",
    "\n",
    "![Scaffold 71773](../images/2016-11-3_feature-track-scaff71773.png)"
   ]
  }
 ],
 "metadata": {
  "anaconda-cloud": {},
  "kernelspec": {
   "display_name": "Python [default]",
   "language": "python",
   "name": "python3"
  },
  "language_info": {
   "codemirror_mode": {
    "name": "ipython",
    "version": 3
   },
   "file_extension": ".py",
   "mimetype": "text/x-python",
   "name": "python",
   "nbconvert_exporter": "python",
   "pygments_lexer": "ipython3",
   "version": "3.5.2"
  }
 },
 "nbformat": 4,
 "nbformat_minor": 1
}
