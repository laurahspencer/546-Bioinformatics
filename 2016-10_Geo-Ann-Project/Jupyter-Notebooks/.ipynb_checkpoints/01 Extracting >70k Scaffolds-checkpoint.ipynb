{
 "cells": [
  {
   "cell_type": "code",
   "execution_count": 32,
   "metadata": {
    "collapsed": false
   },
   "outputs": [
    {
     "name": "stdout",
     "output_type": "stream",
     "text": [
      "Tue Nov  1 13:39:32 PDT 2016\n",
      "Software:\n",
      "\n",
      "    System Software Overview:\n",
      "\n",
      "      System Version: OS X 10.11.6 (15G1004)\n",
      "      Kernel Version: Darwin 15.6.0\n",
      "      Boot Volume: Peach Macbook\n",
      "      Boot Mode: Normal\n",
      "      Computer Name: laura spencer’s MacBook Pro\n",
      "      User Name: laura spencer (shlaura3)\n",
      "      Secure Virtual Memory: Enabled\n",
      "      System Integrity Protection: Enabled\n",
      "      Time since boot: 11 days 14:29\n",
      "\n"
     ]
    }
   ],
   "source": [
    "# DATE:\n",
    "!date \\\n",
    "\n",
    "# SYSTEM INFO:\n",
    "! system_profiler SPSoftwareDataType"
   ]
  },
  {
   "cell_type": "markdown",
   "metadata": {
    "collapsed": true
   },
   "source": [
    "# Getting my bearings:  exploring geoduck data\n",
    "### Steven & Brent [sampled geoduck in 2015](http://onsnetwork.org/halfshell/2015/08/11/big-day-big-clam/); this is me getting a glimpse of the raw data of said _p. generosa_ genome; BGI did the sequencing, and the files are [here](http://owl.fish.washington.edu/P_generosa_genome_assemblies_BGI/20160512/). "
   ]
  },
  {
   "cell_type": "code",
   "execution_count": 4,
   "metadata": {
    "collapsed": false,
    "scrolled": true
   },
   "outputs": [
    {
     "name": "stdout",
     "output_type": "stream",
     "text": [
      "  % Total    % Received % Xferd  Average Speed   Time    Time     Time  Current\n",
      "                                 Dload  Upload   Total   Spent    Left  Speed\n",
      "  0     0    0     0    0     0      0      0 --:--:--  0:00:02 --:--:--     0>scaffold1 26.6\n",
      "ACTAACAGACGATCATTAAATACAGTCATACAGAGCAAATGAATTAAGCAATAACCTTGTCTTTAAAGGCCACTTTTGCTCATTCCCTtgtcttgctgct\n",
      "taaaacaagcttgactgtagatgtatccttaaaggctctcacaaagcattataaccgttatatcaattcattctatgatgctttaGCCCTTTACTCCATA\n",
      "CATACGTGTTTTCCCGCACCAATCACAGAAtgcctttagaaactgttttccactctgtcagttaatataaacataagttacccaataattcaaaagccat\n",
      "ctatattagaggtgtccaaaggcgtctctattaggtgtccaaaggcgtcgatatgaagtaaagggttaaatcaaTTTTTTGTAACCCCATCTGTTAATAT\n",
      "ACATATATCTAGCTGATGTAATTTACTATGACCTTAAAATGATTTTCGTAAACTCAGTAAAGCTCATTTTAACAAGTTTGCAAAATATATATTATGCAAG\n",
      "GCTGTGTCGGGCATTATATCATTTTTTGCCAATGAGTTGAATAAATTTATCATTGACTTTAAAAAGGTTTCCATCTATCTTAGAAATAGATATGACGGAC\n",
      "ACTATGGTTTTACCATGACAAGTCAACaaatcgttatcatgtaccattaaatctgatactatattggttttccaggaaattgttttaattccatggcact\n",
      "cgtaaatattCACTTGTTTTCTGATGTAACTTGTTTTTGTTGTTTTTTCAGCCTGAATATAGATAACTATAACNGTTATCATGTACCATTAAATCTGATA\n",
      "CTATATTGGTTTTCCAGGAAATTGTTTTAATTCCATGGCACTCGTAAatattcacttgttttctgatgtaacttgtttttgttgttttttcagcctgaat\n",
      "  0 1276M    0 43899    0     0  18940      0 19:38:15  0:00:02 19:38:13 19020\n",
      "curl: (23) Failed writing body (0 != 11584)\n"
     ]
    }
   ],
   "source": [
    "! curl http://owl.fish.washington.edu/P_generosa_genome_assemblies_BGI/20160512/Panopea_generosa.scafSeq \\\n",
    "| head "
   ]
  },
  {
   "cell_type": "markdown",
   "metadata": {},
   "source": [
    "## Prepping directory folders"
   ]
  },
  {
   "cell_type": "code",
   "execution_count": 1,
   "metadata": {
    "collapsed": false,
    "scrolled": true
   },
   "outputs": [
    {
     "data": {
      "text/plain": [
       "'/Users/shlaura3/Documents/SAFS/FISH_546_Bioinformatics/546-Bioinformatics/2016-10_Geo-Ann-Project/Jupyter'"
      ]
     },
     "execution_count": 1,
     "metadata": {},
     "output_type": "execute_result"
    }
   ],
   "source": [
    "pwd"
   ]
  },
  {
   "cell_type": "code",
   "execution_count": 2,
   "metadata": {
    "collapsed": false
   },
   "outputs": [
    {
     "name": "stdout",
     "output_type": "stream",
     "text": [
      "/Users/shlaura3/Documents/SAFS/FISH_546_Bioinformatics/546-Bioinformatics/2016-10_Geo-Ann-Project\n"
     ]
    }
   ],
   "source": [
    "cd .."
   ]
  },
  {
   "cell_type": "code",
   "execution_count": 3,
   "metadata": {
    "collapsed": false
   },
   "outputs": [
    {
     "name": "stdout",
     "output_type": "stream",
     "text": [
      "\u001b[34mJupyter\u001b[m\u001b[m/\r\n"
     ]
    }
   ],
   "source": [
    "ls"
   ]
  },
  {
   "cell_type": "code",
   "execution_count": 6,
   "metadata": {
    "collapsed": false
   },
   "outputs": [
    {
     "name": "stdout",
     "output_type": "stream",
     "text": [
      "mkdir: data/: File exists\r\n"
     ]
    }
   ],
   "source": [
    "mkdir data/ analyses/ scripts/"
   ]
  },
  {
   "cell_type": "code",
   "execution_count": 7,
   "metadata": {
    "collapsed": false
   },
   "outputs": [
    {
     "name": "stdout",
     "output_type": "stream",
     "text": [
      "\u001b[34mJupyter\u001b[m\u001b[m/  \u001b[34manalyses\u001b[m\u001b[m/ \u001b[34mdata\u001b[m\u001b[m/     \u001b[34mscripts\u001b[m\u001b[m/\r\n"
     ]
    }
   ],
   "source": [
    "ls"
   ]
  },
  {
   "cell_type": "code",
   "execution_count": 8,
   "metadata": {
    "collapsed": false
   },
   "outputs": [
    {
     "name": "stdout",
     "output_type": "stream",
     "text": [
      "/Users/shlaura3/Documents/SAFS/FISH_546_Bioinformatics/546-Bioinformatics/2016-10_Geo-Ann-Project/data\n"
     ]
    }
   ],
   "source": [
    "cd data/"
   ]
  },
  {
   "cell_type": "markdown",
   "metadata": {},
   "source": [
    "## Downloading geoduck genome file into local directory"
   ]
  },
  {
   "cell_type": "code",
   "execution_count": 10,
   "metadata": {
    "collapsed": false
   },
   "outputs": [
    {
     "name": "stdout",
     "output_type": "stream",
     "text": [
      "/bin/sh: wget: command not found\r\n"
     ]
    }
   ],
   "source": [
    "!wget http://owl.fish.washington.edu/P_generosa_genome_assemblies_BGI/20160512/Panopea_generosa.scafSeq"
   ]
  },
  {
   "cell_type": "markdown",
   "metadata": {},
   "source": [
    "_**Interesting note: the command `wget` is not installed on Macs**_"
   ]
  },
  {
   "cell_type": "code",
   "execution_count": 3,
   "metadata": {
    "collapsed": false
   },
   "outputs": [
    {
     "name": "stdout",
     "output_type": "stream",
     "text": [
      "  % Total    % Received % Xferd  Average Speed   Time    Time     Time  Current\n",
      "                                 Dload  Upload   Total   Spent    Left  Speed\n",
      "100  350M  100  350M    0     0  8328k      0  0:00:43  0:00:43 --:--:-- 9651k\n"
     ]
    }
   ],
   "source": [
    "!curl -O http://owl.fish.washington.edu/P_generosa_genome_assemblies_BGI/20160512/Panopea_generosa.scafSeq.zip"
   ]
  },
  {
   "cell_type": "markdown",
   "metadata": {},
   "source": [
    "**Notes:**  \n",
    "* Remember to use `!` before all commands (except for `cd` `pwd` `ls` etc.?)  \n",
    "* -o (lowercase o) the result will be saved in the filename provided in the command line  \n",
    "* -O (uppercase O) the filename in the URL will be taken and it will be used as the filename to store the result\n",
    "* Helpful `curl` tips: http://www.thegeekstuff.com/2012/04/curl-examples/"
   ]
  },
  {
   "cell_type": "code",
   "execution_count": 32,
   "metadata": {
    "collapsed": false
   },
   "outputs": [
    {
     "name": "stdout",
     "output_type": "stream",
     "text": [
      "Panopea_generosa.scafSeq      Panopea_generosa.scafSeq.zip\r\n"
     ]
    }
   ],
   "source": [
    "ls"
   ]
  },
  {
   "cell_type": "markdown",
   "metadata": {},
   "source": [
    "---\n",
    "\n",
    "## Subsetting only >70k bp scaffolds in genome\n",
    "\n",
    "**Steven suggested paring this data down to only very large scaffolds, such as on those >70k. The following workflow, borrowed from [Steven's notebook](https://sr320.github.io/student-fish546-2016/data-description/), extracts only >70k scaffolds**"
   ]
  },
  {
   "cell_type": "markdown",
   "metadata": {},
   "source": [
    "**First, how many scaffolds do I have?**"
   ]
  },
  {
   "cell_type": "code",
   "execution_count": 7,
   "metadata": {
    "collapsed": false
   },
   "outputs": [
    {
     "name": "stdout",
     "output_type": "stream",
     "text": [
      "1296135\r\n"
     ]
    }
   ],
   "source": [
    "! grep -c \"^>\" ../data/Panopea_generosa.scafSeq"
   ]
  },
  {
   "cell_type": "markdown",
   "metadata": {},
   "source": [
    "**Answer: 1,296,135 scaffolds** "
   ]
  },
  {
   "cell_type": "code",
   "execution_count": 10,
   "metadata": {
    "collapsed": true
   },
   "outputs": [],
   "source": [
    "!awk '!/^>/ { next } { getline seq } length(seq) >= 70000 { print $0 \"\\n\" seq }' \\\n",
    "../data/Panopea_generosa.scafSeq > ../data/Panopea_generosa_scaff-70k.scafSeq"
   ]
  },
  {
   "cell_type": "code",
   "execution_count": 11,
   "metadata": {
    "collapsed": false
   },
   "outputs": [
    {
     "name": "stdout",
     "output_type": "stream",
     "text": [
      "Panopea_generosa.scafSeq            Panopea_generosa_scaff-70k.scafSeq\r\n",
      "Panopea_generosa.scafSeq.zip\r\n"
     ]
    }
   ],
   "source": [
    "ls"
   ]
  },
  {
   "cell_type": "code",
   "execution_count": 16,
   "metadata": {
    "collapsed": false
   },
   "outputs": [
    {
     "name": "stdout",
     "output_type": "stream",
     "text": [
      "       0       0       0 Panopea_generosa_scaff-70k.scafSeq\r\n"
     ]
    }
   ],
   "source": [
    "! wc Panopea_generosa_scaff-70k.scafSeq"
   ]
  },
  {
   "cell_type": "markdown",
   "metadata": {},
   "source": [
    "**Hmm... the new file doesn't contain anything; turns out this is because there are \"hard line-breaks\" within scaffolds, so the search isn't finding any super long contigs. Now using a script (from Steven) to remove these line breaks:**"
   ]
  },
  {
   "cell_type": "code",
   "execution_count": 20,
   "metadata": {
    "collapsed": true
   },
   "outputs": [],
   "source": [
    "!awk '!/^>/ { printf \"%s\", $0; n = \"\\n\" } /^>/ { print n $0; n = \"\" } END { printf \"%s\", n }' \\\n",
    "../data/Panopea_generosa.scafSeq > ../data/Panopea_generosa_No-Line-Breaks.scafSeq"
   ]
  },
  {
   "cell_type": "code",
   "execution_count": 14,
   "metadata": {
    "collapsed": false
   },
   "outputs": [
    {
     "name": "stdout",
     "output_type": "stream",
     "text": [
      ">scaffold1 26.6\r\n",
      "ACTAACAGACGATCATTAAATACAGTCATACAGAGCAAATGAATTAAGCAATAACCTTGTCTTTAAAGGCCACTTTTGCTCATTCCCTtgtcttgctgcttaaaacaagcttgactgtagatgtatccttaaaggctctcacaaagcattataaccgttatatcaattcattctatgatgctttaGCCCTTTACTCCATACATACGTGTTTTCCCGCACCAATCACAGAAtgcctttagaaactgttttccactctgtcagttaatataaacataagttacccaataattcaaaagccatctatattagaggtgtccaaaggcgtctctattaggtgtccaaaggcgtcgatatgaagtaaagggttaaatcaaTTTTTTGTAACCCCATCTGTTAATATACATATATCTAGCTGATGTAATTTACTATGACCTTAAAATGATTTTCGTAAACTCAGTAAAGCTCATTTTAACAAGTTTGCAAAATATATATTATGCAAGGCTGTGTCGGGCATTATATCATTTTTTGCCAATGAGTTGAATAAATTTATCATTGACTTTAAAAAGGTTTCCATCTATCTTAGAAATAGATATGACGGACACTATGGTTTTACCATGACAAGTCAACaaatcgttatcatgtaccattaaatctgatactatattggttttccaggaaattgttttaattccatggcactcgtaaatattCACTTGTTTTCTGATGTAACTTGTTTTTGTTGTTTTTTCAGCCTGAATATAGATAACTATAACNGTTATCATGTACCATTAAATCTGATACTATATTGGTTTTCCAGGAAATTGTTTTAATTCCATGGCACTCGTAAatattcacttgttttctgatgtaacttgtttttgttgttttttcagcctgaatatagataactataacATGTTACTAGGAATGGGGTTCCCTAAGGGAGCTTCAGAAGAGGCACTCAGACAGGGAAACAATGATGTCAATCTGGCACTTGAGGTAGGCAGATACTTTATGTAGAATGTAAGATAACAGGATTGCCTTGTTACTTACATGTATTGAAAATTCTGGTTTTATATTTTAGATAAAGTCTTGGTCATTTATAGACATTGATATGACCACTACTGCCTGATTGAATAAAGGAGTGCGTGGTCCAGCAGTTGAGCATCAGACCCAGGATCTGAGGGTCATGGGNNNNNNNNNNNNNNNNNNNNNNNNNNNNNNNNNNNNNNNNNNNNNNNNNNNNNNNNNNNNNNNNNNNNNNNNNNNNNNNNNNNNNNNNNNNNNNNNNNNNNNNNNNNNNNNNNNNNNNNNNNNNNNNNNNNNNNNNNNNNNNNNNNNNNNNNNNNNNNNNNNNNNNNNNNNNNNNNNNNNNNNNNNCATACACAGATGGTAAACCACCATGCCCACTCACATTATACTGACACCTGACCCATTTAAGGTTACACCTGACAAATCTGTTATGGAACTATTGGCTTGATGGGATGTAAAATTCCAGTCGCCTGCTCACCATGGGGACTAGATTTAATTTCGGGCAACTTTGAAATTGTAAATGGTTGCCCAATTGGGCGACTGCATTTTGGCAgtagctaatcattaagaATTAAAATTTTAAATACAGTAGAAATTCGTTATTTCGAATACCGTGGGACtgtaaaaataattcgaaatatccggatttcgatttatcaggagtttTTACCTTTTATATTTTACCTTTGTGCATCTTTTCATCGTTACCTCAcccacttcataaatcattgaaaataaatgtgtacatgtaaatacctatatttgttgtttttttactcaatataacacattgttgttatatttacacacgatataaactttgtttatatggatgtgtactGTGGAGTGATCTTAAATTGTGGTAAATTCTACTGTTTNNNNNNNNNNNNNNNNNNNNNNNNNNNNNNNNNNNNNNNNNNNNNNNNNNNNNNNNNNNNNNNNNNNNNNNNNNNNNNNNNNNNNNNNNNNNNNNNNNNNNNNNNNNNNNNNNNNNNNNNNNNNNNNNNNNNNNNNNNNNNNNNNNNNNNNNNNNNNNNCAATATTTACGCAAATATGCTAGATGTCAATTAGTGTTTGATTTCGTTCACTCAattttccttgttatcTTATTAACCCAAACAAGCAGCAGCATTTTTTGCCTGATTAGCGTGTGCCTCGCTTGTGTTTGTATCATAACAATTTGATgacccaattaacttacctgccagtacagatacatgaagtgataaattactggtacaggtatgggatcagcaattatcaccttcggcagttttcctctaagcttcgcgcagtgataaaaaaattcgaaataacgagtgagaaatcaatagattttaatatggagggaccgaaaaaGGAACAGAAATTCAAATTTGAGATAACCGTAATTTCGAAATaaaagagttcgagttggtgagtaacaactgtagttacatattttggccgtagcaatacatttaaattttgaaaaaaagttataattagtcaaaagcaaaaaatacctacattaaAATCAGTTTTACAATTTGTAGTCAATTTTAGCGCACATGCAGTTGCTAGGTAATCGAGCAGACTGTGCTTCCTCTTACGAAAATCAACTGTATTACTTTACTCAaaatatttgtaacccaCTATAAAGTAGATATTATGACAGCACATGTTTATATTAGCACTGTTTGGTTTCTTGGGAACCTGTCACTAATGTCAAAACAACATATCAGCTCGATATTatgcataaacttccgctggaggtggtgacagtgaaaggagagagATATAGAAAGATTGGCAACAGGCAGAGAAGCATAAGATAAAGTAAAGAGAATATGACATGATAAAAAAACGCGAGAGGTAATCAAATGGAATTTAGGTCAACacattttcggatgcaaaagacccctgttcatagcgaaaatgaatacacatggttatgataatatatataacttatcatatctttatataattgctgtaaagttgattgattgattgaatatttagtgtcatttttattccatcgagggctaacagatgatCAGTTAACCCGATTAGCTCAGTCGGTTAcgcgtctgactatcaatcctggggtcgtgagtttgaatccccgaccggcaacagtctccgagatgattgatatacgactCTATGTCTCACTACTCTCTTACTGCTGATTAAAGTGGGAAAGTTANNNNNNNNNNNNNNNNNNNNNNNNNNNNNNNNNNNNNNNNNNNNNNNNNNNNNNNNNNNNNNNNNNNNNNNNNNNNNNNNNNNNNNNNNNNNNNNNNNNNNNNNNNNNNNNNNNNNNNNNNNNNNNNNNNNNNNNNNNNNNNNNNNNNNNNNNNNNNNNNNNNNNNNNNNNNNNNNNNNNNNNNNNNNNNNNNNNNNNNNNNNNNNNNNNNNNNNNNNNNNNNNNNNNNNNNNNNNNNNNNNNNNNNNNNNNNNNNNNNNNNNNNNNNNNNNNNNNNNNNNNNNNNNNNNNNNNNNNNNNNNNNNNNNNNNNNNNNNNNNNNNNNNNNNNNNNNNNNNNNNNNNNNNNNNNNNNNNNNNNNNNNNNNNNNNNNNAAAACAATACTAGGTATTCCCATCAAATACATGGCTACTTGTTGTAACATAAAGAGCTAGGTCTTACATACTGTCTTACATACTGTCTGTGTATTTCATGCACATCGTTGGAACAATTTATTGAAATTTATATATTTTGCCTtcGAACTTCGAGTAAATTCTTAACTTTCATACATCATGACTTTTAATTGCAGACAACTGATAAATCATTAGTATAACTAAGATTGTTAAATTGTATTAAATCAATAATTATTAACTTTATTTACTTCTCTGATAATATTTTTTATTATTTTCACCATTTTGCCCAGAATGAGTGTCTCGATTTAGTTTTTTTTTTAATGATTAGATGTAGGTTCAAACAAGTTTCACAGTTAGTGTTTTGGTTCGGTCTGCATTGACAATTCAATTTTAATTT\r\n",
      ">scaffold2 29.5\r\n",
      "TAAATGACGTCGATTTGTCGTGGTAAAATGACGGTATTTTGAGACTTTATGTCATATGACTAATGACAGAAACATTTATGCCGAACGTTTTGTCGTTCCTAATAGAAATGACATGTTTTATTTTCTCTAGTTACGTAAGAAAGCCAATCTTATATTCGTGTTCATTTATTCTTTAATTTACTATTTAATTCGACAGAACCTCGCATAATATATTTTTCAAACTCTTTTAATAAATTGGATATAACATGAGCACCCATGTAAGATCTTCTATTTATAAAATTAGTGGTGGTATCATGGTTTGAAAAAACACTCTTTAAAATAAGTACAACCAAATCCGTGTAAGCGGTCACCTCTATTAAggagccacgtgtcttcagcagccatatGTTAAATTCCCATTTCTATGCTTATCAAACAACACCTTATCTTAAATGGACACCTTTGCTCCTCCCTGTGACTAGCTGCTTAACACAGATTAGACTGTATATCTATTATTACAAAGATGAAAAATTATAAAACTAAAATGTGTTTAACATCATGTTAAAAAAGACATATAGACGACTTAGGGTGCCTTTTCAATCAATAACCAAATTGAATGTTATTCCCTATTCCAAAATGGAAACGAAATTAAGGTAGTTCCCTTTAAGACTATGTAACATTAAATCTATATAAACATTAACTTTGTGGGTGTATAACGTAGGACTCGTTACAACTACACTTCAAGACAAGTGTATTTCTTATTTAACACAGTAGCTATCACAGTAAATTAAACATACTTGGAACTTAAAGCTTAACAGTTATATTCCTCCAGTTGGTCGTAACAATATTTTACAGCTTTGTACTCACTTTATCTATTTTTATTGCCAATAACATAAACAAAATATGAAACTTGAGCACATGAAATATTCACTTTTAAGTCACAAAGGCGTTACATAATCTGTTTTATATAAAAATAAATATGTAAATTATGATATCAATGTTACTTGAGCAAAGGTGCATTAATAGCAATTTAAACAAAACATAACTTGATTTACTAAGTCCATATATTACCGTAAACAATACATTCGTTCTAAATTGAATGGACTTTATAAAGATGAGCATTCCATTAGTATACAAGGAATTTATTATACCACCATATCTGATACGTCAATATGCTAATTATATATACAT\r\n",
      ">scaffold3 33.1\r\n"
     ]
    }
   ],
   "source": [
    "!head -n 5 ../data/Panopea_generosa_No-Line-Breaks.scafSeq"
   ]
  },
  {
   "cell_type": "markdown",
   "metadata": {},
   "source": [
    "**Looks like ALL line breaks have gone away now, b/c when I ask for the first 5 lines it produces many more. I'll try the >70k script again, see what happens**"
   ]
  },
  {
   "cell_type": "code",
   "execution_count": 23,
   "metadata": {
    "collapsed": true
   },
   "outputs": [],
   "source": [
    "!awk '!/^>/ { next } { getline seq } length(seq) >= 70000 { print $0 \"\\n\" seq }' \\\n",
    "../data/Panopea_generosa_No-Line-Breaks.scafSeq > ../data/Panopea_generosa_scaff-70k.scafSeq"
   ]
  },
  {
   "cell_type": "code",
   "execution_count": 25,
   "metadata": {
    "collapsed": false
   },
   "outputs": [
    {
     "name": "stdout",
     "output_type": "stream",
     "text": [
      "20\r\n"
     ]
    }
   ],
   "source": [
    "! grep -c \"^>\" ../data/Panopea_generosa_scaff-70k.scafSeq"
   ]
  },
  {
   "cell_type": "markdown",
   "metadata": {},
   "source": [
    "**Great! I've subselected the largest 20 scaffolds (from ~1.3M)**  \n",
    "The new data file with only >70k scaffolds is called Panopea_generosa_scaff-70k.scafSeq"
   ]
  }
 ],
 "metadata": {
  "anaconda-cloud": {},
  "kernelspec": {
   "display_name": "Python [default]",
   "language": "python",
   "name": "python3"
  },
  "language_info": {
   "codemirror_mode": {
    "name": "ipython",
    "version": 3
   },
   "file_extension": ".py",
   "mimetype": "text/x-python",
   "name": "python",
   "nbconvert_exporter": "python",
   "pygments_lexer": "ipython3",
   "version": "3.5.2"
  }
 },
 "nbformat": 4,
 "nbformat_minor": 1
}
