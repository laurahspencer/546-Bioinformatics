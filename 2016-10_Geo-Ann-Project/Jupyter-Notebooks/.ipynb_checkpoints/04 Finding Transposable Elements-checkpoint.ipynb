{
 "cells": [
  {
   "cell_type": "code",
   "execution_count": 2,
   "metadata": {
    "collapsed": false,
    "scrolled": true
   },
   "outputs": [
    {
     "name": "stdout",
     "output_type": "stream",
     "text": [
      "Software:\r\n",
      "\r\n",
      "    System Software Overview:\r\n",
      "\r\n",
      "      System Version: OS X 10.11.6 (15G1108)\r\n",
      "      Kernel Version: Darwin 15.6.0\r\n",
      "      Boot Volume: Peach Macbook\r\n",
      "      Boot Mode: Normal\r\n",
      "      Computer Name: laura spencer’s MacBook Pro\r\n",
      "      User Name: laura spencer (shlaura3)\r\n",
      "      Secure Virtual Memory: Enabled\r\n",
      "      System Integrity Protection: Enabled\r\n",
      "      Time since boot: 2 days 4:27\r\n",
      "\r\n"
     ]
    }
   ],
   "source": [
    "# SYSTEM INFO:\n",
    "! system_profiler SPSoftwareDataType"
   ]
  },
  {
   "cell_type": "markdown",
   "metadata": {},
   "source": [
    "---\n",
    "\n",
    "# Identifying transposable elements"
   ]
  },
  {
   "cell_type": "markdown",
   "metadata": {},
   "source": [
    "To identify transposable elements in my genome scaffolds I will use the RepeatMasker program. RepeatMasker requires Linux operating system and several dependencies. The RepeatMasker download page provided very clear instructions for install and configure.\n",
    "\n",
    "* [Install RepeatMasker etc.](https://seanb80.github.io/blog/2016/11/04/Installing-RepeatMasker)  \n",
    "  * Installed [RMBlast](http://www.repeatmasker.org/RMBlast.html) (NCBI Blast modified for use with RepeatMasker/RepeatModeler): \n",
    "    * RMBlast Binaries: ftp://ftp.ncbi.nlm.nih.gov/blast/executables/rmblast/2.2.28\n",
    "    * BLAST+ Binaries: ftp://ftp.ncbi.nlm.nih.gov/blast/executables/blast+/2.2.28/\n",
    "  * [Installed TRF - Tandem Repeat Finder](http://tandem.bu.edu/trf/trf.html). Version: [Tandem Repeats Finder 4.09 for 64 bit Mac OS X](http://tandem.bu.edu/trf/trf409.macosx.download.html)\n",
    "  * Installed [RepBase](http://www.girinst.org) for RepeatMasker, database of transposable elements: [repeatmaskerlibraries-20160829.tar.gz (69.69 MB)](http://www.girinst.org/server/RepBase/index.php)\n",
    "  \n",
    "For a detailed view of the installation and configure process, see Sean's [Nov. 4 2016 blog post](https://seanb80.github.io/blog/2016/11/04/Installing-RepeatMasker). I found this very helpful to walk me through the process. \n",
    "\n",
    "### Running RepeatMasker on Geoduck genome - 70k Scaffolds\n",
    "\n",
    "RepeatMasker does the following: \n",
    "\n",
    "_RepeatMasker is a program that screens DNA sequences for interspersed repeats and low complexity DNA sequences. The output of the program is a detailed annotation of the repeats that are present in the query sequence as well as a modified version of the query sequence in which all the annotated repeats have been masked (default: replaced by Ns)._ -[RepeatMasker website](http://www.repeatmasker.org/webrepeatmaskerhelp.html)\n",
    "\n",
    "I will follow another [blogpost by Sean](https://seanb80.github.io/blog/2016/11/11/Running-Repeat-Masker-on-Oly-10K-scaffold)."
   ]
  },
  {
   "cell_type": "code",
   "execution_count": 2,
   "metadata": {
    "collapsed": false
   },
   "outputs": [
    {
     "data": {
      "text/plain": [
       "'/Users/shlaura3/Documents/SAFS/FISH_546_Bioinformatics/546-Bioinformatics/2016-10_Geo-Ann-Project/Jupyter-Notebooks'"
      ]
     },
     "execution_count": 2,
     "metadata": {},
     "output_type": "execute_result"
    }
   ],
   "source": [
    "pwd"
   ]
  },
  {
   "cell_type": "code",
   "execution_count": 3,
   "metadata": {
    "collapsed": false
   },
   "outputs": [
    {
     "name": "stdout",
     "output_type": "stream",
     "text": [
      "/Users/shlaura3/Documents/SAFS/FISH_546_Bioinformatics/546-Bioinformatics/2016-10_Geo-Ann-Project\n"
     ]
    }
   ],
   "source": [
    "cd .."
   ]
  },
  {
   "cell_type": "code",
   "execution_count": 4,
   "metadata": {
    "collapsed": false
   },
   "outputs": [
    {
     "name": "stdout",
     "output_type": "stream",
     "text": [
      "/Users/shlaura3/Documents/SAFS/FISH_546_Bioinformatics/546-Bioinformatics/2016-10_Geo-Ann-Project/analyses\n"
     ]
    }
   ],
   "source": [
    "cd analyses"
   ]
  },
  {
   "cell_type": "code",
   "execution_count": 5,
   "metadata": {
    "collapsed": true
   },
   "outputs": [],
   "source": [
    "mkdir RepeatMasker/"
   ]
  },
  {
   "cell_type": "code",
   "execution_count": 6,
   "metadata": {
    "collapsed": false
   },
   "outputs": [
    {
     "name": "stdout",
     "output_type": "stream",
     "text": [
      "/Users/shlaura3/Documents/SAFS/FISH_546_Bioinformatics/546-Bioinformatics/2016-10_Geo-Ann-Project/analyses/RepeatMasker\n"
     ]
    }
   ],
   "source": [
    "cd RepeatMasker"
   ]
  },
  {
   "cell_type": "code",
   "execution_count": 1,
   "metadata": {
    "collapsed": false
   },
   "outputs": [
    {
     "name": "stdout",
     "output_type": "stream",
     "text": [
      "Password:\n"
     ]
    }
   ],
   "source": [
    "! sudo perl /usr/local/RepeatMasker/RepeatMasker \\\n",
    "-species \"crassostrea gigas\" -gff -s ../data/Panopea_generosa_scaff-70k.scafSeq"
   ]
  },
  {
   "cell_type": "markdown",
   "metadata": {},
   "source": [
    "### The RepeatMasker program did not want to work via Jupyter, but it DID work very well directly in the terminal. \n",
    "\n",
    "I ran RepeatMasker twice. \n",
    "\n",
    "**1)**: using the default, \"unrefined\" speed and **2)** using the slow, \"refined\" speed which takes ~3 times longer but will find and mask 0-5% more repetitive DNA sequences than the default setting. \n",
    "\n",
    "**1)** `! sudo perl /usr/local/RepeatMasker/RepeatMasker \\\n",
    "   -species \"crassostrea gigas\" -gff -s ../data/Panopea_generosa_scaff-70k.scafSeq`\n",
    "\n",
    "**2)** `! sudo perl /usr/local/RepeatMasker/RepeatMasker \\\n",
    "   -species \"crassostrea gigas\" -gff ../data/Panopea_generosa_scaff-70k.scafSeq`\n",
    "  \n",
    "Note:\n",
    " -species \"crassostrea gigas\" specifies a species library; if none specified the human genome library is the default\n",
    " -gff creates a .gff file in the output\n",
    " -sudo overrides permissions/provides access the RepeatMasker program, as it's located in the restricted /usr/local folder\n",
    " -RepeatMasker automatically prints to file in the working directory\n",
    " \n",
    "Checking out the results:"
   ]
  },
  {
   "cell_type": "code",
   "execution_count": 29,
   "metadata": {
    "collapsed": false
   },
   "outputs": [
    {
     "name": "stdout",
     "output_type": "stream",
     "text": [
      "##gff-version 2\r\n",
      "##date 2016-11-15\r\n",
      "##sequence-region Panopea_generosa_scaff-70k.scafSeq\r\n",
      "scaffold10970\tRepeatMasker\tsimilarity\t2053\t2317\t24.8\t+\t.\tTarget \"Motif:(CA)n\" 1 264\r\n",
      "scaffold10970\tRepeatMasker\tsimilarity\t3020\t3051\t21.7\t+\t.\tTarget \"Motif:(TTATAA)n\" 1 32\r\n",
      "scaffold10970\tRepeatMasker\tsimilarity\t7560\t7949\t32.2\t-\t.\tTarget \"Motif:Tx1-4_CGi\" 3372 3696\r\n",
      "scaffold10970\tRepeatMasker\tsimilarity\t10827\t10873\t 7.1\t+\t.\tTarget \"Motif:(ATT)n\" 1 47\r\n",
      "scaffold10970\tRepeatMasker\tsimilarity\t12491\t12558\t 0.0\t+\t.\tTarget \"Motif:(TAAC)n\" 1 68\r\n",
      "scaffold10970\tRepeatMasker\tsimilarity\t17918\t17949\t17.6\t+\t.\tTarget \"Motif:(TTGTAT)n\" 1 33\r\n",
      "scaffold10970\tRepeatMasker\tsimilarity\t19206\t19241\t19.7\t+\t.\tTarget \"Motif:(TATA)n\" 1 37\r\n"
     ]
    }
   ],
   "source": [
    "!head ../analyses/RepeatMasker/unrefined/Panopea_generosa_scaff-70k.scafSeq.out.gff"
   ]
  },
  {
   "cell_type": "code",
   "execution_count": 31,
   "metadata": {
    "collapsed": false
   },
   "outputs": [
    {
     "name": "stdout",
     "output_type": "stream",
     "text": [
      "642\r\n"
     ]
    }
   ],
   "source": [
    "!grep -c \"^scaffold*\" ../analyses/RepeatMasker/unrefined/Panopea_generosa_scaff-70k.scafSeq.out.gff"
   ]
  },
  {
   "cell_type": "code",
   "execution_count": 30,
   "metadata": {
    "collapsed": false
   },
   "outputs": [
    {
     "name": "stdout",
     "output_type": "stream",
     "text": [
      "##gff-version 2\r\n",
      "##date 2016-11-15\r\n",
      "##sequence-region Panopea_generosa_scaff-70k.scafSeq\r\n",
      "scaffold10970\tRepeatMasker\tsimilarity\t2053\t2317\t24.8\t+\t.\tTarget \"Motif:(CA)n\" 1 264\r\n",
      "scaffold10970\tRepeatMasker\tsimilarity\t3020\t3051\t21.7\t+\t.\tTarget \"Motif:(TTATAA)n\" 1 32\r\n",
      "scaffold10970\tRepeatMasker\tsimilarity\t7560\t7949\t32.2\t-\t.\tTarget \"Motif:Tx1-4_CGi\" 3372 3696\r\n",
      "scaffold10970\tRepeatMasker\tsimilarity\t10195\t10460\t30.3\t-\t.\tTarget \"Motif:Tx1-2_CGi\" 2686 2956\r\n",
      "scaffold10970\tRepeatMasker\tsimilarity\t10827\t10873\t 7.1\t+\t.\tTarget \"Motif:(ATT)n\" 1 47\r\n",
      "scaffold10970\tRepeatMasker\tsimilarity\t12491\t12558\t 0.0\t+\t.\tTarget \"Motif:(TAAC)n\" 1 68\r\n",
      "scaffold10970\tRepeatMasker\tsimilarity\t17918\t17949\t17.6\t+\t.\tTarget \"Motif:(TTGTAT)n\" 1 33\r\n"
     ]
    }
   ],
   "source": [
    "!head ../analyses/RepeatMasker/refined/Panopea_generosa_scaff-70k.scafSeq.out.gff"
   ]
  },
  {
   "cell_type": "code",
   "execution_count": 32,
   "metadata": {
    "collapsed": false
   },
   "outputs": [
    {
     "name": "stdout",
     "output_type": "stream",
     "text": [
      "653\r\n"
     ]
    }
   ],
   "source": [
    "!grep -c \"^scaffold*\" ../analyses/RepeatMasker/refined/Panopea_generosa_scaff-70k.scafSeq.out.gff"
   ]
  },
  {
   "cell_type": "markdown",
   "metadata": {},
   "source": [
    "### Not much of a difference between the two results; looks like the \"refined\" option found 11 more TE sequences"
   ]
  }
 ],
 "metadata": {
  "anaconda-cloud": {},
  "kernelspec": {
   "display_name": "Python [default]",
   "language": "python",
   "name": "python3"
  },
  "language_info": {
   "codemirror_mode": {
    "name": "ipython",
    "version": 3
   },
   "file_extension": ".py",
   "mimetype": "text/x-python",
   "name": "python",
   "nbconvert_exporter": "python",
   "pygments_lexer": "ipython3",
   "version": "3.5.2"
  }
 },
 "nbformat": 4,
 "nbformat_minor": 1
}
