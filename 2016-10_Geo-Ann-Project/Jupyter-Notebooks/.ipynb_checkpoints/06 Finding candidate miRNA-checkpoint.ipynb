{
 "cells": [
  {
   "cell_type": "code",
   "execution_count": 2,
   "metadata": {
    "collapsed": false,
    "scrolled": true
   },
   "outputs": [
    {
     "name": "stdout",
     "output_type": "stream",
     "text": [
      "Software:\r\n",
      "\r\n",
      "    System Software Overview:\r\n",
      "\r\n",
      "      System Version: OS X 10.11.6 (15G1108)\r\n",
      "      Kernel Version: Darwin 15.6.0\r\n",
      "      Boot Volume: Peach Macbook\r\n",
      "      Boot Mode: Normal\r\n",
      "      Computer Name: laura spencer’s MacBook Pro\r\n",
      "      User Name: laura spencer (shlaura3)\r\n",
      "      Secure Virtual Memory: Enabled\r\n",
      "      System Integrity Protection: Enabled\r\n",
      "      Time since boot: 2 days 4:27\r\n",
      "\r\n"
     ]
    }
   ],
   "source": [
    "# SYSTEM INFO:\n",
    "! system_profiler SPSoftwareDataType"
   ]
  },
  {
   "cell_type": "markdown",
   "metadata": {},
   "source": [
    "---\n",
    "\n",
    "# Identifying candidate miRNA locations\n",
    "\n",
    "### I will use miRBase to identify sequences in genome scaffolds that are likely to code for miRNA.\n",
    "\n",
    "#### [miRBase](http://www.mirbase.org/): _The miRBase database is a searchable database of published miRNA sequences and annotation. Each entry in the miRBase Sequence database represents a predicted hairpin portion of a miRNA transcript (termed mir in the database), with information on the location and sequence of the mature miRNA sequence (termed miR). Both hairpin and mature sequences are available for searching and browsing, and entries can also be retrieved by name, keyword, references and annotation. All sequence and annotation data are also available for download._\n",
    "\n",
    "**Step 1:** download the following [miRBase sequence download](http://www.mirbase.org/ftp.shtml): fasta format sequences of all miRNA hairpins, \"hairpin.fa\", download date : 11/16/2016\n",
    "\n",
    "**Step 2:** Let's move the haripin.fa file to the appropriate directory, and then check it out."
   ]
  },
  {
   "cell_type": "code",
   "execution_count": 9,
   "metadata": {
    "collapsed": false
   },
   "outputs": [],
   "source": [
    "cp ../../../../../../Downloads/hairpin.fa.gz ../data/"
   ]
  },
  {
   "cell_type": "code",
   "execution_count": 11,
   "metadata": {
    "collapsed": false
   },
   "outputs": [
    {
     "name": "stdout",
     "output_type": "stream",
     "text": [
      "/Users/shlaura3/Documents/SAFS/FISH_546_Bioinformatics/546-Bioinformatics/2016-10_Geo-Ann-Project/data\n"
     ]
    }
   ],
   "source": [
    "cd ../data"
   ]
  },
  {
   "cell_type": "code",
   "execution_count": 14,
   "metadata": {
    "collapsed": false
   },
   "outputs": [],
   "source": [
    "!gunzip hairpin.fa.gz"
   ]
  },
  {
   "cell_type": "code",
   "execution_count": 15,
   "metadata": {
    "collapsed": false
   },
   "outputs": [
    {
     "name": "stdout",
     "output_type": "stream",
     "text": [
      ">cel-let-7 MI0000001 Caenorhabditis elegans let-7 stem-loop\r\n",
      "UACACUGUGGAUCCGGUGAGGUAGUAGGUUGUAUAGUUUGGAAUAUUACCACCGGUGAAC\r\n",
      "UAUGCAAUUUUCUACCUUACCGGAGACAGAACUCUUCGA\r\n",
      ">cel-lin-4 MI0000002 Caenorhabditis elegans lin-4 stem-loop\r\n",
      "AUGCUUCCGGCCUGUUCCCUGAGACCUCAAGUGUGAGUGUACUAUUGAUGCUUCACACCU\r\n",
      "GGGCUCUCCGGGUACCAGGACGGUUUGAGCAGAU\r\n",
      ">cel-mir-1 MI0000003 Caenorhabditis elegans miR-1 stem-loop\r\n",
      "AAAGUGACCGUACCGAGCUGCAUACUUCCUUACAUGCCCAUACUAUAUCAUAAAUGGAUA\r\n",
      "UGGAAUGUAAAGAAGUAUGUAGAACGGGGUGGUAGU\r\n",
      ">cel-mir-2 MI0000004 Caenorhabditis elegans miR-2 stem-loop\r\n"
     ]
    }
   ],
   "source": [
    "!head hairpin.fa"
   ]
  },
  {
   "cell_type": "markdown",
   "metadata": {},
   "source": [
    "**Step 3:** blastn the hairpin.fa file against my scaffolds"
   ]
  },
  {
   "cell_type": "code",
   "execution_count": 18,
   "metadata": {
    "collapsed": false
   },
   "outputs": [
    {
     "name": "stdout",
     "output_type": "stream",
     "text": [
      "BLAST query/options error: Either a BLAST database or subject sequence(s) must be specified\r\n",
      "Please refer to the BLAST+ user manual.\r\n"
     ]
    }
   ],
   "source": [
    "!/Applications/ncbi-blast-2.5.0+/bin/blastn"
   ]
  },
  {
   "cell_type": "code",
   "execution_count": 30,
   "metadata": {
    "collapsed": true
   },
   "outputs": [],
   "source": [
    "!/Applications/ncbi-blast-2.5.0+/bin/blastn \\\n",
    "-query ../data/hairpin.fa \\\n",
    "-db ../data/Panopea_generosa_scaff-70k_db \\\n",
    "-task blastn \\\n",
    "-evalue 10e-20 \\\n",
    "-outfmt 6 \\\n",
    "-max_target_seqs 1 \\\n",
    "-num_threads 6 \\\n",
    "-out ../analyses/pgenerosa-scaff70-miRNA.tab"
   ]
  },
  {
   "cell_type": "code",
   "execution_count": 34,
   "metadata": {
    "collapsed": false
   },
   "outputs": [
    {
     "name": "stdout",
     "output_type": "stream",
     "text": [
      "../analyses/pgenerosa-scaff70-miRNA.tab: empty\r\n"
     ]
    }
   ],
   "source": [
    "!file ../analyses/pgenerosa-scaff70-miRNA.tab"
   ]
  },
  {
   "cell_type": "code",
   "execution_count": 2,
   "metadata": {
    "collapsed": false
   },
   "outputs": [],
   "source": [
    "#trying again, with a less strict e-value\n",
    "!/Applications/ncbi-blast-2.5.0+/bin/blastn \\\n",
    "-query ../data/hairpin.fa \\\n",
    "-db ../data/Panopea_generosa_scaff-70k_db \\\n",
    "-task blastn \\\n",
    "-evalue 100e-20 \\\n",
    "-outfmt 6 \\\n",
    "-max_target_seqs 1 \\\n",
    "-num_threads 6 \\\n",
    "-out ../analyses/pgenerosa-scaff70-miRNA.tab"
   ]
  },
  {
   "cell_type": "code",
   "execution_count": 3,
   "metadata": {
    "collapsed": false
   },
   "outputs": [
    {
     "name": "stdout",
     "output_type": "stream",
     "text": [
      "../analyses/pgenerosa-scaff70-miRNA.tab: empty\r\n"
     ]
    }
   ],
   "source": [
    "!file ../analyses/pgenerosa-scaff70-miRNA.tab"
   ]
  },
  {
   "cell_type": "code",
   "execution_count": 4,
   "metadata": {
    "collapsed": true
   },
   "outputs": [],
   "source": [
    "#trying again, this time NOT specifying a min e-value \n",
    "!/Applications/ncbi-blast-2.5.0+/bin/blastn \\\n",
    "-query ../data/hairpin.fa \\\n",
    "-db ../data/Panopea_generosa_scaff-70k_db \\\n",
    "-task blastn \\\n",
    "-outfmt 6 \\\n",
    "-max_target_seqs 1 \\\n",
    "-num_threads 6 \\\n",
    "-out ../analyses/pgenerosa-scaff70-miRNA.tab"
   ]
  },
  {
   "cell_type": "code",
   "execution_count": 5,
   "metadata": {
    "collapsed": false
   },
   "outputs": [
    {
     "name": "stdout",
     "output_type": "stream",
     "text": [
      "../analyses/pgenerosa-scaff70-miRNA.tab: ASCII text\r\n"
     ]
    }
   ],
   "source": [
    "#Viewing file info\n",
    "!file ../analyses/pgenerosa-scaff70-miRNA.tab"
   ]
  },
  {
   "cell_type": "code",
   "execution_count": 16,
   "metadata": {
    "collapsed": false
   },
   "outputs": [
    {
     "name": "stdout",
     "output_type": "stream",
     "text": [
      "cel-let-7\tscaffold45727\t89.474\t19\t2\t0\t57\t75\t44493\t44511\t1.5\t26.5\r\n",
      "cel-lin-4\tscaffold4463\t100.000\t13\t0\t0\t20\t32\t17268\t17280\t5.0\t24.7\r\n",
      "cel-mir-1\tscaffold15463\t94.737\t19\t1\t0\t18\t36\t47318\t47300\t0.12\t30.1\r\n",
      "cel-mir-2\tscaffold30278\t100.000\t16\t0\t0\t2\t17\t6590\t6575\t0.12\t30.1\r\n",
      "cel-mir-34\tscaffold27692\t100.000\t14\t0\t0\t35\t48\t65424\t65437\t1.5\t26.5\r\n",
      "cel-mir-35\tscaffold31723\t100.000\t16\t0\t0\t82\t97\t26403\t26388\t0.12\t30.1\r\n",
      "cel-mir-36\tscaffold4463\t89.474\t19\t2\t0\t74\t92\t9287\t9305\t1.5\t26.5\r\n",
      "cel-mir-37\tscaffold26337\t100.000\t15\t0\t0\t7\t21\t108320\t108334\t0.43\t28.3\r\n",
      "cel-mir-38\tscaffold59644\t100.000\t15\t0\t0\t42\t56\t21905\t21891\t0.42\t28.3\r\n",
      "cel-mir-38\tscaffold59644\t100.000\t13\t0\t0\t42\t54\t51488\t51476\t5.1\t24.7\r\n",
      "cel-mir-39\tscaffold18558\t100.000\t14\t0\t0\t9\t22\t28960\t28947\t1.3\t26.5\r\n",
      "cel-mir-41\tscaffold71773\t100.000\t15\t0\t0\t41\t55\t87277\t87263\t0.43\t28.3\r\n",
      "cel-mir-42\tscaffold26337\t100.000\t14\t0\t0\t77\t90\t49745\t49732\t1.5\t26.5\r\n",
      "cel-mir-43\tscaffold32578\t84.000\t25\t4\t0\t39\t63\t37653\t37677\t0.43\t28.3\r\n",
      "cel-mir-44\tscaffold4463\t90.000\t20\t2\t0\t47\t66\t46253\t46234\t0.42\t28.3\r\n",
      "cel-mir-45\tscaffold5354\t89.474\t19\t2\t0\t60\t78\t46503\t46521\t1.5\t26.5\r\n",
      "cel-mir-46\tscaffold34940\t100.000\t15\t0\t0\t26\t40\t37339\t37353\t0.43\t28.3\r\n",
      "cel-mir-47\tscaffold31723\t88.889\t18\t2\t0\t29\t46\t69416\t69433\t5.2\t24.7\r\n",
      "cel-mir-48\tscaffold19489\t100.000\t15\t0\t0\t42\t56\t80500\t80514\t0.43\t28.3\r\n",
      "cel-mir-49\tscaffold20302\t100.000\t15\t0\t0\t1\t15\t48179\t48193\t0.43\t28.3\r\n"
     ]
    }
   ],
   "source": [
    "#viewing file header - the 3rd column, I believe, is the the % match. I'll pare this down later, but first I want to visualize the data.\n",
    "!head -20 ../analyses/pgenerosa-scaff70-miRNA.tab"
   ]
  },
  {
   "cell_type": "code",
   "execution_count": 7,
   "metadata": {
    "collapsed": false
   },
   "outputs": [
    {
     "name": "stdout",
     "output_type": "stream",
     "text": [
      "/Users/shlaura3/Documents/SAFS/FISH_546_Bioinformatics/546-Bioinformatics/2016-10_Geo-Ann-Project/Jupyter-Notebooks/../scripts/2_Blast2Gff.pl:176: a tab character is not allowed in an escape name\r\n",
      "/Users/shlaura3/Documents/SAFS/FISH_546_Bioinformatics/546-Bioinformatics/2016-10_Geo-Ann-Project/Jupyter-Notebooks/../scripts/2_Blast2Gff.pl:176: a tab character is not allowed in an escape name\r\n",
      "/Users/shlaura3/Documents/SAFS/FISH_546_Bioinformatics/546-Bioinformatics/2016-10_Geo-Ann-Project/Jupyter-Notebooks/../scripts/2_Blast2Gff.pl:180: cannot use character `*' as a starting delimiter\r\n",
      "/Users/shlaura3/Documents/SAFS/FISH_546_Bioinformatics/546-Bioinformatics/2016-10_Geo-Ann-Project/Jupyter-Notebooks/../scripts/2_Blast2Gff.pl:180: cannot use character `*' as a starting delimiter\r\n",
      "#!/usr/bin/perl                                                -w\r\n",
      "#-----------------------------------------------------------+   #\r\n",
      "| # Blast2Gff.pl                                              | #\r\n",
      "| #-----------------------------------------------------------+ #\r\n",
      "AUTHOR: James C. Estill                                  | # CON-\r\n",
      "TACT: JamesEstill_at_gmail.com                         | # START-\r\n",
      "ED: 04/17/2007                                       | # UPDATED:\r\n",
      "04/18/2007                                       | # DESCRIPTION:\r\n",
      "| #  Converts BLAST output to GFF format. This the the GFF    | #\r\n",
      "format that is used with the Apollo Genome Annotation    | #  cu-\r\n",
      "ration  program.                                        | #  Cur-\r\n",
      "rently this only works with m8 blast output.          | # # modi-\r\n",
      "fied  by Steven Roberts # Modified to work when doing a \"reverse\"\r\n",
      "blast. In other words the sequence ID is the Subject  as  opposed\r\n",
      "to  the Query.  # Also modifed so score field displays e-value as\r\n",
      "opposed               to                bit                score.\r\n",
      "| #-----------------------------------------------------------+\r\n",
      "\r\n",
      "=head1  INCLDUES  =cut #-----------------------------+ # INCLUDES\r\n",
      "| #-----------------------------+ use strict;                   #\r\n",
      "Keeps thing running clean use Getopt::Std;              # Get op-\r\n",
      "tions from command line\r\n",
      "\r\n",
      "=head1 VARIABLES =cut #-----------------------------+ # VARIABLES\r\n",
      "|       #-----------------------------+       my      $GffAppend;\r\n",
      "# BOOLEAN. Append to GFF file  my  $InFile;                     #\r\n",
      "Full   path   to   the  input  blast  output  file  my  $OutFile;\r\n",
      "# Full path to the gff formatted  output  file  my  $AlignFormat;\r\n",
      "# Alignment format of the blast output file\r\n",
      "                               #  ie.  -m  = 0,8, or 9 my $Print-\r\n",
      "Help;                 # Boolean, print  the  Usage  statement  my\r\n",
      "$BlastDb;                     #  Blast  database  my  $BlastProg;\r\n",
      "#   Blast   program   (ie.   blastn,    blastx    my    $SeqName;\r\n",
      "# Name of the sequence file used for query\r\n",
      "\r\n",
      "my $Usage = \"USAGE:0.\r\n",
      "    \"Blast2Gff.pl -i InFile.Fasta -o OutFile.gff -d BlastDb0.\r\n",
      "    \" -p blastprogram -m AligFormat -s SeqName -a0.\r\n",
      "    \" -i Full path to the BLAST output file[STRING]0.\r\n",
      "    \" -o Full path for the GFF formated file [STRING]0.\r\n",
      "    \"    Default is the intput file path with gff extension.0.\r\n",
      "    \" -d Blast database that was blasted against [STRING]0.\r\n",
      "    \"    This is required0.\r\n",
      "    \" -s \".\r\n",
      "    \" -m Format of the algnment outout from blast [INTEGER]0.\r\n",
      "    \"    Default value is 8. Valid values are 0,8,9\".\r\n",
      "    \" -p Blast program used [STRING]0.\r\n",
      "    \"    Default is blastn0.\r\n",
      "    \" -a Append results to the gff file [BOOLEAN]0.\r\n",
      "    \"    Default is to overwrite any exiting file.0.\r\n",
      "    \" -h Print this help statement [BOOLEAN]0;\r\n",
      "\r\n",
      "=head1         COMMAND         LINE         VARIABLES        =cut\r\n",
      "#-----------------------------+ # COMMAND LINE  VARIABLES       |\r\n",
      "#-----------------------------+            my           %Options;\r\n",
      "getopts('d:i:o:m:p:s:ha', Options);\r\n",
      "\r\n",
      "$PrintHelp = $Options{h}; if ($PrintHelp) {\r\n",
      "    print $Usage;\r\n",
      "    exit; }\r\n",
      "\r\n",
      "$SeqName = $Options{s} ||\r\n",
      "    die \"ERROR: A sequence file name  must  be  specified0Usage0;\r\n",
      "$GffAppend = $Options{a}; $InFile = $Options{i} ||\r\n",
      "    die  \"ERROR:  An  input file must be specified.0Usage0; # De-\r\n",
      "fault output is the full path of the input file with the gff  ex-\r\n",
      "tension $BlastProg = $Options{p} ||\r\n",
      "    \"blastn\"; $BlastDb = $Options{d} ||\r\n",
      "    die  \"ERROR:  A  blast  database should be indicated.0Usage0;\r\n",
      "$OutFile = $Options{o} ||\r\n",
      "    $InFile.\".gff\"; $AlignFormat = $Options{m} ||\r\n",
      "    \"8\";                        # Default format is tab delim\r\n",
      "\r\n",
      "#-----------------------------+ # CHECK FILE  EXISTENCE         |\r\n",
      "#-----------------------------+ unless (-e $InFile) {\r\n",
      "    print \"The input file could not be found0InFile0;\r\n",
      "    exit; }\r\n",
      "\r\n",
      "#-----------------------------+  #  CONVERT BLAST FILE TO GFF   |\r\n",
      "#-----------------------------+ # Test Blast2Gff subfunction\r\n",
      "\r\n",
      "if ($AlignFormat == \"8\") {\r\n",
      "    &TabBlast2Gff   ($InFile,   $OutFile,   $BlastDb,   $SeqName,\r\n",
      "\"blastn\"); } else {\r\n",
      "    print \"A valid BLAST alignment format was not selected.0; }\r\n",
      "\r\n",
      "\r\n",
      "#-----------------------------------------------------------+   #\r\n",
      "SUBFUNCTIONS                                                    |\r\n",
      "#-----------------------------------------------------------+\r\n",
      "\r\n",
      "sub TabBlast2Gff {\r\n",
      "    my $In = $_[0];       # Path to blast intput file\r\n",
      "    my $Out = $_[1];      # Path to gff output file\r\n",
      "    my  $Db  =  $_[2];       # The BLAST databas the hits are de-\r\n",
      "rived from\r\n",
      "    my $Name = $_[3];     # Seqname\r\n",
      "    my $Prog = $_[4];     # BLAST program used\r\n",
      "    my $GStart;           # GFF Start position\r\n",
      "    my $GEnd;             # GFF End position\r\n",
      "\r\n",
      "#    my  $Format  =  $_[4];    #  Format  of  the  blast  file  #\r\n",
      "# 8,9, 0 etc #    my $UseScore = $_[5]; # Score format to use\r\n",
      "\r\n",
      "    my $HitNum = \"0\";\r\n",
      "    #-----------------------------+\r\n",
      "    # FILE I/O                    |\r\n",
      "    #-----------------------------+\r\n",
      "    open  (BLASTIN,  \"<\".$In)  ||         die \"Can not open BLAST\r\n",
      "input file.$In.0;\r\n",
      "\r\n",
      "    # If append was selected, just append gff data to the\r\n",
      "    # output file\r\n",
      "    if ($GffAppend)\r\n",
      "    {         open (GFFOUT, \">>\".$Out) ||               die  \"Can\r\n",
      "not open GFF ouput file.$Out.0;\r\n",
      "    }  else  {         open (GFFOUT, \">\".$Out) ||             die\r\n",
      "\"Can not open GFF ouput file.$Out.0;\r\n",
      "    }\r\n",
      "\r\n",
      "    while (<BLASTIN>)\r\n",
      "    {         $HitNum++;\r\n",
      "\r\n",
      "        my ($QryId, $SubId, $PID,  $Len,               $MisMatch,\r\n",
      "$GapOpen,               $QStart,$QEnd,  $SStart,  $SEnd,\r\n",
      "$EVal,  $BitScore)  =  split(//);                    my  $Strand;\r\n",
      "        my  $Frame  = \".\";                  # Set the start to be\r\n",
      "less then the end         # This info can be used to dedeuct  the\r\n",
      "strand          #  sr320: modifying below to focus on S for using\r\n",
      "when blast changes direction         # sr320 changed all Q  to  S\r\n",
      "        if  ($SStart  <  $SEnd)          {              $GStart =\r\n",
      "$SStart;             $GEnd = $SEnd;              $Strand  =  \"+\";\r\n",
      "        }  elsif  ($SStart  >  $SEnd)  {               $GStart  =\r\n",
      "$SStart;             $GEnd = $SEnd;              $Strand  =  \"-\";\r\n",
      "        }  else  {               die  \"Unexpected Query Start and\r\n",
      "End:S:$QStartE:$QEnd\";         }                  # Trim  leading\r\n",
      "white  space  from  Bit score         $BitScore =~ s/^(.*?)$/$1/;\r\n",
      "                 # Currently working with this to get it to  draw\r\n",
      "        #  the  items  as  separate  items          print  GFFOUT\r\n",
      "            # I initially used the following             #  sr320\r\n",
      "rearranging for reverse blast (going in other direction)\r\n",
      "# sr320 changed to output evalue instead of  bit  score  #\r\n",
      "$Name.\"\".         #      SeqName                       $SubId.\"\".\r\n",
      "#               $QryId.\"\".                $Prog.\":\".$Db.\"\".     #\r\n",
      "Source (BLAST PROGRAM) #           $Prog.\":\".$Db.\"\".    # Feature\r\n",
      "(Database) #           $SubId.\"\".           # Feature  (Database)\r\n",
      "             $Prog.\"\".            #  Feature  (Database)\r\n",
      "$GStart.\"\".          # Start              $GEnd.\"\".             #\r\n",
      "End              $EVal.\"\".                      # evalue #\r\n",
      "$BitScore.\"\".        # Score              $Strand.\"\".           #\r\n",
      "Strand                 $Frame.\"\".             #   Frame\r\n",
      "$QryId.\"\".   #             $SubId.                  #   Attribute\r\n",
      "            \"0;\r\n",
      "    } # END OF WHILE BLASTIN\r\n",
      "\r\n",
      "} # END OF Blast2Gff Subfunction\r\n",
      "\r\n",
      "\r\n",
      "#-----------------------------------------------------------+   #\r\n",
      "PROGRAM                                                   STARTED\r\n",
      "#-----------------------------------------------------------+   #\r\n",
      "04/17/2007 # - Program started # - Started Blast2Gff  subfunction\r\n",
      "with  tab delim format # # 04/18/2007 # - Adding command line op-\r\n",
      "tions # - Working on Blast2Gff tab delim format\r\n",
      "\r\n",
      "\r\n",
      "\r\n",
      "\r\n",
      "\r\n",
      "\r\n",
      "\r\n",
      "\r\n",
      "\r\n",
      "\r\n",
      "\r\n",
      "\r\n",
      "\r\n",
      "\r\n",
      "\r\n",
      "\r\n",
      "\r\n",
      "\r\n",
      "\r\n",
      "\r\n",
      "\r\n",
      "\r\n",
      "\r\n",
      "\r\n",
      "\r\n",
      "\r\n",
      "\r\n",
      "\r\n",
      "\r\n",
      "\r\n",
      "\r\n",
      "\r\n",
      "\r\n",
      "\r\n"
     ]
    }
   ],
   "source": [
    "#before converting .tab file to .gff file, check out the \"2_Blast2Gff.pl\" script's manual to confirm commands\n",
    "! man ../scripts/2_Blast2Gff.pl"
   ]
  },
  {
   "cell_type": "code",
   "execution_count": 12,
   "metadata": {
    "collapsed": true
   },
   "outputs": [],
   "source": [
    "#convert to gff format to plot in IGV\n",
    "!perl ../scripts/2_Blast2Gff.pl \\\n",
    "-i ../analyses/pgenerosa-scaff70-miRNA.tab \\\n",
    "-s \"something\" \\\n",
    "-o ../analyses/pgenerosa-scaff70-miRNA.gff \\\n",
    "-p \"gene-blast\" \\\n",
    "-d \"mirBase hairpin.fa\""
   ]
  },
  {
   "cell_type": "code",
   "execution_count": 9,
   "metadata": {
    "collapsed": false
   },
   "outputs": [
    {
     "name": "stdout",
     "output_type": "stream",
     "text": [
      "2016-11-3_Geo70k-scaff-transcrip-sequences.tabular\r\n",
      "GeoTrans-PhelDiffExp_blasted_sorted\r\n",
      "Phel_DEGlist.tab\r\n",
      "\u001b[34mRepeatMasker\u001b[m\u001b[m/\r\n",
      "SeaStarDiffExp.R\r\n",
      "pgenerosa-scaff70-miRNA.gff\r\n",
      "pgenerosa-scaff70-miRNA.tab\r\n",
      "pgenerosa-transcrv3-blastn-scaff70k-01.gff\r\n",
      "pgenerosa-transcrv3-blastn-scaff70k-01.gff.fai\r\n",
      "pgenerosa-transcrv3-blastn-scaff70k-01.tab\r\n",
      "pgenerosa-transcrv3-blastn-scaff70k-01.tab.fai\r\n"
     ]
    }
   ],
   "source": [
    "ls ../analyses/"
   ]
  },
  {
   "cell_type": "code",
   "execution_count": 15,
   "metadata": {
    "collapsed": false
   },
   "outputs": [
    {
     "name": "stdout",
     "output_type": "stream",
     "text": [
      "scaffold45727\tblastn:mirBase hairpin.fa\tblastn\t44493\t44511\t1.5\t+\t.\tcel-let-7\t\r\n",
      "scaffold4463\tblastn:mirBase hairpin.fa\tblastn\t17268\t17280\t5.0\t+\t.\tcel-lin-4\t\r\n",
      "scaffold15463\tblastn:mirBase hairpin.fa\tblastn\t47318\t47300\t0.12\t-\t.\tcel-mir-1\t\r\n",
      "scaffold30278\tblastn:mirBase hairpin.fa\tblastn\t6590\t6575\t0.12\t-\t.\tcel-mir-2\t\r\n",
      "scaffold27692\tblastn:mirBase hairpin.fa\tblastn\t65424\t65437\t1.5\t+\t.\tcel-mir-34\t\r\n",
      "scaffold31723\tblastn:mirBase hairpin.fa\tblastn\t26403\t26388\t0.12\t-\t.\tcel-mir-35\t\r\n",
      "scaffold4463\tblastn:mirBase hairpin.fa\tblastn\t9287\t9305\t1.5\t+\t.\tcel-mir-36\t\r\n",
      "scaffold26337\tblastn:mirBase hairpin.fa\tblastn\t108320\t108334\t0.43\t+\t.\tcel-mir-37\t\r\n",
      "scaffold59644\tblastn:mirBase hairpin.fa\tblastn\t21905\t21891\t0.42\t-\t.\tcel-mir-38\t\r\n",
      "scaffold59644\tblastn:mirBase hairpin.fa\tblastn\t51488\t51476\t5.1\t-\t.\tcel-mir-38\t\r\n",
      "scaffold18558\tblastn:mirBase hairpin.fa\tblastn\t28960\t28947\t1.3\t-\t.\tcel-mir-39\t\r\n",
      "scaffold71773\tblastn:mirBase hairpin.fa\tblastn\t87277\t87263\t0.43\t-\t.\tcel-mir-41\t\r\n",
      "scaffold26337\tblastn:mirBase hairpin.fa\tblastn\t49745\t49732\t1.5\t-\t.\tcel-mir-42\t\r\n",
      "scaffold32578\tblastn:mirBase hairpin.fa\tblastn\t37653\t37677\t0.43\t+\t.\tcel-mir-43\t\r\n",
      "scaffold4463\tblastn:mirBase hairpin.fa\tblastn\t46253\t46234\t0.42\t-\t.\tcel-mir-44\t\r\n",
      "scaffold5354\tblastn:mirBase hairpin.fa\tblastn\t46503\t46521\t1.5\t+\t.\tcel-mir-45\t\r\n",
      "scaffold34940\tblastn:mirBase hairpin.fa\tblastn\t37339\t37353\t0.43\t+\t.\tcel-mir-46\t\r\n",
      "scaffold31723\tblastn:mirBase hairpin.fa\tblastn\t69416\t69433\t5.2\t+\t.\tcel-mir-47\t\r\n",
      "scaffold19489\tblastn:mirBase hairpin.fa\tblastn\t80500\t80514\t0.43\t+\t.\tcel-mir-48\t\r\n",
      "scaffold20302\tblastn:mirBase hairpin.fa\tblastn\t48179\t48193\t0.43\t+\t.\tcel-mir-49\t\r\n"
     ]
    }
   ],
   "source": [
    "!head -20 ../analyses/pgenerosa-scaff70-miRNA.gff"
   ]
  },
  {
   "cell_type": "code",
   "execution_count": null,
   "metadata": {
    "collapsed": true
   },
   "outputs": [],
   "source": []
  }
 ],
 "metadata": {
  "anaconda-cloud": {},
  "kernelspec": {
   "display_name": "Python [default]",
   "language": "python",
   "name": "python3"
  },
  "language_info": {
   "codemirror_mode": {
    "name": "ipython",
    "version": 3
   },
   "file_extension": ".py",
   "mimetype": "text/x-python",
   "name": "python",
   "nbconvert_exporter": "python",
   "pygments_lexer": "ipython3",
   "version": "3.5.2"
  }
 },
 "nbformat": 4,
 "nbformat_minor": 1
}
