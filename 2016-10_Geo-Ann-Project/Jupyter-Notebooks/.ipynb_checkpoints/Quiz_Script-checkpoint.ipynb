{
 "cells": [
  {
   "cell_type": "markdown",
   "metadata": {},
   "source": [
    "This script will move all my .gff files from the analyses folder to a newly created folder, which will contain all my IGV track files (all of which are .gff).\n",
    "\n",
    "Also (fairly unrelated), I successfully learned how to create an alias, stored on my bash_profile (in my PATH) that directos to my Geoduck Annotation project's repo, called \"geoann\", which I can now use to move to easily & quickly to the repo for this project. Unfortunately, I haven't been able to successfully use this alias within Jupyter Notebook! "
   ]
  },
  {
   "cell_type": "code",
   "execution_count": 76,
   "metadata": {
    "collapsed": false
   },
   "outputs": [
    {
     "name": "stdout",
     "output_type": "stream",
     "text": [
      "/Users/shlaura3/Documents/SAFS\n"
     ]
    }
   ],
   "source": [
    "cd SAFS"
   ]
  },
  {
   "cell_type": "code",
   "execution_count": 77,
   "metadata": {
    "collapsed": false
   },
   "outputs": [
    {
     "name": "stdout",
     "output_type": "stream",
     "text": [
      "2016_10_05_ToDo.md           PCSGA 2016 notes.md\r\n",
      "\u001b[34mFISH 522 Hot Topics\u001b[m\u001b[m/         \u001b[34mQERM 597\u001b[m\u001b[m/\r\n",
      "\u001b[34mFISH_546_Bioinformatics\u001b[m\u001b[m/     \u001b[34mTrainings, Certificates\u001b[m\u001b[m/\r\n",
      "\u001b[34mFISH_552_R\u001b[m\u001b[m/                  ranges-qry.bed\r\n",
      "GeoAnn_Dir.sh                ranges-sbj.bed\r\n",
      "Grad Welcome Info 2016.docx\r\n"
     ]
    }
   ],
   "source": [
    "ls"
   ]
  },
  {
   "cell_type": "code",
   "execution_count": 78,
   "metadata": {
    "collapsed": false
   },
   "outputs": [
    {
     "name": "stdout",
     "output_type": "stream",
     "text": [
      "/Users/shlaura3/Documents/SAFS/FISH_546_Bioinformatics\n"
     ]
    }
   ],
   "source": [
    "cd FISH_546_Bioinformatics/ "
   ]
  },
  {
   "cell_type": "code",
   "execution_count": 79,
   "metadata": {
    "collapsed": false
   },
   "outputs": [
    {
     "name": "stdout",
     "output_type": "stream",
     "text": [
      "00-Data-retrieve.ipynb          Reading_notes.md\r\n",
      "\u001b[34m546-Bioinformatics\u001b[m\u001b[m/             Week-06-07_notes.md\r\n",
      "Bash_key_tips.md                bioin-class-notes.md\r\n",
      "Bioinformatics_Data_Skills.pdf\r\n"
     ]
    }
   ],
   "source": [
    "ls"
   ]
  },
  {
   "cell_type": "code",
   "execution_count": 80,
   "metadata": {
    "collapsed": false
   },
   "outputs": [
    {
     "name": "stdout",
     "output_type": "stream",
     "text": [
      "/Users/shlaura3/Documents/SAFS/FISH_546_Bioinformatics/546-Bioinformatics\n"
     ]
    }
   ],
   "source": [
    "cd 546-Bioinformatics/  "
   ]
  },
  {
   "cell_type": "code",
   "execution_count": 85,
   "metadata": {
    "collapsed": false,
    "scrolled": true
   },
   "outputs": [
    {
     "name": "stdout",
     "output_type": "stream",
     "text": [
      "\u001b[34mJupyter-Notebooks\u001b[m\u001b[m/ \u001b[34mdata\u001b[m\u001b[m/              \u001b[34mscripts\u001b[m\u001b[m/\r\n",
      "\u001b[34manalyses\u001b[m\u001b[m/          \u001b[34mimages\u001b[m\u001b[m/\r\n"
     ]
    }
   ],
   "source": [
    "ls"
   ]
  },
  {
   "cell_type": "code",
   "execution_count": 86,
   "metadata": {
    "collapsed": false
   },
   "outputs": [
    {
     "name": "stdout",
     "output_type": "stream",
     "text": [
      "total 32\r\n",
      "drwxr-xr-x   8 shlaura3  staff   272B Nov  8 11:08 \u001b[34m.\u001b[m\u001b[m/\r\n",
      "drwxr-xr-x   9 shlaura3  staff   306B Nov 17 23:38 \u001b[34m..\u001b[m\u001b[m/\r\n",
      "-rw-r--r--@  1 shlaura3  staff    12K Dec  2 22:41 .DS_Store\r\n",
      "drwxr-xr-x   8 shlaura3  staff   272B Dec  2 23:20 \u001b[34mJupyter-Notebooks\u001b[m\u001b[m/\r\n",
      "drwxr-xr-x  16 shlaura3  staff   544B Nov 17 12:56 \u001b[34manalyses\u001b[m\u001b[m/\r\n",
      "drwxr-xr-x  20 shlaura3  staff   680B Nov 17 12:56 \u001b[34mdata\u001b[m\u001b[m/\r\n",
      "drwxr-xr-x  27 shlaura3  staff   918B Nov 17 22:45 \u001b[34mimages\u001b[m\u001b[m/\r\n",
      "drwxr-xr-x   7 shlaura3  staff   238B Dec  2 16:58 \u001b[34mscripts\u001b[m\u001b[m/\r\n"
     ]
    }
   ],
   "source": [
    "ls -lah"
   ]
  },
  {
   "cell_type": "code",
   "execution_count": 87,
   "metadata": {
    "collapsed": false
   },
   "outputs": [
    {
     "name": "stdout",
     "output_type": "stream",
     "text": [
      "total 56\r\n",
      "drwxr-xr-x  7 shlaura3  staff   238B Dec  2 16:58 \u001b[34m.\u001b[m\u001b[m/\r\n",
      "drwxr-xr-x  8 shlaura3  staff   272B Nov  8 11:08 \u001b[34m..\u001b[m\u001b[m/\r\n",
      "-rw-r--r--@ 1 shlaura3  staff   6.0K Dec  2 22:41 .DS_Store\r\n",
      "-rw-r--r--  1 shlaura3  staff   7.3K Nov  7 21:39 2_Blast2Gff.pl\r\n",
      "-rw-r--r--  1 shlaura3  staff   1.4K Nov  7 21:39 Helpful-Scripts.md\r\n",
      "-rw-r--r--  1 shlaura3  staff   3.1K Nov  7 21:39 count_fasta.pl\r\n",
      "-rw-r--r--@ 1 shlaura3  staff   612B Dec  2 22:30 move-gff.sh\r\n"
     ]
    }
   ],
   "source": [
    "ls -lah scripts"
   ]
  },
  {
   "cell_type": "code",
   "execution_count": 89,
   "metadata": {
    "collapsed": false
   },
   "outputs": [],
   "source": [
    "! chmod u+x scripts/move-gff.sh"
   ]
  },
  {
   "cell_type": "code",
   "execution_count": 90,
   "metadata": {
    "collapsed": false
   },
   "outputs": [
    {
     "name": "stdout",
     "output_type": "stream",
     "text": [
      "-rwxr--r--@ 1 shlaura3  staff  612 Dec  2 22:30 \u001b[31mscripts/move-gff.sh\u001b[m\u001b[m*\r\n"
     ]
    }
   ],
   "source": [
    "ll scripts/move-gff.sh"
   ]
  },
  {
   "cell_type": "code",
   "execution_count": 108,
   "metadata": {
    "collapsed": false,
    "scrolled": true
   },
   "outputs": [
    {
     "name": "stdout",
     "output_type": "stream",
     "text": [
      "0\r\n",
      ".gff files moved!\r\n",
      "/Users/shlaura3/Documents/SAFS/FISH_546_Bioinformatics/546-Bioinformatics/2016-10_Geo-Ann-Project\r\n",
      "Panopea_generosa_Scaff-70k-CpG.gff\r\n",
      "Panopea_generosa_scaff-70k.scafSeq.out.refined.gff\r\n",
      "Panopea_generosa_scaff-70k.scafSeq.out.unrefined.gff\r\n",
      "pgenerosa-scaff70-miRNA.gff\r\n",
      "pgenerosa-transcrv3-blastn-scaff70k-01.gff\r\n"
     ]
    }
   ],
   "source": [
    "! ./scripts/move-gff.sh"
   ]
  },
  {
   "cell_type": "code",
   "execution_count": null,
   "metadata": {
    "collapsed": true
   },
   "outputs": [],
   "source": []
  }
 ],
 "metadata": {
  "anaconda-cloud": {},
  "kernelspec": {
   "display_name": "Python [default]",
   "language": "python",
   "name": "python3"
  },
  "language_info": {
   "codemirror_mode": {
    "name": "ipython",
    "version": 3
   },
   "file_extension": ".py",
   "mimetype": "text/x-python",
   "name": "python",
   "nbconvert_exporter": "python",
   "pygments_lexer": "ipython3",
   "version": "3.5.2"
  }
 },
 "nbformat": 4,
 "nbformat_minor": 1
}
