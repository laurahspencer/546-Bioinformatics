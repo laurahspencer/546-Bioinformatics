{
 "cells": [
  {
   "cell_type": "code",
   "execution_count": 32,
   "metadata": {
    "collapsed": false
   },
   "outputs": [
    {
     "name": "stdout",
     "output_type": "stream",
     "text": [
      "Tue Nov  1 13:39:32 PDT 2016\n",
      "Software:\n",
      "\n",
      "    System Software Overview:\n",
      "\n",
      "      System Version: OS X 10.11.6 (15G1004)\n",
      "      Kernel Version: Darwin 15.6.0\n",
      "      Boot Volume: Peach Macbook\n",
      "      Boot Mode: Normal\n",
      "      Computer Name: laura spencer’s MacBook Pro\n",
      "      User Name: laura spencer (shlaura3)\n",
      "      Secure Virtual Memory: Enabled\n",
      "      System Integrity Protection: Enabled\n",
      "      Time since boot: 11 days 14:29\n",
      "\n"
     ]
    }
   ],
   "source": [
    "# DATE:\n",
    "!date \\\n",
    "\n",
    "# SYSTEM INFO:\n",
    "! system_profiler SPSoftwareDataType"
   ]
  },
  {
   "cell_type": "markdown",
   "metadata": {},
   "source": [
    "---\n",
    "\n",
    "# Learning the process of BLAST"
   ]
  },
  {
   "cell_type": "code",
   "execution_count": 1,
   "metadata": {
    "collapsed": false,
    "scrolled": true
   },
   "outputs": [
    {
     "name": "stdout",
     "output_type": "stream",
     "text": [
      "BLAST query/options error: Either a BLAST database or subject sequence(s) must be specified\r\n",
      "Please refer to the BLAST+ user manual.\r\n"
     ]
    }
   ],
   "source": [
    "!/Applications/ncbi-blast-2.5.0+/bin/blastp"
   ]
  },
  {
   "cell_type": "markdown",
   "metadata": {
    "collapsed": true
   },
   "source": [
    "## Viewing geoduck data\n",
    "Steven & Brent [sampled geoduck in 2015](http://onsnetwork.org/halfshell/2015/08/11/big-day-big-clam/); this is me getting a glimpse of the raw data of said _p. generosa_ genome; BGI did the sequencing, and the files are [here](http://owl.fish.washington.edu/P_generosa_genome_assemblies_BGI/20160512/). "
   ]
  },
  {
   "cell_type": "code",
   "execution_count": 4,
   "metadata": {
    "collapsed": false,
    "scrolled": true
   },
   "outputs": [
    {
     "name": "stdout",
     "output_type": "stream",
     "text": [
      "  % Total    % Received % Xferd  Average Speed   Time    Time     Time  Current\n",
      "                                 Dload  Upload   Total   Spent    Left  Speed\n",
      "  0     0    0     0    0     0      0      0 --:--:--  0:00:02 --:--:--     0>scaffold1 26.6\n",
      "ACTAACAGACGATCATTAAATACAGTCATACAGAGCAAATGAATTAAGCAATAACCTTGTCTTTAAAGGCCACTTTTGCTCATTCCCTtgtcttgctgct\n",
      "taaaacaagcttgactgtagatgtatccttaaaggctctcacaaagcattataaccgttatatcaattcattctatgatgctttaGCCCTTTACTCCATA\n",
      "CATACGTGTTTTCCCGCACCAATCACAGAAtgcctttagaaactgttttccactctgtcagttaatataaacataagttacccaataattcaaaagccat\n",
      "ctatattagaggtgtccaaaggcgtctctattaggtgtccaaaggcgtcgatatgaagtaaagggttaaatcaaTTTTTTGTAACCCCATCTGTTAATAT\n",
      "ACATATATCTAGCTGATGTAATTTACTATGACCTTAAAATGATTTTCGTAAACTCAGTAAAGCTCATTTTAACAAGTTTGCAAAATATATATTATGCAAG\n",
      "GCTGTGTCGGGCATTATATCATTTTTTGCCAATGAGTTGAATAAATTTATCATTGACTTTAAAAAGGTTTCCATCTATCTTAGAAATAGATATGACGGAC\n",
      "ACTATGGTTTTACCATGACAAGTCAACaaatcgttatcatgtaccattaaatctgatactatattggttttccaggaaattgttttaattccatggcact\n",
      "cgtaaatattCACTTGTTTTCTGATGTAACTTGTTTTTGTTGTTTTTTCAGCCTGAATATAGATAACTATAACNGTTATCATGTACCATTAAATCTGATA\n",
      "CTATATTGGTTTTCCAGGAAATTGTTTTAATTCCATGGCACTCGTAAatattcacttgttttctgatgtaacttgtttttgttgttttttcagcctgaat\n",
      "  0 1276M    0 43899    0     0  18940      0 19:38:15  0:00:02 19:38:13 19020\n",
      "curl: (23) Failed writing body (0 != 11584)\n"
     ]
    }
   ],
   "source": [
    "! curl http://owl.fish.washington.edu/P_generosa_genome_assemblies_BGI/20160512/Panopea_generosa.scafSeq \\\n",
    "| head "
   ]
  },
  {
   "cell_type": "markdown",
   "metadata": {},
   "source": [
    "## Prepping directory folders"
   ]
  },
  {
   "cell_type": "code",
   "execution_count": 1,
   "metadata": {
    "collapsed": false,
    "scrolled": true
   },
   "outputs": [
    {
     "data": {
      "text/plain": [
       "'/Users/shlaura3/Documents/SAFS/FISH_546_Bioinformatics/546-Bioinformatics/2016-10_Geo-Ann-Project/Jupyter'"
      ]
     },
     "execution_count": 1,
     "metadata": {},
     "output_type": "execute_result"
    }
   ],
   "source": [
    "pwd"
   ]
  },
  {
   "cell_type": "code",
   "execution_count": 2,
   "metadata": {
    "collapsed": false
   },
   "outputs": [
    {
     "name": "stdout",
     "output_type": "stream",
     "text": [
      "/Users/shlaura3/Documents/SAFS/FISH_546_Bioinformatics/546-Bioinformatics/2016-10_Geo-Ann-Project\n"
     ]
    }
   ],
   "source": [
    "cd .."
   ]
  },
  {
   "cell_type": "code",
   "execution_count": 3,
   "metadata": {
    "collapsed": false
   },
   "outputs": [
    {
     "name": "stdout",
     "output_type": "stream",
     "text": [
      "\u001b[34mJupyter\u001b[m\u001b[m/\r\n"
     ]
    }
   ],
   "source": [
    "ls"
   ]
  },
  {
   "cell_type": "code",
   "execution_count": 6,
   "metadata": {
    "collapsed": false
   },
   "outputs": [
    {
     "name": "stdout",
     "output_type": "stream",
     "text": [
      "mkdir: data/: File exists\r\n"
     ]
    }
   ],
   "source": [
    "mkdir data/ analyses/ scripts/"
   ]
  },
  {
   "cell_type": "code",
   "execution_count": 7,
   "metadata": {
    "collapsed": false
   },
   "outputs": [
    {
     "name": "stdout",
     "output_type": "stream",
     "text": [
      "\u001b[34mJupyter\u001b[m\u001b[m/  \u001b[34manalyses\u001b[m\u001b[m/ \u001b[34mdata\u001b[m\u001b[m/     \u001b[34mscripts\u001b[m\u001b[m/\r\n"
     ]
    }
   ],
   "source": [
    "ls"
   ]
  },
  {
   "cell_type": "code",
   "execution_count": 8,
   "metadata": {
    "collapsed": false
   },
   "outputs": [
    {
     "name": "stdout",
     "output_type": "stream",
     "text": [
      "/Users/shlaura3/Documents/SAFS/FISH_546_Bioinformatics/546-Bioinformatics/2016-10_Geo-Ann-Project/data\n"
     ]
    }
   ],
   "source": [
    "cd data/"
   ]
  },
  {
   "cell_type": "markdown",
   "metadata": {},
   "source": [
    "## Downloading geoduck genome file into local directory"
   ]
  },
  {
   "cell_type": "code",
   "execution_count": 10,
   "metadata": {
    "collapsed": false
   },
   "outputs": [
    {
     "name": "stdout",
     "output_type": "stream",
     "text": [
      "/bin/sh: wget: command not found\r\n"
     ]
    }
   ],
   "source": [
    "!wget http://owl.fish.washington.edu/P_generosa_genome_assemblies_BGI/20160512/Panopea_generosa.scafSeq"
   ]
  },
  {
   "cell_type": "markdown",
   "metadata": {},
   "source": [
    "_**Interesting note: the command `wget` is not installed on Macs**_"
   ]
  },
  {
   "cell_type": "code",
   "execution_count": 15,
   "metadata": {
    "collapsed": false
   },
   "outputs": [
    {
     "name": "stdout",
     "output_type": "stream",
     "text": [
      "  % Total    % Received % Xferd  Average Speed   Time    Time     Time  Current\n",
      "                                 Dload  Upload   Total   Spent    Left  Speed\n",
      "100  350M  100  350M    0     0   898k      0  0:06:40  0:06:40 --:--:--  909k\n"
     ]
    }
   ],
   "source": [
    "!curl -O http://owl.fish.washington.edu/P_generosa_genome_assemblies_BGI/20160512/Panopea_generosa.scafSeq.zip"
   ]
  },
  {
   "cell_type": "markdown",
   "metadata": {},
   "source": [
    "**Notes:**  \n",
    "* Remember to use `!` before all commands (except for `cd` `pwd` `ls` etc.?)  \n",
    "* -o (lowercase o) the result will be saved in the filename provided in the command line  \n",
    "* -O (uppercase O) the filename in the URL will be taken and it will be used as the filename to store the result\n",
    "* Helpful `curl` tips: http://www.thegeekstuff.com/2012/04/curl-examples/"
   ]
  },
  {
   "cell_type": "code",
   "execution_count": 32,
   "metadata": {
    "collapsed": false
   },
   "outputs": [
    {
     "name": "stdout",
     "output_type": "stream",
     "text": [
      "Panopea_generosa.scafSeq      Panopea_generosa.scafSeq.zip\r\n"
     ]
    }
   ],
   "source": [
    "ls"
   ]
  },
  {
   "cell_type": "markdown",
   "metadata": {},
   "source": [
    "---\n",
    "\n",
    "# Experimenting with commands to learn the ropes"
   ]
  },
  {
   "cell_type": "code",
   "execution_count": 48,
   "metadata": {
    "collapsed": false
   },
   "outputs": [
    {
     "name": "stdout",
     "output_type": "stream",
     "text": [
      ">scaffold1 26.6\r\n",
      "ACTAACAGACGATCATTAAATACAGTCATACAGAGCAAATGAATTAAGCAATAACCTTGTCTTTAAAGGCCACTTTTGCTCATTCCCTtgtcttgctgct\r\n",
      "taaaacaagcttgactgtagatgtatccttaaaggctctcacaaagcattataaccgttatatcaattcattctatgatgctttaGCCCTTTACTCCATA\r\n",
      "CATACGTGTTTTCCCGCACCAATCACAGAAtgcctttagaaactgttttccactctgtcagttaatataaacataagttacccaataattcaaaagccat\r\n",
      "ctatattagaggtgtccaaaggcgtctctattaggtgtccaaaggcgtcgatatgaagtaaagggttaaatcaaTTTTTTGTAACCCCATCTGTTAATAT\r\n",
      "ACATATATCTAGCTGATGTAATTTACTATGACCTTAAAATGATTTTCGTAAACTCAGTAAAGCTCATTTTAACAAGTTTGCAAAATATATATTATGCAAG\r\n",
      "GCTGTGTCGGGCATTATATCATTTTTTGCCAATGAGTTGAATAAATTTATCATTGACTTTAAAAAGGTTTCCATCTATCTTAGAAATAGATATGACGGAC\r\n",
      "ACTATGGTTTTACCATGACAAGTCAACaaatcgttatcatgtaccattaaatctgatactatattggttttccaggaaattgttttaattccatggcact\r\n",
      "cgtaaatattCACTTGTTTTCTGATGTAACTTGTTTTTGTTGTTTTTTCAGCCTGAATATAGATAACTATAACNGTTATCATGTACCATTAAATCTGATA\r\n",
      "CTATATTGGTTTTCCAGGAAATTGTTTTAATTCCATGGCACTCGTAAatattcacttgttttctgatgtaacttgtttttgttgttttttcagcctgaat\r\n"
     ]
    }
   ],
   "source": [
    "!head Panopea_generosa.scafSeq"
   ]
  },
  {
   "cell_type": "code",
   "execution_count": 49,
   "metadata": {
    "collapsed": false
   },
   "outputs": [
    {
     "name": "stdout",
     "output_type": "stream",
     "text": [
      "GAGGACAAAATTGAGATTGTTGTGGACGGGAAACAGGAAACATATGAAGACGAGTTCGCGGTCATTAAGGTTAAGGTTTCAGACTTGGACGAAATGAAAA\r\n",
      "TACCTTATGAGTTAGTTTAACCGCGGTACGCCAATGTATGATATACTTATACCAGTAAATGATTAGGAGGAATATTAATGAGCGAGAAAGTAGAATTGAT\r\n",
      "TGTTGTTGATATGGTTGACGAGGAAATTAGTACTAAGTTCCAATTGTGTCCTGAAGACTACTCGAAAGTGTATACACTGCAGTTGTTCAAACAGGACTAT\r\n",
      "AAAAAGGACACCAAAGAATGGGTCAGTGATGCGGAAACCACCAAACAATACGATGCGGATATGAAAGAGTTGGGTAACCCTAGCGTGGGTGATAAGGTCA\r\n",
      "ATGTGTTCGTTTCAAACAACGGCAAAGCGTATTTGACTGAAAAAACATTCGTGGAAACGGTGAAACCTAGCGGGAAAGATGCGAACAAATTGTTCACAAA\r\n",
      "TTGCGAAATTGAATCGTTCCATGATTCGCCAAAAGGGCGACGCGTGATTGTCAAGTATAAAAAGAATTTTTACGAGTTTAGTTTCAATTATTCCGTTTGG\r\n",
      "ATTCCGTCAATTGAGAAGTACGTTCCAAATGATGCCAAAATGGAAAAGGCAAAAGTGCGATTCAACGATATTTTTGAACATTCGTTGATTACGTGGGAAA\r\n",
      "ACGCACTAGAAACGGACGCGGATGGTGTTAGCATCCATAAGGGTGTTAAAATGAACTGCTTGGTTCGCAAAAACGAATTGGACGCAACTGGTCAAACAGG\r\n",
      "TTGGTTGGAACCGTTGAAAATTGACGAACCAGATGTTGACGAAGACGACCTTCCGTTCTAAAAATAGTTACAAAAAAGTGTAAGTTTAGGCTTGCACTTT\r\n",
      "TTATTTTACCGTGGTAAGATATACTCAACAAGTTGAGTGA\r\n"
     ]
    }
   ],
   "source": [
    "!tail Panopea_generosa.scafSeq"
   ]
  },
  {
   "cell_type": "markdown",
   "metadata": {},
   "source": [
    "**Unsure how to navigate in the `less` program**"
   ]
  },
  {
   "cell_type": "code",
   "execution_count": 50,
   "metadata": {
    "collapsed": false
   },
   "outputs": [
    {
     "name": "stdout",
     "output_type": "stream",
     "text": [
      ">scaffold1 26.6\n",
      "ACTAACAGACGATCATTAAATACAGTCATACAGAGCAAATGAATTAAGCAATAACCTTGTCTTTAAAGGCCACTTTTGCT \bCATTCCCTtgtcttgctgct\n",
      "taaaacaagcttgactgtagatgtatccttaaaggctctcacaaagcattataaccgttatatcaattcattctatgatg \bctttaGCCCTTTACTCCATA\n",
      "CATACGTGTTTTCCCGCACCAATCACAGAAtgcctttagaaactgttttccactctgtcagttaatataaacataagtta \bcccaataattcaaaagccat\n",
      "ctatattagaggtgtccaaaggcgtctctattaggtgtccaaaggcgtcgatatgaagtaaagggttaaatcaaTTTTTT \bGTAACCCCATCTGTTAATAT\n",
      "ACATATATCTAGCTGATGTAATTTACTATGACCTTAAAATGATTTTCGTAAACTCAGTAAAGCTCATTTTAACAAGTTTG \bCAAAATATATATTATGCAAG\n",
      "GCTGTGTCGGGCATTATATCATTTTTTGCCAATGAGTTGAATAAATTTATCATTGACTTTAAAAAGGTTTCCATCTATCT \bTAGAAATAGATATGACGGAC\n",
      "ACTATGGTTTTACCATGACAAGTCAACaaatcgttatcatgtaccattaaatctgatactatattggttttccaggaaat \btgttttaattccatggcact\n",
      "cgtaaatattCACTTGTTTTCTGATGTAACTTGTTTTTGTTGTTTTTTCAGCCTGAATATAGATAACTATAACNGTTATC \bATGTACCATTAAATCTGATA\n",
      "CTATATTGGTTTTCCAGGAAATTGTTTTAATTCCATGGCACTCGTAAatattcacttgttttctgatgtaacttgttttt \bgttgttttttcagcctgaat\n",
      "atagataactataacATGTTACTAGGAATGGGGTTCCCTAAGGGAGCTTCAGAAGAGGCACTCAGACAGGGAAACAATGA \bTGTCAATCTGGCACTTGAGG\n",
      "TAGGCAGATACTTTATGTAGAATGTAAGATAACAGGATTGCCTTGTTACTTACATGTATTGAAAATTCTGGTTTTATATT \bTTAGATAAAGTCTTGGTCAT\n",
      "\u001b[KTTATAGACATTGATATGACCACTACTGCCTGATTGAATAAAGGAGTGCGTGGTCCAGCAGTTGAGCATCAGACCCAGGAT \b:\u001b[K"
     ]
    }
   ],
   "source": [
    "!less Panopea_generosa.scafSeq"
   ]
  },
  {
   "cell_type": "markdown",
   "metadata": {},
   "source": [
    "**Removing first row (metadata), viewing only first 5 rows of sequences**"
   ]
  },
  {
   "cell_type": "code",
   "execution_count": 59,
   "metadata": {
    "collapsed": false
   },
   "outputs": [
    {
     "name": "stdout",
     "output_type": "stream",
     "text": [
      "ACTAACAGACGATCATTAAATACAGTCATACAGAGCAAATGAATTAAGCAATAACCTTGTCTTTAAAGGCCACTTTTGCTCATTCCCTtgtcttgctgct\r\n",
      "taaaacaagcttgactgtagatgtatccttaaaggctctcacaaagcattataaccgttatatcaattcattctatgatgctttaGCCCTTTACTCCATA\r\n",
      "CATACGTGTTTTCCCGCACCAATCACAGAAtgcctttagaaactgttttccactctgtcagttaatataaacataagttacccaataattcaaaagccat\r\n",
      "ctatattagaggtgtccaaaggcgtctctattaggtgtccaaaggcgtcgatatgaagtaaagggttaaatcaaTTTTTTGTAACCCCATCTGTTAATAT\r\n",
      "ACATATATCTAGCTGATGTAATTTACTATGACCTTAAAATGATTTTCGTAAACTCAGTAAAGCTCATTTTAACAAGTTTGCAAAATATATATTATGCAAG\r\n",
      "tail: stdout: Broken pipe\r\n"
     ]
    }
   ],
   "source": [
    "!tail -n +2 Panopea_generosa.scafSeq | head -n 5"
   ]
  },
  {
   "cell_type": "markdown",
   "metadata": {},
   "source": [
    "**Experimenting with `grep` and color coding**"
   ]
  },
  {
   "cell_type": "code",
   "execution_count": 66,
   "metadata": {
    "collapsed": false
   },
   "outputs": [
    {
     "name": "stdout",
     "output_type": "stream",
     "text": [
      "ACTAACAGACGATCATT\u001b[01;31m\u001b[KAAATACA\u001b[m\u001b[KGTCATACAGAGCAAATGAATTAAGCAATAACCTTGTCTTTAAAGGCCACTTTTGCTCATTCCCTtgtcttgctgct\r\n",
      "taaaacaagcttgactgtagatgtatccttaaaggctctcacaaagcattataaccgttatatcaattcattctatgatgctttaGCCCTTTACTCCATA\r\n",
      "CATACGTGTTTTCCCGCACCAATCACAGAAtgcctttagaaactgttttccactctgtcagttaatataaacataagttacccaataattcaaaagccat\r\n",
      "tail: stdout: Broken pipe\r\n"
     ]
    }
   ],
   "source": [
    "!tail -n +2 Panopea_generosa.scafSeq | head -n 5 \\\n",
    "| grep -C2 \"AAATACA\" --color=auto"
   ]
  },
  {
   "cell_type": "code",
   "execution_count": 67,
   "metadata": {
    "collapsed": false
   },
   "outputs": [
    {
     "name": "stdout",
     "output_type": "stream",
     "text": [
      "Panopea_generosa.scafSeq: ASCII text\r\n"
     ]
    }
   ],
   "source": [
    "!file Panopea_generosa.scafSeq"
   ]
  },
  {
   "cell_type": "markdown",
   "metadata": {
    "collapsed": true
   },
   "source": [
    "---\n",
    "\n",
    "# Exploring data to prepare for Blast protocol\n",
    "\n",
    "Trying to really manipulate the genome data in order to Blast in comparison to transcriptome data. First let's see the first 20 rows of the data:**"
   ]
  },
  {
   "cell_type": "code",
   "execution_count": 1,
   "metadata": {
    "collapsed": false
   },
   "outputs": [
    {
     "data": {
      "text/plain": [
       "'/Users/shlaura3/Documents/SAFS/FISH_546_Bioinformatics/546-Bioinformatics/2016-10_Geo-Ann-Project/Jupyter'"
      ]
     },
     "execution_count": 1,
     "metadata": {},
     "output_type": "execute_result"
    }
   ],
   "source": [
    "pwd"
   ]
  },
  {
   "cell_type": "code",
   "execution_count": 4,
   "metadata": {
    "collapsed": false
   },
   "outputs": [
    {
     "name": "stdout",
     "output_type": "stream",
     "text": [
      "/Users/shlaura3/Documents/SAFS/FISH_546_Bioinformatics/546-Bioinformatics/2016-10_Geo-Ann-Project\n"
     ]
    }
   ],
   "source": [
    "cd .."
   ]
  },
  {
   "cell_type": "code",
   "execution_count": 5,
   "metadata": {
    "collapsed": false
   },
   "outputs": [
    {
     "name": "stdout",
     "output_type": "stream",
     "text": [
      "/Users/shlaura3/Documents/SAFS/FISH_546_Bioinformatics/546-Bioinformatics/2016-10_Geo-Ann-Project/data\n"
     ]
    }
   ],
   "source": [
    "cd data"
   ]
  },
  {
   "cell_type": "code",
   "execution_count": 6,
   "metadata": {
    "collapsed": false
   },
   "outputs": [
    {
     "name": "stdout",
     "output_type": "stream",
     "text": [
      "Panopea_generosa.scafSeq      Panopea_generosa.scafSeq.zip\r\n"
     ]
    }
   ],
   "source": [
    "ls"
   ]
  },
  {
   "cell_type": "code",
   "execution_count": 26,
   "metadata": {
    "collapsed": false
   },
   "outputs": [
    {
     "name": "stdout",
     "output_type": "stream",
     "text": [
      "Geo-70k-scaff-annotations-merged-table.tabular\r\n",
      "Geo-v3-join-uniprot-all0916-condensed.tab\r\n",
      "Geoduck-transcriptome-v3.fa.zip\r\n",
      "Geoduck-transcriptome-v3.fa_db.nhr\r\n",
      "Geoduck-transcriptome-v3.fa_db.nin\r\n",
      "Geoduck-transcriptome-v3.fa_db.nsq\r\n",
      "\u001b[31mGeoduck-transcriptome-v3annotated.fa\u001b[m\u001b[m*\r\n",
      "Panopea_generosa_No-Line-Breaks.scafSeq.fai\r\n",
      "Panopea_generosa_ScafSeq.genome\r\n",
      "Panopea_generosa_scaff-70k.scafSeq\r\n",
      "Panopea_generosa_scaff-70k.scafSeq.fai\r\n",
      "Panopea_generosa_scaff-70k_db.nhr\r\n",
      "Panopea_generosa_scaff-70k_db.nin\r\n",
      "Panopea_generosa_scaff-70k_db.nsq\r\n",
      "Phel_countdata.txt\r\n",
      "Phel_transcriptome.fasta\r\n",
      "hairpin.fa\r\n"
     ]
    }
   ],
   "source": [
    "ls"
   ]
  },
  {
   "cell_type": "markdown",
   "metadata": {},
   "source": [
    "Checking out the # of scaffolds"
   ]
  },
  {
   "cell_type": "code",
   "execution_count": 9,
   "metadata": {
    "collapsed": false
   },
   "outputs": [
    {
     "name": "stdout",
     "output_type": "stream",
     "text": [
      "1296135\r\n"
     ]
    }
   ],
   "source": [
    "! grep -c \"^>\" Panopea_generosa.scafSeq"
   ]
  },
  {
   "cell_type": "markdown",
   "metadata": {},
   "source": [
    "---\n",
    "\n",
    "# Subsetting only >70k bp scaffolds in genome\n",
    "\n",
    "**Ok, there are nearly 1.3 million scaffolds. Steven suggested paring this data down to only very large scaffolds, such as on those >70k. This script was borrowed from [Steven's notebbok](https://sr320.github.io/student-fish546-2016/data-description/)**"
   ]
  },
  {
   "cell_type": "code",
   "execution_count": 10,
   "metadata": {
    "collapsed": true
   },
   "outputs": [],
   "source": [
    "!awk '!/^>/ { next } { getline seq } length(seq) >= 70000 { print $0 \"\\n\" seq }' \\\n",
    "../data/Panopea_generosa.scafSeq > ../data/Panopea_generosa_scaff-70k.scafSeq"
   ]
  },
  {
   "cell_type": "code",
   "execution_count": 11,
   "metadata": {
    "collapsed": false
   },
   "outputs": [
    {
     "name": "stdout",
     "output_type": "stream",
     "text": [
      "Panopea_generosa.scafSeq            Panopea_generosa_scaff-70k.scafSeq\r\n",
      "Panopea_generosa.scafSeq.zip\r\n"
     ]
    }
   ],
   "source": [
    "ls"
   ]
  },
  {
   "cell_type": "code",
   "execution_count": 16,
   "metadata": {
    "collapsed": false
   },
   "outputs": [
    {
     "name": "stdout",
     "output_type": "stream",
     "text": [
      "       0       0       0 Panopea_generosa_scaff-70k.scafSeq\r\n"
     ]
    }
   ],
   "source": [
    "! wc Panopea_generosa_scaff-70k.scafSeq"
   ]
  },
  {
   "cell_type": "markdown",
   "metadata": {},
   "source": [
    "**Hmm... the new file doesn't contain anything; turns out this is because there are \"hard line-breaks\" within scaffolds, so the search isn't finding any super long contigs. Now using a script (from Steven) to remove these line breaks:**"
   ]
  },
  {
   "cell_type": "code",
   "execution_count": 20,
   "metadata": {
    "collapsed": true
   },
   "outputs": [],
   "source": [
    "!awk '!/^>/ { printf \"%s\", $0; n = \"\\n\" } /^>/ { print n $0; n = \"\" } END { printf \"%s\", n }' \\\n",
    "../data/Panopea_generosa.scafSeq > ../data/Panopea_generosa_No-Line-Breaks.scafSeq"
   ]
  },
  {
   "cell_type": "code",
   "execution_count": 14,
   "metadata": {
    "collapsed": false
   },
   "outputs": [
    {
     "name": "stdout",
     "output_type": "stream",
     "text": [
      ">scaffold1 26.6\r\n",
      "ACTAACAGACGATCATTAAATACAGTCATACAGAGCAAATGAATTAAGCAATAACCTTGTCTTTAAAGGCCACTTTTGCTCATTCCCTtgtcttgctgcttaaaacaagcttgactgtagatgtatccttaaaggctctcacaaagcattataaccgttatatcaattcattctatgatgctttaGCCCTTTACTCCATACATACGTGTTTTCCCGCACCAATCACAGAAtgcctttagaaactgttttccactctgtcagttaatataaacataagttacccaataattcaaaagccatctatattagaggtgtccaaaggcgtctctattaggtgtccaaaggcgtcgatatgaagtaaagggttaaatcaaTTTTTTGTAACCCCATCTGTTAATATACATATATCTAGCTGATGTAATTTACTATGACCTTAAAATGATTTTCGTAAACTCAGTAAAGCTCATTTTAACAAGTTTGCAAAATATATATTATGCAAGGCTGTGTCGGGCATTATATCATTTTTTGCCAATGAGTTGAATAAATTTATCATTGACTTTAAAAAGGTTTCCATCTATCTTAGAAATAGATATGACGGACACTATGGTTTTACCATGACAAGTCAACaaatcgttatcatgtaccattaaatctgatactatattggttttccaggaaattgttttaattccatggcactcgtaaatattCACTTGTTTTCTGATGTAACTTGTTTTTGTTGTTTTTTCAGCCTGAATATAGATAACTATAACNGTTATCATGTACCATTAAATCTGATACTATATTGGTTTTCCAGGAAATTGTTTTAATTCCATGGCACTCGTAAatattcacttgttttctgatgtaacttgtttttgttgttttttcagcctgaatatagataactataacATGTTACTAGGAATGGGGTTCCCTAAGGGAGCTTCAGAAGAGGCACTCAGACAGGGAAACAATGATGTCAATCTGGCACTTGAGGTAGGCAGATACTTTATGTAGAATGTAAGATAACAGGATTGCCTTGTTACTTACATGTATTGAAAATTCTGGTTTTATATTTTAGATAAAGTCTTGGTCATTTATAGACATTGATATGACCACTACTGCCTGATTGAATAAAGGAGTGCGTGGTCCAGCAGTTGAGCATCAGACCCAGGATCTGAGGGTCATGGGNNNNNNNNNNNNNNNNNNNNNNNNNNNNNNNNNNNNNNNNNNNNNNNNNNNNNNNNNNNNNNNNNNNNNNNNNNNNNNNNNNNNNNNNNNNNNNNNNNNNNNNNNNNNNNNNNNNNNNNNNNNNNNNNNNNNNNNNNNNNNNNNNNNNNNNNNNNNNNNNNNNNNNNNNNNNNNNNNNNNNNNNNNCATACACAGATGGTAAACCACCATGCCCACTCACATTATACTGACACCTGACCCATTTAAGGTTACACCTGACAAATCTGTTATGGAACTATTGGCTTGATGGGATGTAAAATTCCAGTCGCCTGCTCACCATGGGGACTAGATTTAATTTCGGGCAACTTTGAAATTGTAAATGGTTGCCCAATTGGGCGACTGCATTTTGGCAgtagctaatcattaagaATTAAAATTTTAAATACAGTAGAAATTCGTTATTTCGAATACCGTGGGACtgtaaaaataattcgaaatatccggatttcgatttatcaggagtttTTACCTTTTATATTTTACCTTTGTGCATCTTTTCATCGTTACCTCAcccacttcataaatcattgaaaataaatgtgtacatgtaaatacctatatttgttgtttttttactcaatataacacattgttgttatatttacacacgatataaactttgtttatatggatgtgtactGTGGAGTGATCTTAAATTGTGGTAAATTCTACTGTTTNNNNNNNNNNNNNNNNNNNNNNNNNNNNNNNNNNNNNNNNNNNNNNNNNNNNNNNNNNNNNNNNNNNNNNNNNNNNNNNNNNNNNNNNNNNNNNNNNNNNNNNNNNNNNNNNNNNNNNNNNNNNNNNNNNNNNNNNNNNNNNNNNNNNNNNNNNNNNNNCAATATTTACGCAAATATGCTAGATGTCAATTAGTGTTTGATTTCGTTCACTCAattttccttgttatcTTATTAACCCAAACAAGCAGCAGCATTTTTTGCCTGATTAGCGTGTGCCTCGCTTGTGTTTGTATCATAACAATTTGATgacccaattaacttacctgccagtacagatacatgaagtgataaattactggtacaggtatgggatcagcaattatcaccttcggcagttttcctctaagcttcgcgcagtgataaaaaaattcgaaataacgagtgagaaatcaatagattttaatatggagggaccgaaaaaGGAACAGAAATTCAAATTTGAGATAACCGTAATTTCGAAATaaaagagttcgagttggtgagtaacaactgtagttacatattttggccgtagcaatacatttaaattttgaaaaaaagttataattagtcaaaagcaaaaaatacctacattaaAATCAGTTTTACAATTTGTAGTCAATTTTAGCGCACATGCAGTTGCTAGGTAATCGAGCAGACTGTGCTTCCTCTTACGAAAATCAACTGTATTACTTTACTCAaaatatttgtaacccaCTATAAAGTAGATATTATGACAGCACATGTTTATATTAGCACTGTTTGGTTTCTTGGGAACCTGTCACTAATGTCAAAACAACATATCAGCTCGATATTatgcataaacttccgctggaggtggtgacagtgaaaggagagagATATAGAAAGATTGGCAACAGGCAGAGAAGCATAAGATAAAGTAAAGAGAATATGACATGATAAAAAAACGCGAGAGGTAATCAAATGGAATTTAGGTCAACacattttcggatgcaaaagacccctgttcatagcgaaaatgaatacacatggttatgataatatatataacttatcatatctttatataattgctgtaaagttgattgattgattgaatatttagtgtcatttttattccatcgagggctaacagatgatCAGTTAACCCGATTAGCTCAGTCGGTTAcgcgtctgactatcaatcctggggtcgtgagtttgaatccccgaccggcaacagtctccgagatgattgatatacgactCTATGTCTCACTACTCTCTTACTGCTGATTAAAGTGGGAAAGTTANNNNNNNNNNNNNNNNNNNNNNNNNNNNNNNNNNNNNNNNNNNNNNNNNNNNNNNNNNNNNNNNNNNNNNNNNNNNNNNNNNNNNNNNNNNNNNNNNNNNNNNNNNNNNNNNNNNNNNNNNNNNNNNNNNNNNNNNNNNNNNNNNNNNNNNNNNNNNNNNNNNNNNNNNNNNNNNNNNNNNNNNNNNNNNNNNNNNNNNNNNNNNNNNNNNNNNNNNNNNNNNNNNNNNNNNNNNNNNNNNNNNNNNNNNNNNNNNNNNNNNNNNNNNNNNNNNNNNNNNNNNNNNNNNNNNNNNNNNNNNNNNNNNNNNNNNNNNNNNNNNNNNNNNNNNNNNNNNNNNNNNNNNNNNNNNNNNNNNNNNNNNNNNNNNNNNNAAAACAATACTAGGTATTCCCATCAAATACATGGCTACTTGTTGTAACATAAAGAGCTAGGTCTTACATACTGTCTTACATACTGTCTGTGTATTTCATGCACATCGTTGGAACAATTTATTGAAATTTATATATTTTGCCTtcGAACTTCGAGTAAATTCTTAACTTTCATACATCATGACTTTTAATTGCAGACAACTGATAAATCATTAGTATAACTAAGATTGTTAAATTGTATTAAATCAATAATTATTAACTTTATTTACTTCTCTGATAATATTTTTTATTATTTTCACCATTTTGCCCAGAATGAGTGTCTCGATTTAGTTTTTTTTTTAATGATTAGATGTAGGTTCAAACAAGTTTCACAGTTAGTGTTTTGGTTCGGTCTGCATTGACAATTCAATTTTAATTT\r\n",
      ">scaffold2 29.5\r\n",
      "TAAATGACGTCGATTTGTCGTGGTAAAATGACGGTATTTTGAGACTTTATGTCATATGACTAATGACAGAAACATTTATGCCGAACGTTTTGTCGTTCCTAATAGAAATGACATGTTTTATTTTCTCTAGTTACGTAAGAAAGCCAATCTTATATTCGTGTTCATTTATTCTTTAATTTACTATTTAATTCGACAGAACCTCGCATAATATATTTTTCAAACTCTTTTAATAAATTGGATATAACATGAGCACCCATGTAAGATCTTCTATTTATAAAATTAGTGGTGGTATCATGGTTTGAAAAAACACTCTTTAAAATAAGTACAACCAAATCCGTGTAAGCGGTCACCTCTATTAAggagccacgtgtcttcagcagccatatGTTAAATTCCCATTTCTATGCTTATCAAACAACACCTTATCTTAAATGGACACCTTTGCTCCTCCCTGTGACTAGCTGCTTAACACAGATTAGACTGTATATCTATTATTACAAAGATGAAAAATTATAAAACTAAAATGTGTTTAACATCATGTTAAAAAAGACATATAGACGACTTAGGGTGCCTTTTCAATCAATAACCAAATTGAATGTTATTCCCTATTCCAAAATGGAAACGAAATTAAGGTAGTTCCCTTTAAGACTATGTAACATTAAATCTATATAAACATTAACTTTGTGGGTGTATAACGTAGGACTCGTTACAACTACACTTCAAGACAAGTGTATTTCTTATTTAACACAGTAGCTATCACAGTAAATTAAACATACTTGGAACTTAAAGCTTAACAGTTATATTCCTCCAGTTGGTCGTAACAATATTTTACAGCTTTGTACTCACTTTATCTATTTTTATTGCCAATAACATAAACAAAATATGAAACTTGAGCACATGAAATATTCACTTTTAAGTCACAAAGGCGTTACATAATCTGTTTTATATAAAAATAAATATGTAAATTATGATATCAATGTTACTTGAGCAAAGGTGCATTAATAGCAATTTAAACAAAACATAACTTGATTTACTAAGTCCATATATTACCGTAAACAATACATTCGTTCTAAATTGAATGGACTTTATAAAGATGAGCATTCCATTAGTATACAAGGAATTTATTATACCACCATATCTGATACGTCAATATGCTAATTATATATACAT\r\n",
      ">scaffold3 33.1\r\n"
     ]
    }
   ],
   "source": [
    "!head -n 5 ../data/Panopea_generosa_No-Line-Breaks.scafSeq"
   ]
  },
  {
   "cell_type": "markdown",
   "metadata": {},
   "source": [
    "**Looks like ALL line breaks have gone away now, b/c when I ask for the first 5 lines it produces many more. I'll try the >70k script again, see what happens**"
   ]
  },
  {
   "cell_type": "code",
   "execution_count": 23,
   "metadata": {
    "collapsed": true
   },
   "outputs": [],
   "source": [
    "!awk '!/^>/ { next } { getline seq } length(seq) >= 70000 { print $0 \"\\n\" seq }' \\\n",
    "../data/Panopea_generosa_No-Line-Breaks.scafSeq > ../data/Panopea_generosa_scaff-70k.scafSeq"
   ]
  },
  {
   "cell_type": "code",
   "execution_count": 25,
   "metadata": {
    "collapsed": false
   },
   "outputs": [
    {
     "name": "stdout",
     "output_type": "stream",
     "text": [
      "20\r\n"
     ]
    }
   ],
   "source": [
    "! grep -c \"^>\" ../data/Panopea_generosa_scaff-70k.scafSeq"
   ]
  },
  {
   "cell_type": "markdown",
   "metadata": {},
   "source": [
    "**Great! I've subselected the largest 20 scaffolds (from ~1.3M)**  \n",
    "The new data file with only >70k scaffolds is called Panopea_generosa_scaff-70k.scafSeq"
   ]
  },
  {
   "cell_type": "markdown",
   "metadata": {},
   "source": [
    "---\n",
    "\n",
    "# For real this time - Blasting transcriptome against genome \n",
    "\n",
    "**Now I'm going to blast the _p. generosa_ transcriptome Steven has been working on against the _p. generosa_ genome. I'm using the blastn program because it compares nucleotide-nucleotide.**"
   ]
  },
  {
   "cell_type": "code",
   "execution_count": 7,
   "metadata": {
    "collapsed": false
   },
   "outputs": [
    {
     "name": "stdout",
     "output_type": "stream",
     "text": [
      "BLAST query/options error: Either a BLAST database or subject sequence(s) must be specified\r\n",
      "Please refer to the BLAST+ user manual.\r\n"
     ]
    }
   ],
   "source": [
    "!/Applications/ncbi-blast-2.5.0+/bin/blastn"
   ]
  },
  {
   "cell_type": "markdown",
   "metadata": {},
   "source": [
    "**Downloading _p. generosa_ transcriptome**"
   ]
  },
  {
   "cell_type": "code",
   "execution_count": 8,
   "metadata": {
    "collapsed": false
   },
   "outputs": [
    {
     "name": "stdout",
     "output_type": "stream",
     "text": [
      "/Users/shlaura3/Documents/SAFS/FISH_546_Bioinformatics/546-Bioinformatics/2016-10_Geo-Ann-Project/data\n"
     ]
    }
   ],
   "source": [
    "cd ../data"
   ]
  },
  {
   "cell_type": "code",
   "execution_count": 9,
   "metadata": {
    "collapsed": false
   },
   "outputs": [
    {
     "name": "stdout",
     "output_type": "stream",
     "text": [
      "  % Total    % Received % Xferd  Average Speed   Time    Time     Time  Current\n",
      "                                 Dload  Upload   Total   Spent    Left  Speed\n",
      "100   171  100   171    0     0    313      0 --:--:-- --:--:-- --:--:--   316\n"
     ]
    }
   ],
   "source": [
    "!curl -O https://github.com/sr320/paper-pano-go/raw/master/data-results/Geoduck-transcriptome-v3.fa.zip"
   ]
  },
  {
   "cell_type": "markdown",
   "metadata": {},
   "source": [
    "**unzipped the file by using the gui directory**"
   ]
  },
  {
   "cell_type": "code",
   "execution_count": 15,
   "metadata": {
    "collapsed": false,
    "scrolled": true
   },
   "outputs": [
    {
     "name": "stdout",
     "output_type": "stream",
     "text": [
      "Geoduck-transcriptome-v3.fa.zip\r\n",
      "Geoduck-transcriptome-v3.fa.zip.cpgz\r\n",
      "Panopea_generosa.scafSeq\r\n",
      "Panopea_generosa.scafSeq.zip\r\n",
      "Panopea_generosa_No-Line-Breaks.scafSeq\r\n",
      "Panopea_generosa_scaff-70k.scafSeq\r\n"
     ]
    }
   ],
   "source": [
    "ls"
   ]
  },
  {
   "cell_type": "markdown",
   "metadata": {},
   "source": [
    "**Building a databse out of the _p. generosa_ genome file, since I'll be blasting the transcriptome against the genome**"
   ]
  },
  {
   "cell_type": "code",
   "execution_count": 16,
   "metadata": {
    "collapsed": false
   },
   "outputs": [
    {
     "name": "stdout",
     "output_type": "stream",
     "text": [
      "\n",
      "\n",
      "Building a new DB, current time: 10/20/2016 11:29:24\n",
      "New DB name:   /Users/shlaura3/Documents/SAFS/FISH_546_Bioinformatics/546-Bioinformatics/2016-10_Geo-Ann-Project/data/Panopea_generosa_scaff-70k_db\n",
      "New DB title:  ../data/Panopea_generosa_scaff-70k.scafSeq\n",
      "Sequence type: Nucleotide\n",
      "Keep MBits: T\n",
      "Maximum file size: 1000000000B\n",
      "Adding sequences from FASTA; added 20 sequences in 0.0768011 seconds.\n"
     ]
    }
   ],
   "source": [
    "!/Applications/ncbi-blast-2.5.0+/bin/makeblastdb \\\n",
    "-in ../data/Panopea_generosa_scaff-70k.scafSeq \\\n",
    "-dbtype nucl \\\n",
    "-out ../data/Panopea_generosa_scaff-70k_db"
   ]
  },
  {
   "cell_type": "code",
   "execution_count": 17,
   "metadata": {
    "collapsed": false,
    "scrolled": true
   },
   "outputs": [
    {
     "name": "stdout",
     "output_type": "stream",
     "text": [
      "Geoduck-transcriptome-v3.fa.zip\r\n",
      "Geoduck-transcriptome-v3.fa.zip.cpgz\r\n",
      "Panopea_generosa.scafSeq\r\n",
      "Panopea_generosa.scafSeq.zip\r\n",
      "Panopea_generosa_No-Line-Breaks.scafSeq\r\n",
      "Panopea_generosa_scaff-70k.scafSeq\r\n",
      "Panopea_generosa_scaff-70k_db.nhr\r\n",
      "Panopea_generosa_scaff-70k_db.nin\r\n",
      "Panopea_generosa_scaff-70k_db.nsq\r\n"
     ]
    }
   ],
   "source": [
    "ls"
   ]
  },
  {
   "cell_type": "code",
   "execution_count": 20,
   "metadata": {
    "collapsed": false
   },
   "outputs": [
    {
     "name": "stdout",
     "output_type": "stream",
     "text": [
      "Error: NCBI C++ Exception:\r\n",
      "    T0 \"/Users/coremake/release_build/build/PrepareRelease_IntelMAC-Clang36_JSID_01_40204_130.14.22.10_9008__PrepareRelease_IntelMAC-Clang36_1473441060/c++/compilers/unix/../../src/objtools/readers/fasta.cpp\", line 2178: Error: ncbi::objects::CFastaReader::PostWarning() - CFastaReader: Near line 1, there's a line that doesn't look like plausible data, but it's not marked as defline or comment. (m_Pos = 1)\r\n",
      "\r\n"
     ]
    }
   ],
   "source": [
    "!/Applications/ncbi-blast-2.5.0+/bin/blastn \\\n",
    "-query ../data/Geoduck-transcriptome-v3.fa.zip.cpgz \\\n",
    "-db ../data/Panopea_generosa_scaff-70k_db \\\n",
    "-outfmt 6  \\\n",
    "-out ../analyses/pgenerosa-transcrv3-blastn-scaff70k-01.tab\n"
   ]
  },
  {
   "cell_type": "code",
   "execution_count": 24,
   "metadata": {
    "collapsed": false
   },
   "outputs": [
    {
     "name": "stdout",
     "output_type": "stream",
     "text": [
      "\u001f�\b\u0000\u0000\u0000\u0000\u0000\u0000\u0003�P�J�@\f",
      "���{�̴3݂�\u0005\u000f\"��ŋǴͶ�mgȤ�~��\r\n",
      "RW��/�����*�\u0012[\u0018U\u0016Ź��%��,9�>��>3�*t��*�\u001c",
      "�H]�-g{c.��w5c�\u0015e���B\u000b",
      "y�����\t����ٍ��hq\u0004�>���<�*[���zrs\f",
      "�q����\u0016��x��}����Ut\u0003�s=\u0007��M�\u0013�ƍ2�Ε���R\u000f�K;'G\b�$[`H\t�|��]E�\u000e�\r",
      "ck%T��՗���\u001f���m��wVo�������!I����\u0000����\u0000\u0002\u0000\u0000"
     ]
    }
   ],
   "source": [
    "!head -n 100 Geoduck-transcriptome-v3.fa.zip.cpgz"
   ]
  },
  {
   "cell_type": "markdown",
   "metadata": {},
   "source": [
    "**Something is not right with the transcriptome file. Turns out while unzipping it created the .cpgz zip file (interesting read on .cpgz)[http://osxdaily.com/2013/02/13/open-zip-cpgz-file/]. I'm going to download the .zip file again, then try to unzip at command line**"
   ]
  },
  {
   "cell_type": "code",
   "execution_count": 25,
   "metadata": {
    "collapsed": false
   },
   "outputs": [
    {
     "name": "stdout",
     "output_type": "stream",
     "text": [
      "Geoduck-transcriptome-v3.fa.zip\r\n",
      "Geoduck-transcriptome-v3.fa.zip.cpgz\r\n",
      "Panopea_generosa.scafSeq\r\n",
      "Panopea_generosa.scafSeq.zip\r\n",
      "Panopea_generosa_No-Line-Breaks.scafSeq\r\n",
      "Panopea_generosa_scaff-70k.scafSeq\r\n",
      "Panopea_generosa_scaff-70k_db.nhr\r\n",
      "Panopea_generosa_scaff-70k_db.nin\r\n",
      "Panopea_generosa_scaff-70k_db.nsq\r\n"
     ]
    }
   ],
   "source": [
    "ls"
   ]
  },
  {
   "cell_type": "code",
   "execution_count": 28,
   "metadata": {
    "collapsed": false
   },
   "outputs": [
    {
     "name": "stdout",
     "output_type": "stream",
     "text": [
      "rm: Geoduck-transcriptome-v3.fa.zip: No such file or directory\r\n"
     ]
    }
   ],
   "source": [
    "!rm Geoduck-transcriptome-v3.fa.zip"
   ]
  },
  {
   "cell_type": "code",
   "execution_count": 30,
   "metadata": {
    "collapsed": false
   },
   "outputs": [
    {
     "name": "stdout",
     "output_type": "stream",
     "text": [
      "Panopea_generosa.scafSeq\r\n",
      "Panopea_generosa.scafSeq.zip\r\n",
      "Panopea_generosa_No-Line-Breaks.scafSeq\r\n",
      "Panopea_generosa_scaff-70k.scafSeq\r\n",
      "Panopea_generosa_scaff-70k_db.nhr\r\n",
      "Panopea_generosa_scaff-70k_db.nin\r\n",
      "Panopea_generosa_scaff-70k_db.nsq\r\n"
     ]
    }
   ],
   "source": [
    "ls"
   ]
  },
  {
   "cell_type": "code",
   "execution_count": 31,
   "metadata": {
    "collapsed": false
   },
   "outputs": [
    {
     "name": "stdout",
     "output_type": "stream",
     "text": [
      "  % Total    % Received % Xferd  Average Speed   Time    Time     Time  Current\n",
      "                                 Dload  Upload   Total   Spent    Left  Speed\n",
      "100   171  100   171    0     0    297      0 --:--:-- --:--:-- --:--:--   304\n"
     ]
    }
   ],
   "source": [
    "!curl -O https://github.com/sr320/paper-pano-go/raw/master/data-results/Geoduck-transcriptome-v3.fa.zip"
   ]
  },
  {
   "cell_type": "code",
   "execution_count": 4,
   "metadata": {
    "collapsed": false
   },
   "outputs": [
    {
     "name": "stdout",
     "output_type": "stream",
     "text": [
      "/Users/shlaura3/Documents/SAFS/FISH_546_Bioinformatics/546-Bioinformatics/2016-10_Geo-Ann-Project/data\n"
     ]
    }
   ],
   "source": [
    "cd ../data"
   ]
  },
  {
   "cell_type": "code",
   "execution_count": 5,
   "metadata": {
    "collapsed": false
   },
   "outputs": [
    {
     "name": "stdout",
     "output_type": "stream",
     "text": [
      "Geoduck-transcriptome-v3.fa.zip\r\n",
      "Panopea_generosa.scafSeq\r\n",
      "Panopea_generosa.scafSeq.zip\r\n",
      "Panopea_generosa_No-Line-Breaks.scafSeq\r\n",
      "Panopea_generosa_scaff-70k.scafSeq\r\n",
      "Panopea_generosa_scaff-70k_db.nhr\r\n",
      "Panopea_generosa_scaff-70k_db.nin\r\n",
      "Panopea_generosa_scaff-70k_db.nsq\r\n"
     ]
    }
   ],
   "source": [
    "ls"
   ]
  },
  {
   "cell_type": "code",
   "execution_count": 6,
   "metadata": {
    "collapsed": false
   },
   "outputs": [
    {
     "name": "stdout",
     "output_type": "stream",
     "text": [
      "Archive:  Geoduck-transcriptome-v3.fa.zip\r\n",
      "  End-of-central-directory signature not found.  Either this file is not\r\n",
      "  a zipfile, or it constitutes one disk of a multi-part archive.  In the\r\n",
      "  latter case the central directory and zipfile comment will be found on\r\n",
      "  the last disk(s) of this archive.\r\n",
      "unzip:  cannot find zipfile directory in one of Geoduck-transcriptome-v3.fa.zip or\r\n",
      "        Geoduck-transcriptome-v3.fa.zip.zip, and cannot find Geoduck-transcriptome-v3.fa.zip.ZIP, period.\r\n"
     ]
    }
   ],
   "source": [
    "!unzip Geoduck-transcriptome-v3.fa.zip"
   ]
  },
  {
   "cell_type": "markdown",
   "metadata": {
    "collapsed": true
   },
   "source": [
    "**It's clear that the file downloaded via `curl` is corrupted. I deleted it, and will download again via GUI, then `unzip` and `blast` as previously attempted**"
   ]
  },
  {
   "cell_type": "code",
   "execution_count": 3,
   "metadata": {
    "collapsed": false
   },
   "outputs": [
    {
     "name": "stdout",
     "output_type": "stream",
     "text": [
      "/Users/shlaura3/Documents/SAFS/FISH_546_Bioinformatics/546-Bioinformatics/2016-10_Geo-Ann-Project/data\n"
     ]
    }
   ],
   "source": [
    "cd ../data"
   ]
  },
  {
   "cell_type": "code",
   "execution_count": 5,
   "metadata": {
    "collapsed": false
   },
   "outputs": [
    {
     "name": "stdout",
     "output_type": "stream",
     "text": [
      "Geoduck-transcriptome-v3.fa.zip\r\n",
      "Panopea_generosa.scafSeq\r\n",
      "Panopea_generosa.scafSeq.zip\r\n",
      "Panopea_generosa_No-Line-Breaks.scafSeq\r\n",
      "Panopea_generosa_scaff-70k.scafSeq\r\n",
      "Panopea_generosa_scaff-70k_db.nhr\r\n",
      "Panopea_generosa_scaff-70k_db.nin\r\n",
      "Panopea_generosa_scaff-70k_db.nsq\r\n"
     ]
    }
   ],
   "source": [
    "ls"
   ]
  },
  {
   "cell_type": "code",
   "execution_count": 6,
   "metadata": {
    "collapsed": false
   },
   "outputs": [
    {
     "name": "stdout",
     "output_type": "stream",
     "text": [
      "Archive:  Geoduck-transcriptome-v3.fa.zip\n",
      "  inflating: Geoduck-transcriptome-v3.fa  \n"
     ]
    }
   ],
   "source": [
    "!unzip Geoduck-transcriptome-v3.fa.zip"
   ]
  },
  {
   "cell_type": "code",
   "execution_count": 7,
   "metadata": {
    "collapsed": false
   },
   "outputs": [
    {
     "name": "stdout",
     "output_type": "stream",
     "text": [
      "BLAST query/options error: Either a BLAST database or subject sequence(s) must be specified\r\n",
      "Please refer to the BLAST+ user manual.\r\n"
     ]
    }
   ],
   "source": [
    "!/Applications/ncbi-blast-2.5.0+/bin/blastn"
   ]
  },
  {
   "cell_type": "code",
   "execution_count": 8,
   "metadata": {
    "collapsed": true
   },
   "outputs": [],
   "source": [
    "!/Applications/ncbi-blast-2.5.0+/bin/blastn \\\n",
    "-query ../data/Geoduck-transcriptome-v3.fa \\\n",
    "-db ../data/Panopea_generosa_scaff-70k_db \\\n",
    "-outfmt 6  \\\n",
    "-out ../analyses/pgenerosa-transcrv3-blastn-scaff70k-01.tab"
   ]
  },
  {
   "cell_type": "code",
   "execution_count": 14,
   "metadata": {
    "collapsed": false
   },
   "outputs": [
    {
     "name": "stdout",
     "output_type": "stream",
     "text": [
      "/Users/shlaura3/Documents/SAFS/FISH_546_Bioinformatics/546-Bioinformatics/2016-10_Geo-Ann-Project/analyses\n"
     ]
    }
   ],
   "source": [
    "cd ../analyses"
   ]
  },
  {
   "cell_type": "code",
   "execution_count": 15,
   "metadata": {
    "collapsed": false
   },
   "outputs": [
    {
     "name": "stdout",
     "output_type": "stream",
     "text": [
      "pgenerosa-transcrv3-blastn-scaff70k-01.tab\r\n"
     ]
    }
   ],
   "source": [
    "ls"
   ]
  },
  {
   "cell_type": "code",
   "execution_count": 16,
   "metadata": {
    "collapsed": false
   },
   "outputs": [
    {
     "name": "stdout",
     "output_type": "stream",
     "text": [
      "comp100323_c0_seq1\tscaffold10970\t95.161\t62\t3\t0\t3\t64\t58201\t58262\t5.51e-22\t99.0\r\n",
      "comp100333_c1_seq1\tscaffold10970\t88.800\t125\t10\t3\t1\t121\t99916\t100040\t2.05e-37\t150\r\n",
      "comp100468_c0_seq1\tscaffold9504\t100.000\t28\t0\t0\t206\t233\t59077\t59104\t5.04e-08\t52.8\r\n",
      "comp101573_c0_seq1\tscaffold32578\t98.341\t422\t6\t1\t1\t422\t55507\t55927\t0.0\t739\r\n",
      "comp101587_c0_seq1\tscaffold30278\t100.000\t29\t0\t0\t275\t303\t60566\t60538\t1.86e-08\t54.7\r\n",
      "comp102059_c0_seq1\tscaffold71773\t81.875\t160\t23\t5\t1\t158\t55978\t55823\t2.38e-31\t130\r\n",
      "comp102699_c0_seq1\tscaffold15463\t86.765\t68\t9\t0\t91\t158\t6270\t6203\t2.79e-15\t76.8\r\n",
      "comp103000_c0_seq1\tscaffold59644\t98.305\t118\t2\t0\t105\t222\t2781\t2664\t9.63e-55\t207\r\n",
      "comp103462_c0_seq1\tscaffold26337\t83.784\t111\t6\t2\t156\t254\t134703\t134813\t1.03e-20\t95.3\r\n",
      "comp103462_c0_seq2\tscaffold26337\t83.784\t111\t6\t2\t185\t283\t134703\t134813\t1.14e-20\t95.3\r\n"
     ]
    }
   ],
   "source": [
    "!head pgenerosa-transcrv3-blastn-scaff70k-01.tab"
   ]
  },
  {
   "cell_type": "code",
   "execution_count": 18,
   "metadata": {
    "collapsed": false
   },
   "outputs": [
    {
     "name": "stdout",
     "output_type": "stream",
     "text": [
      "3366\r\n"
     ]
    }
   ],
   "source": [
    "! grep -c \"^comp\" pgenerosa-transcrv3-blastn-scaff70k-01.tab"
   ]
  },
  {
   "cell_type": "markdown",
   "metadata": {},
   "source": [
    "**If blasted correctly, there are 3,366 matches**"
   ]
  },
  {
   "cell_type": "markdown",
   "metadata": {},
   "source": [
    "---\n",
    "\n",
    "# Re-blasting per Steven's feedback\n",
    "Steven provided [video feedback](https://uw.hosted.panopto.com/Panopto/Pages/Viewer.aspx?id=f3692c33-b29b-44d9-ac2b-ac1540b518f1) of my work thus far. He suggested blasting again using modified commands, namely restricting hits with e-values < 1e-20, and allowing for mutliple hits on a contig. Here's me re-doing the blast"
   ]
  },
  {
   "cell_type": "code",
   "execution_count": 1,
   "metadata": {
    "collapsed": false
   },
   "outputs": [
    {
     "name": "stdout",
     "output_type": "stream",
     "text": [
      "BLAST query/options error: Either a BLAST database or subject sequence(s) must be specified\r\n",
      "Please refer to the BLAST+ user manual.\r\n"
     ]
    }
   ],
   "source": [
    "!/Applications/ncbi-blast-2.5.0+/bin/blastn"
   ]
  },
  {
   "cell_type": "code",
   "execution_count": 6,
   "metadata": {
    "collapsed": false
   },
   "outputs": [
    {
     "name": "stdout",
     "output_type": "stream",
     "text": [
      "[Errno 2] No such file or directory: '../data | ls'\n",
      "/Users/shlaura3/Documents/SAFS/FISH_546_Bioinformatics/546-Bioinformatics/2016-10_Geo-Ann-Project/data\n"
     ]
    }
   ],
   "source": [
    "cd ../data"
   ]
  },
  {
   "cell_type": "code",
   "execution_count": 7,
   "metadata": {
    "collapsed": false
   },
   "outputs": [
    {
     "name": "stdout",
     "output_type": "stream",
     "text": [
      "Geoduck-transcriptome-v3.fa\r\n",
      "Geoduck-transcriptome-v3.fa.zip\r\n",
      "Geoduck-transcriptome-v3.fa_db.nhr\r\n",
      "Geoduck-transcriptome-v3.fa_db.nin\r\n",
      "Geoduck-transcriptome-v3.fa_db.nsq\r\n",
      "Panopea_generosa.scafSeq\r\n",
      "Panopea_generosa.scafSeq.zip\r\n",
      "Panopea_generosa_No-Line-Breaks.scafSeq\r\n",
      "Panopea_generosa_scaff-70k.scafSeq\r\n",
      "Panopea_generosa_scaff-70k_db.nhr\r\n",
      "Panopea_generosa_scaff-70k_db.nin\r\n",
      "Panopea_generosa_scaff-70k_db.nsq\r\n",
      "Phel_countdata.txt\r\n",
      "Phel_transcriptome.fasta\r\n"
     ]
    }
   ],
   "source": [
    "ls"
   ]
  },
  {
   "cell_type": "code",
   "execution_count": 8,
   "metadata": {
    "collapsed": true
   },
   "outputs": [],
   "source": [
    "!/Applications/ncbi-blast-2.5.0+/bin/blastn \\\n",
    "-query ../data/Geoduck-transcriptome-v3.fa \\\n",
    "-db ../data/Panopea_generosa_scaff-70k_db \\\n",
    "-task blastn \\\n",
    "-evalue 1e-20 \\\n",
    "-outfmt 6 \\\n",
    "-max_target_seqs 1 \\\n",
    "-num_threads 6 \\\n",
    "-out ../analyses/pgenerosa-transcrv3-blastn-scaff70k-01.tab"
   ]
  },
  {
   "cell_type": "markdown",
   "metadata": {},
   "source": [
    "Woops, I accidentally overwrote the previous blast ouput file. Oh well! Good lesson to learn eary in the game."
   ]
  },
  {
   "cell_type": "code",
   "execution_count": 9,
   "metadata": {
    "collapsed": false
   },
   "outputs": [
    {
     "name": "stdout",
     "output_type": "stream",
     "text": [
      "comp100007_c0_seq1\tscaffold26337\t70.435\t230\t44\t7\t351\t556\t55193\t55422\t2.67e-21\t98.7\r\n",
      "comp100064_c1_seq1\tscaffold71773\t82.192\t146\t23\t3\t76\t220\t36938\t36795\t2.95e-33\t136\r\n",
      "comp100102_c0_seq1\tscaffold4463\t79.444\t180\t28\t5\t1\t175\t12886\t13061\t1.82e-35\t143\r\n",
      "comp100151_c0_seq1\tscaffold34940\t79.866\t149\t29\t1\t1\t148\t28989\t28841\t1.22e-31\t131\r\n",
      "comp100168_c0_seq1\tscaffold26337\t68.222\t343\t83\t11\t412\t744\t116776\t117102\t2.22e-22\t102\r\n",
      "comp100173_c0_seq1\tscaffold19489\t76.923\t130\t20\t2\t2\t124\t30526\t30652\t2.02e-22\t100\r\n",
      "comp100177_c1_seq1\tscaffold5354\t70.279\t323\t58\t6\t5\t289\t23010\t23332\t1.72e-39\t158\r\n",
      "comp100177_c1_seq1\tscaffold5354\t74.317\t183\t28\t3\t5\t168\t31421\t31603\t1.24e-28\t122\r\n",
      "comp100181_c0_seq1\tscaffold11875\t80.583\t103\t11\t1\t232\t334\t31235\t31142\t3.35e-22\t100\r\n",
      "comp100181_c0_seq2\tscaffold11875\t80.583\t103\t11\t1\t102\t204\t31235\t31142\t1.96e-22\t100\r\n"
     ]
    }
   ],
   "source": [
    "!head ../analyses/pgenerosa-transcrv3-blastn-scaff70k-01.tab"
   ]
  },
  {
   "cell_type": "code",
   "execution_count": 11,
   "metadata": {
    "collapsed": false
   },
   "outputs": [
    {
     "name": "stdout",
     "output_type": "stream",
     "text": [
      "22781\r\n"
     ]
    }
   ],
   "source": [
    "! grep -c \"^comp\" ../analyses/pgenerosa-transcrv3-blastn-scaff70k-01.tab"
   ]
  },
  {
   "cell_type": "markdown",
   "metadata": {},
   "source": [
    "**This time, by allowing for multiple matches in the blast I got 22,781 contigs > 70k**"
   ]
  },
  {
   "cell_type": "code",
   "execution_count": 18,
   "metadata": {
    "collapsed": false
   },
   "outputs": [
    {
     "name": "stdout",
     "output_type": "stream",
     "text": [
      "   22781 ../analyses/pgenerosa-transcrv3-blastn-scaff70k-01.tab\r\n"
     ]
    }
   ],
   "source": [
    "# Using a different method of counting the scaffold hits - same result\n",
    "!wc -l ../analyses/pgenerosa-transcrv3-blastn-scaff70k-01.tab"
   ]
  },
  {
   "cell_type": "code",
   "execution_count": 19,
   "metadata": {
    "collapsed": false
   },
   "outputs": [
    {
     "name": "stdout",
     "output_type": "stream",
     "text": [
      "/Users/shlaura3/Documents/SAFS/FISH_546_Bioinformatics/546-Bioinformatics/2016-10_Geo-Ann-Project/scripts\n"
     ]
    }
   ],
   "source": [
    "cd ../scripts"
   ]
  },
  {
   "cell_type": "markdown",
   "metadata": {},
   "source": [
    "Steven used a perl script file to transform the .tab blast output to gff for visualization, so I will do the same"
   ]
  },
  {
   "cell_type": "code",
   "execution_count": 22,
   "metadata": {
    "collapsed": false
   },
   "outputs": [
    {
     "name": "stdout",
     "output_type": "stream",
     "text": [
      "  % Total    % Received % Xferd  Average Speed   Time    Time     Time  Current\n",
      "                                 Dload  Upload   Total   Spent    Left  Speed\n",
      "100  7427  100  7427    0     0   4376      0  0:00:01  0:00:01 --:--:--  233k\n"
     ]
    }
   ],
   "source": [
    "# downloading the perl script from Steven's GitHub\n",
    "!curl -O https://raw.githubusercontent.com/sr320/student-fish546-2016/master/scripts/2_Blast2Gff.pl "
   ]
  },
  {
   "cell_type": "code",
   "execution_count": 21,
   "metadata": {
    "collapsed": false
   },
   "outputs": [
    {
     "name": "stdout",
     "output_type": "stream",
     "text": [
      "2_Blast2Gff.pl      Helpful-Scripts.md  count_fasta.pl\r\n"
     ]
    }
   ],
   "source": [
    "ls"
   ]
  },
  {
   "cell_type": "code",
   "execution_count": 23,
   "metadata": {
    "collapsed": true
   },
   "outputs": [],
   "source": [
    "!perl ../scripts/2_Blast2Gff.pl \\\n",
    "-i ../analyses/pgenerosa-transcrv3-blastn-scaff70k-01.tab \\\n",
    "-s \"something\" \\\n",
    "-o ../analyses/pgenerosa-transcrv3-blastn-scaff70k-01.gff \\\n",
    "-p \"gene-blast\" \\\n",
    "-d \"geoduck-scaff-70k\""
   ]
  },
  {
   "cell_type": "code",
   "execution_count": 24,
   "metadata": {
    "collapsed": false
   },
   "outputs": [
    {
     "name": "stdout",
     "output_type": "stream",
     "text": [
      "scaffold26337\tblastn:geoduck-scaff-70k\tblastn\t55193\t55422\t2.67e-21\t+\t.\tcomp100007_c0_seq1\t\r\n",
      "scaffold71773\tblastn:geoduck-scaff-70k\tblastn\t36938\t36795\t2.95e-33\t-\t.\tcomp100064_c1_seq1\t\r\n",
      "scaffold4463\tblastn:geoduck-scaff-70k\tblastn\t12886\t13061\t1.82e-35\t+\t.\tcomp100102_c0_seq1\t\r\n",
      "scaffold34940\tblastn:geoduck-scaff-70k\tblastn\t28989\t28841\t1.22e-31\t-\t.\tcomp100151_c0_seq1\t\r\n",
      "scaffold26337\tblastn:geoduck-scaff-70k\tblastn\t116776\t117102\t2.22e-22\t+\t.\tcomp100168_c0_seq1\t\r\n",
      "scaffold19489\tblastn:geoduck-scaff-70k\tblastn\t30526\t30652\t2.02e-22\t+\t.\tcomp100173_c0_seq1\t\r\n",
      "scaffold5354\tblastn:geoduck-scaff-70k\tblastn\t23010\t23332\t1.72e-39\t+\t.\tcomp100177_c1_seq1\t\r\n",
      "scaffold5354\tblastn:geoduck-scaff-70k\tblastn\t31421\t31603\t1.24e-28\t+\t.\tcomp100177_c1_seq1\t\r\n",
      "scaffold11875\tblastn:geoduck-scaff-70k\tblastn\t31235\t31142\t3.35e-22\t-\t.\tcomp100181_c0_seq1\t\r\n",
      "scaffold11875\tblastn:geoduck-scaff-70k\tblastn\t31235\t31142\t1.96e-22\t-\t.\tcomp100181_c0_seq2\t\r\n"
     ]
    }
   ],
   "source": [
    "!head ../analyses/pgenerosa-transcrv3-blastn-scaff70k-01.gff"
   ]
  },
  {
   "cell_type": "code",
   "execution_count": 27,
   "metadata": {
    "collapsed": false
   },
   "outputs": [
    {
     "name": "stdout",
     "output_type": "stream",
     "text": [
      "   22781 ../analyses/pgenerosa-transcrv3-blastn-scaff70k-01.gff\r\n"
     ]
    }
   ],
   "source": [
    "# confirming same # of lines, should still be 22781\n",
    "!wc -l ../analyses/pgenerosa-transcrv3-blastn-scaff70k-01.gff"
   ]
  },
  {
   "cell_type": "code",
   "execution_count": 33,
   "metadata": {
    "collapsed": false
   },
   "outputs": [
    {
     "name": "stdout",
     "output_type": "stream",
     "text": [
      "1296135\r\n"
     ]
    }
   ],
   "source": [
    "# In comparison, the total genome file has the following number of scaffolds \n",
    "! grep -c \"^>\" ../data/Panopea_generosa.scafSeq"
   ]
  },
  {
   "cell_type": "markdown",
   "metadata": {},
   "source": [
    "**Loaded file into the IGV [software tool](http://software.broadinstitute.org/software/igv/feature_track_options) to get a visual of the scaffolds and where transcriptome matches are located**\n",
    "\n",
    "All 20 scaffolds:\n",
    "\n",
    "![All scaffolds](../images/2016-11-3_Feature-track-all-scaffolds.png)\n",
    "\n",
    "Scaffold # 71773\n",
    "\n",
    "![Scaffold 71773](../images/2016-11-3_feature-track-scaff71773.png)"
   ]
  },
  {
   "cell_type": "markdown",
   "metadata": {},
   "source": [
    "-----\n",
    "\n",
    "# Merging blastn results with geoduck transcriptome using Galaxy online tool to connect nucleotides sequences to scaffold/contig IDs"
   ]
  },
  {
   "cell_type": "markdown",
   "metadata": {},
   "source": [
    "Uploading both files\n",
    "\n",
    "![upload both files](../images/2016-11-3_upload-files.png)"
   ]
  },
  {
   "cell_type": "markdown",
   "metadata": {},
   "source": [
    "Converting the transcriptome file from fasta to tab format\n",
    "\n",
    "![Convert transciptome file from fasta to tab](../images/2016-11-3_transc-fasta-to-tab.png)"
   ]
  },
  {
   "cell_type": "markdown",
   "metadata": {},
   "source": [
    "Removing excess data from transcriptome file \n",
    "\n",
    "![Removing excess data from transcriptome file](../images/2016-11-3_transc-remove-excess.png)"
   ]
  },
  {
   "cell_type": "markdown",
   "metadata": {},
   "source": [
    "Merging files\n",
    "\n",
    "![Merging files](../images/2016-11-3_merge-files.png)"
   ]
  },
  {
   "cell_type": "code",
   "execution_count": 11,
   "metadata": {
    "collapsed": false
   },
   "outputs": [
    {
     "name": "stdout",
     "output_type": "stream",
     "text": [
      "comp100007_c0_seq1\tTTGAAGAGTCTAATAATGGATCGGTAAATGAAGCTTTATGTTCTTAAAAGAGGTATATCTTAGACTTGAAGATGATTATTTAGAAATCTGTAAAAGGTCGAGGAAACTGGACACTGTTTAGGGAATTGCTACCTGAATCACAAGACTTTTGAAACGAAAAGTGCATACCTCATAGTTTTCACACTACACTTATGTTAGCAGCAATGGTAGACATGTGTCTTTGATGGATCCTATTGTGCTACCATTCTTTCTATAGGACTCAAATTAGTGAACCAATGATTCATTTTATGTATTATTATTATATGCATATGCAAATCTCCGACTATGCAATGTGTATTCATGTAGCGCTGTATTTGAGCACATTTGGCAGATCTTCTTTCAATTATATATGACTGTTTGTGATCAATACTACGATAAAAAAATCTGAAAATAGCAAAATTTGTTAGCAGTATTATCGGAAGCACAACAAATTATTCTATATGACTGTGAACTTTCTTAATATGTTTACAGTTCATAATTTATGGGGCGAATAACATTACTCAATGAACGTTCCTCGCCATGCATAGAAAATACATCATAAATATATGTCAACTCTGGAAAGTCACCAGTTCCCATGTATCGTGGTTACTGTGATATTTTCTTATGTTTACAGTTCAGCTTGATAAAAATATAGCAGATCTGAAAAAAAAAATGATCTGTATTCAAAGATTTTCGTTTTAAAGGCGATAGTTATA\tscaffold26337\t70.435\t230\t44\t7\t351\t556\t55193\t55422\t2.67e-21\t98.7\r\n",
      "comp100064_c1_seq1\tTACATGGGAATAATCATTTACATGCGTGCTTTAACAAAATATCATCTGAATGTATGGCATTGAAACGTAACACAATGAGGCCCACCCAAGGGTTTTGGAGATCTGGAAAACATGGCCAATTATTTTAGATATCTAGGGAACATTGACCATTACTTTCAGGGATCCAGGGATCAACGGCCTAATTTTAGAGATCTGAGGGAAATACTTTTGGGGAACTATG\tscaffold71773\t82.192\t146\t23\t3\t76\t220\t36938\t36795\t2.95e-33\t136\r\n",
      "comp100102_c0_seq1\tAAAAACAACGTAGTCAACCTCCAGTTCTTGTGCATTTTTAAGTGGGTATAGATTCATGCTATGAATAAAATACTTTAAAACTCTATGTTGAATTATTTTTTTACCTTTGAAATCCTAGACCTTATATTTTATGCAGAACCAACAACTCAATTCAAATGTGCAGTGAGGCCTAAAGGAGCACGCTAATATAACTAAAGTTCATG\tscaffold4463\t79.444\t180\t28\t5\t1\t175\t12886\t13061\t1.82e-35\t143\r\n",
      "comp100151_c0_seq1\tTCAGTTGCTTCAACTGAAAGTTTGGATGACTTCTCAGTTTGGTAAGTGTTCAATTGCTATGAATTTAGGAACAGGCATAGAACTCCTCCTTTTTATTTAGTGGTTAATAGACCGAATTTGGGAGGTATCAGGTTCTCGAATAGACTAAAAGAAACTGCATGTGGTTTCATTAACATTGATTATTGAGTAAAAAAGTAACCAGTCAAAATTTAATT\tscaffold34940\t79.866\t149\t29\t1\t1\t148\t28989\t28841\t1.22e-31\t131\r\n",
      "comp100168_c0_seq1\tGATGTTGCAGTAGCTGTGTCCTGCCATTGTTTGCCATTTCACTGCTTTTTTATATTTACTCGTTTGTCAAAACCAAAAGCTACGAAAAATAGACACATCTAGAAAATATAATAAAAATAATAATATATAGATAACGTTCTAGAAATTATGTTTTTATCATGTTTTTTCATGTTGTTCATGATGATGTCAATGATCCAAATTGCATTTCTCGTGCTGTATACGAGACGAAATTCCATTAATAAGGTACAATTAATATAATGCTCTTCTAGCAAAACTGTAGATGGGATTTAACGTGCTATGCTTTGTTTAGATGATCACAAAGATTGTATTCTTCACAAAATAAGTTTAAGTTGAGGACCGTGCAATGTGTTTCCCATAAGTGTATGTATATCTGATACTTTATGCCAAATTAATGCTATAACAAGTATTGGCAACATATTAAAAACAAGTTTAACCTGAAAATACATTTTAAATATTTATATCAGTAAAAATAAACGCATATTTAAAAAAAATATTTTGCCTCAAAATTTATAGTTTCGAATCAAAGTCTTGCATTTGTCTTTCAACGTTCTTGTTTACCAATTTCAGATTTTACCATGGTGGTTCAACATCAAACGTTATGGTTTAAACTATTTTCACAACACCCTGATGAACTGGGTCATCCTCCGATTTTCAAAAATTGCCAAAATTAAACGTATACATTTCGGTGTAAAAAAATCGGATATGATGTTTAAAAATCGTTTA\tscaffold26337\t68.222\t343\t83\t11\t412\t744\t116776\t117102\t2.22e-22\t102\r\n",
      "comp100173_c0_seq1\tGTCATGCCGCAGACGCATGGTATAGTGCTGCATCCAGTCATATTATGCTGACACTGGGCTGATCAGTCCTAGAACTAGCCTTCTCTAAATACTAAGAAAGGAAACTTCTGGTACCATTTTTCAAGACTGAACCTGTGACAACCTTGACACTTGCTGGGTGTCATTATGGCAAAGGCCATCTGATCAGGACCCAGTTGTTCAAAGCTTGGT\tscaffold19489\t76.923\t130\t20\t2\t2\t124\t30526\t30652\t2.02e-22\t100\r\n",
      "comp100177_c1_seq1\tTTAGTTTGAAATATTTTCAAATGGTTCTTAGAGGCTGTGATTTCTTGCTAAGCTGGCATAGCATATACAGAAATATGACATCATTGGAGTTAAACAAATGACTTTGTAGGGTTTTAACATATGTATGTATTTATGAACATTTGAAGACTTGCTTTTTAAAAATATCTTCGGGTGTCATTGCAGTCTGGTTAAGATACCAGGTATTTTGCATTTTTATGTGTGGATACAATCCTGCTATGAAAAACAATACTTCAAAAATAGTTTTATGTAGAATTGTTTTTACCATGGACAAAGAACAAAATTCAATAGTGTAGTGAGACCTGAATGTAGTTTGTACATGTGAGGTTTAGAAGCACCATTTCTAAATGTTATAGTTGCCCACTTTGGGCCATATAATG\tscaffold5354\t70.279\t323\t58\t6\t5\t289\t23010\t23332\t1.72e-39\t158\r\n",
      "comp100177_c1_seq1\tTTAGTTTGAAATATTTTCAAATGGTTCTTAGAGGCTGTGATTTCTTGCTAAGCTGGCATAGCATATACAGAAATATGACATCATTGGAGTTAAACAAATGACTTTGTAGGGTTTTAACATATGTATGTATTTATGAACATTTGAAGACTTGCTTTTTAAAAATATCTTCGGGTGTCATTGCAGTCTGGTTAAGATACCAGGTATTTTGCATTTTTATGTGTGGATACAATCCTGCTATGAAAAACAATACTTCAAAAATAGTTTTATGTAGAATTGTTTTTACCATGGACAAAGAACAAAATTCAATAGTGTAGTGAGACCTGAATGTAGTTTGTACATGTGAGGTTTAGAAGCACCATTTCTAAATGTTATAGTTGCCCACTTTGGGCCATATAATG\tscaffold5354\t74.317\t183\t28\t3\t5\t168\t31421\t31603\t1.24e-28\t122\r\n",
      "comp100181_c0_seq1\tACTGTGTTGATTTCATTAAACAAAAAACCCTATTTTGTTGTCAAATAAACCCCACAAAACATCTGATACAACCTATGCAGTGGTGTACTTAGAACAGTTTTCTGGAGCGTGTTGTTCTAGTTTTACACCAATTGACCACAACAACTTCTCAGACATTAACATATTTATCGGAAATGCAAGAGTTAAGACATTAATCCTAGGAGTGTTCGATATTCCCCCATATAACTCTATATATACTGGTCATACCCAATACCGCGAGTCTAAAAAATGTTCAACCATGTAAAGAATGCCATCAATACTAAACAGTAATAAGGCTACACAAGTGTGCTGAGTA\tscaffold11875\t80.583\t103\t11\t1\t232\t334\t31235\t31142\t3.35e-22\t100\r\n",
      "comp100181_c0_seq2\tGCATTAACATATTTATCGGAAGACATTAACATATTTATCGGAAATGCAAGAGTTAAGACATTAATCCTAGGAGTGTTCGATATTCCCCCATATAACTCTATATATACTGGTCATACCCAATACCGCGAGTCTAAAAAATGTTCAACCATGTAAAGAATGCCATCAATACTAAACAGTAATAAGGCTACACAAGTGTGCTGAGTA\tscaffold11875\t80.583\t103\t11\t1\t102\t204\t31235\t31142\t1.96e-22\t100\r\n"
     ]
    }
   ],
   "source": [
    "# Downloaded file; let's take a look at it:\n",
    "!head ../analyses/2016-11-3_Geo70k-scaff-transcrip-sequences.tabular"
   ]
  },
  {
   "cell_type": "markdown",
   "metadata": {},
   "source": [
    "---\n",
    "\n",
    "# Merging my scaff70k transcriptome sequences with annotations\n",
    "\n",
    "First, downloaded [p. generosa annotated transcriptome data file](https://github.com/sr320/paper-pano-go/blob/master/data-results/Geoduck-transcriptome-v3annotated.fa.zip) from Steven's [paper.pano.go repo](https://github.com/sr320/paper-pano-go). Let's check it out:"
   ]
  },
  {
   "cell_type": "code",
   "execution_count": 4,
   "metadata": {
    "collapsed": false
   },
   "outputs": [
    {
     "name": "stdout",
     "output_type": "stream",
     "text": [
      "Geoduck-transcriptome-v3.fa.zip\r\n",
      "Geoduck-transcriptome-v3.fa_db.nhr\r\n",
      "Geoduck-transcriptome-v3.fa_db.nin\r\n",
      "Geoduck-transcriptome-v3.fa_db.nsq\r\n",
      "\u001b[31mGeoduck-transcriptome-v3annotated.fa\u001b[m\u001b[m*\r\n",
      "Panopea_generosa_No-Line-Breaks.scafSeq.fai\r\n",
      "Panopea_generosa_ScafSeq.genome\r\n",
      "Panopea_generosa_scaff-70k.scafSeq\r\n",
      "Panopea_generosa_scaff-70k.scafSeq.fai\r\n",
      "Panopea_generosa_scaff-70k_db.nhr\r\n",
      "Panopea_generosa_scaff-70k_db.nin\r\n",
      "Panopea_generosa_scaff-70k_db.nsq\r\n",
      "Phel_countdata.txt\r\n",
      "Phel_transcriptome.fasta\r\n"
     ]
    }
   ],
   "source": [
    "ls"
   ]
  },
  {
   "cell_type": "code",
   "execution_count": 12,
   "metadata": {
    "collapsed": false
   },
   "outputs": [
    {
     "name": "stdout",
     "output_type": "stream",
     "text": [
      ">comp100000_c0_seq1\r\n",
      "TGAATGTATGTTTGTGAACGTATGTATATGAATGTATGTATGTGAATGCATACCATCTGT\r\n",
      "ATAAGTATAATCCGACCGGGAGATGTTTATTCACACAGTTTGGCATTATGACGTTTAACC\r\n",
      "TCTGAATTGGCGTCTCTTGCTACTGACCGCTTCACAGTGATGACCCATGTTGTCACTTCT\r\n",
      "AATCTATTTATGTATTGCTCTTTTATATTATACTATTAACGCTGTTAAAATACACTACCG\r\n",
      "CTAAACAAATAAGAGTTGTGGGTTTGAATCATTGGTGAGTGCAGGAACCTCAGCAGGTCA\r\n",
      "TTAAGATTTACGTGTACGTCTATCCTAAACCTACATGTTTCAACTTTGTTGTTTTTCGGT\r\n",
      "TTCGTTCTCTGTACACAGCTCTTGAAACATACATAAAATACCATTTTATTAAAAAATATG\r\n",
      "TCTCTATTTAATGTTAAAACCTTTTTAAGAAAA\r\n",
      ">comp100001_c1_seq1\r\n"
     ]
    }
   ],
   "source": [
    "!head ../data/Geoduck-transcriptome-v3annotated.fa\n"
   ]
  },
  {
   "cell_type": "code",
   "execution_count": 17,
   "metadata": {
    "collapsed": false,
    "scrolled": true
   },
   "outputs": [
    {
     "name": "stdout",
     "output_type": "stream",
     "text": [
      ">comp100065_c0_seq1 PREDICTED Lipoma HMGIC fusion partner homolog [Panopea generosa]\r\n",
      ">comp100097_c0_seq1 PREDICTED Importin-11 (Imp11) (Ran-binding protein 11) (RanBP11) [Panopea generosa]\r\n",
      ">comp100104_c2_seq1 PREDICTED Sacsin (DnaJ homolog subfamily C member 29) (DNAJC29) [Panopea generosa]\r\n",
      ">comp100105_c1_seq1 PREDICTED Protein c-ets-1-B (C-ets-1B) (XE1-B) (Fragment) [Panopea generosa]\r\n",
      ">comp100108_c1_seq1 PREDICTED Apolipophorins [Cleaved into: Apolipophorin-2 (Apolipophorin II) (apoLp-2); Apolipophorin-1 (Apolipophorin I) (apoLp-1)] [Panopea generosa]\r\n",
      ">comp100109_c0_seq1 PREDICTED Alpha-tectorin [Panopea generosa]\r\n",
      ">comp100113_c0_seq1 PREDICTED Beta-1,3-galactosyltransferase bre-5 (EC 2.4.1.-) (Bacillus thuringiensis toxin-resistant protein 5) (Bt toxin-resistant protein 5) [Panopea generosa]\r\n",
      ">comp100113_c0_seq2 PREDICTED Beta-1,3-galactosyltransferase 5 (Beta-1,3-GalTase 5) (Beta3Gal-T5) (Beta3GalT5) (b3Gal-T5) (EC 2.4.1.-) (Beta-3-Gx-T5) (UDP-Gal:beta-GlcNAc beta-1,3-galactosyltransferase 5) (UDP-galactose:beta-N-acetylglucosamine beta-1,3-galactosyltransferase 5) (Fragment) [Panopea generosa]\r\n",
      ">comp100113_c1_seq1 PREDICTED Beta-1,3-galactosyltransferase 1 (Beta-1,3-GalTase 1) (Beta3Gal-T1) (Beta3GalT1) (EC 2.4.1.-) (UDP-galactose:beta-N-acetyl-glucosamine-beta-1,3-galactosyltransferase 1) [Panopea generosa]\r\n",
      ">comp100129_c0_seq1 PREDICTED Ras GTPase-activating protein 3 (GAP1(IP4BP)) (Ins P4-binding protein) [Panopea generosa]\r\n",
      ">comp100141_c0_seq1 PREDICTED Mitochondrial uncoupling protein 4 (UCP 4) (Solute carrier family 25 member 27) [Panopea generosa]\r\n",
      ">comp100174_c1_seq1 PREDICTED E3 ubiquitin-protein ligase PDZRN3 (EC 6.3.2.-) (Ligand of Numb protein X 3) (PDZ domain-containing RING finger protein 3) (Semaphorin cytoplasmic domain-associated protein 3) (Protein SEMACAP3) [Panopea generosa]\r\n",
      ">comp100184_c0_seq2 PREDICTED Sphingosine-1-phosphate lyase (S1PL) (SP-lyase) (SPL) (EC 4.1.2.27) (Sphingosine-1-phosphate aldolase) [Panopea generosa]\r\n",
      ">comp100187_c0_seq1 PREDICTED Protein OPI10 homolog [Panopea generosa]\r\n",
      ">comp100218_c0_seq1 PREDICTED General transcription factor 3C polypeptide 3 (Transcription factor IIIC 102 kDa subunit) (TFIIIC 102 kDa subunit) (TFIIIC102) (Transcription factor IIIC subunit gamma) (TF3C-gamma) [Panopea generosa]\r\n",
      ">comp100298_c0_seq1 PREDICTED Histidine-specific methyltransferase EgtD (EC 2.1.1.44) (Histidine-alpha-N-methyltransferase) [Panopea generosa]\r\n",
      ">comp100305_c0_seq1 PREDICTED Alpha-galactosidase A (EC 3.2.1.22) (Alpha-D-galactosidase A) (Alpha-D-galactoside galactohydrolase) (Melibiase) (Agalsidase) [Panopea generosa]\r\n",
      ">comp100366_c1_seq1 PREDICTED Probable aldehyde oxidase 2 (AO-2) (EC 1.2.3.1) [Panopea generosa]\r\n",
      ">comp100370_c0_seq1 PREDICTED CHRNA7-FAM7A fusion protein (CHRNA7-DR1) (D-10) [Panopea generosa]\r\n",
      ">comp100387_c1_seq1 PREDICTED BPTI/Kunitz domain-containing protein 4 (Nacre serine protease inhibitor 3) (NSPI3) [Panopea generosa]\r\n"
     ]
    }
   ],
   "source": [
    "# checking out the annotated transcriptome contigs; all annotations begin with \"PREDICTED\" string\n",
    "!grep -E \"PREDICTED\" ../data/Geoduck-transcriptome-v3annotated.fa | head -n 20"
   ]
  },
  {
   "cell_type": "code",
   "execution_count": 15,
   "metadata": {
    "collapsed": false
   },
   "outputs": [
    {
     "name": "stdout",
     "output_type": "stream",
     "text": [
      "22961\r\n"
     ]
    }
   ],
   "source": [
    "# How many transcriptome contigs have been annotated\n",
    "!grep -c -E \"PREDICTED\" ../data/Geoduck-transcriptome-v3annotated.fa"
   ]
  },
  {
   "cell_type": "code",
   "execution_count": 16,
   "metadata": {
    "collapsed": false
   },
   "outputs": [
    {
     "name": "stdout",
     "output_type": "stream",
     "text": [
      "153982\r\n"
     ]
    }
   ],
   "source": [
    "# compared to total number of transcriptome contigs \n",
    "! grep -c \"^>\" ../data/Geoduck-transcriptome-v3annotated.fa"
   ]
  },
  {
   "cell_type": "code",
   "execution_count": 2,
   "metadata": {
    "collapsed": false
   },
   "outputs": [
    {
     "name": "stdout",
     "output_type": "stream",
     "text": [
      "/Users/shlaura3/Documents/SAFS/FISH_546_Bioinformatics/546-Bioinformatics/2016-10_Geo-Ann-Project/data\n"
     ]
    }
   ],
   "source": [
    "cd ../data"
   ]
  },
  {
   "cell_type": "code",
   "execution_count": 5,
   "metadata": {
    "collapsed": false
   },
   "outputs": [
    {
     "name": "stdout",
     "output_type": "stream",
     "text": [
      "  % Total    % Received % Xferd  Average Speed   Time    Time     Time  Current\n",
      "                                 Dload  Upload   Total   Spent    Left  Speed\n",
      "100 8797k  100 8797k    0     0  3441k      0  0:00:02  0:00:02 --:--:-- 4108k\n"
     ]
    }
   ],
   "source": [
    "# Turns out the ..v3annotated.fa file might not be the correct one to work with; doesn't have all the associated protein data. \n",
    "! curl -O https://raw.githubusercontent.com/sr320/paper-pano-go/master/data-results/Geo-v3-join-uniprot-all0916-condensed.tab "
   ]
  },
  {
   "cell_type": "code",
   "execution_count": 6,
   "metadata": {
    "collapsed": false
   },
   "outputs": [
    {
     "name": "stdout",
     "output_type": "stream",
     "text": [
      "Geo-v3-join-uniprot-all0916-condensed.tab\r\n",
      "Geoduck-transcriptome-v3.fa.zip\r\n",
      "Geoduck-transcriptome-v3.fa_db.nhr\r\n",
      "Geoduck-transcriptome-v3.fa_db.nin\r\n",
      "Geoduck-transcriptome-v3.fa_db.nsq\r\n",
      "\u001b[31mGeoduck-transcriptome-v3annotated.fa\u001b[m\u001b[m*\r\n",
      "Panopea_generosa_No-Line-Breaks.scafSeq.fai\r\n",
      "Panopea_generosa_ScafSeq.genome\r\n",
      "Panopea_generosa_scaff-70k.scafSeq\r\n",
      "Panopea_generosa_scaff-70k.scafSeq.fai\r\n",
      "Panopea_generosa_scaff-70k_db.nhr\r\n",
      "Panopea_generosa_scaff-70k_db.nin\r\n",
      "Panopea_generosa_scaff-70k_db.nsq\r\n",
      "Phel_countdata.txt\r\n",
      "Phel_transcriptome.fasta\r\n"
     ]
    }
   ],
   "source": [
    "ls"
   ]
  },
  {
   "cell_type": "code",
   "execution_count": 8,
   "metadata": {
    "collapsed": false
   },
   "outputs": [
    {
     "name": "stdout",
     "output_type": "stream",
     "text": [
      "GeoID\tEvalue\tSPID\tProteinName\tOrganism\tGO\tPFAM\r\n",
      "comp100065_c0_seq1\t2.00E-08\tQ5PRC1\tLipoma HMGIC fusion partner homolog\tDanio rerio (Zebrafish) (Brachydanio rerio)\t\tPF10242;\r\n",
      "comp100097_c0_seq1\t2.00E-37\tQ9UI26\tImportin-11 (Imp11) (Ran-binding protein 11) (RanBP11)\tHomo sapiens (Human)\tribosomal protein import into nucleus [GO:0006610]; transcription factor import into nucleus [GO:0042991]\tPF03810;\r\n",
      "comp100104_c2_seq1\t3.00E-29\tQ9NZJ4\tSacsin (DnaJ homolog subfamily C member 29) (DNAJC29)\tHomo sapiens (Human)\tnegative regulation of inclusion body assembly [GO:0090084]; protein folding [GO:0006457]\tPF05168;PF00240;\r\n",
      "comp100105_c1_seq1\t2.00E-73\tP18756\tProtein c-ets-1-B (C-ets-1B) (XE1-B) (Fragment)\tXenopus laevis (African clawed frog)\tpositive regulation of endothelial cell migration [GO:0010595]; regulation of angiogenesis [GO:0045765]; transcription, DNA-templated [GO:0006351]\tPF00178;\r\n",
      "comp100108_c1_seq1\t3.00E-59\tQ9U943\tApolipophorins [Cleaved into: Apolipophorin-2 (Apolipophorin II) (apoLp-2); Apolipophorin-1 (Apolipophorin I) (apoLp-1)]\tLocusta migratoria (Migratory locust)\tWnt signaling pathway [GO:0016055]\tPF08742;PF06448;PF09172;PF01347;PF00094;\r\n",
      "comp100109_c0_seq1\t6.00E-23\tO75443\tAlpha-tectorin\tHomo sapiens (Human)\tcell-matrix adhesion [GO:0007160]; sensory perception of sound [GO:0007605]\tPF08742;PF06119;PF01826;PF12714;PF00094;PF00100;\r\n",
      "comp100113_c0_seq1\t2.00E-06\tQ95US5\tBeta-1,3-galactosyltransferase bre-5 (EC 2.4.1.-) (Bacillus thuringiensis toxin-resistant protein 5) (Bt toxin-resistant protein 5)\tCaenorhabditis elegans\tcarbohydrate biosynthetic process [GO:0016051]; formation of infection structure on or near host [GO:0075015]; positive regulation of Notch signaling pathway [GO:0045747]; protein glycosylation [GO:0006486]; response to toxic substance [GO:0009636]\tPF01762;\r\n",
      "comp100113_c0_seq2\t9.00E-13\tQ9N295\tBeta-1,3-galactosyltransferase 5 (Beta-1,3-GalTase 5) (Beta3Gal-T5) (Beta3GalT5) (b3Gal-T5) (EC 2.4.1.-) (Beta-3-Gx-T5) (UDP-Gal:beta-GlcNAc beta-1,3-galactosyltransferase 5) (UDP-galactose:beta-N-acetylglucosamine beta-1,3-galactosyltransferase 5) (Fragment)\tPan troglodytes (Chimpanzee)\tprotein glycosylation [GO:0006486]\tPF01762;\r\n",
      "comp100113_c1_seq1\t7.00E-09\tQ9MYM7\tBeta-1,3-galactosyltransferase 1 (Beta-1,3-GalTase 1) (Beta3Gal-T1) (Beta3GalT1) (EC 2.4.1.-) (UDP-galactose:beta-N-acetyl-glucosamine-beta-1,3-galactosyltransferase 1)\tPongo pygmaeus (Bornean orangutan)\tprotein glycosylation [GO:0006486]\tPF01762;\r\n"
     ]
    }
   ],
   "source": [
    "# This is the geoduck transcriptome annotated with detailed info. from the Uniprot database\n",
    "! head -10 Geo-v3-join-uniprot-all0916-condensed.tab"
   ]
  },
  {
   "cell_type": "markdown",
   "metadata": {},
   "source": [
    "Now let's merge this file with my genome/transcriptome file using Galaxy: \n",
    "\n",
    "![Galaxy input to merge uniprot with genome](../images/2016-11-10_merge-uniprot-with-genome.png)"
   ]
  },
  {
   "cell_type": "code",
   "execution_count": 9,
   "metadata": {
    "collapsed": false
   },
   "outputs": [
    {
     "name": "stdout",
     "output_type": "stream",
     "text": [
      "comp102842_c0_seq1\t3.00E-26\tO75626\tPR domain zinc finger protein 1 (EC 2.1.1.-) (BLIMP-1) (Beta-interferon gene positive regulatory domain I-binding factor) (PR domain-containing protein 1) (Positive regulatory domain I-binding factor 1) (PRDI-BF1) (PRDI-binding factor 1)\tHomo sapiens (Human)\taorta development [GO:0035904]; artery morphogenesis [GO:0048844]; cell fate commitment [GO:0045165]; coronary vasculature development [GO:0060976]; eye photoreceptor cell development [GO:0042462]; germ cell development [GO:0007281]; heart valve development [GO:0003170]; intestinal epithelial cell development [GO:0060576]; maternal placenta development [GO:0001893]; morphogenesis of a branching structure [GO:0001763]; negative regulation of B cell proliferation [GO:0030889]; negative regulation of lipopolysaccharide-mediated signaling pathway [GO:0031665]; negative regulation of transcription from RNA polymerase II promoter [GO:0000122]; positive regulation of B cell differentiation [GO:0045579]; positive regulation of gene expression [GO:0010628]; post-embryonic development [GO:0009791]; regulation of extrathymic T cell differentiation [GO:0033082]; regulation of natural killer cell differentiation [GO:0032823]; regulation of NK T cell differentiation [GO:0051136]; sebum secreting cell proliferation [GO:1990654]; transcription, DNA-templated [GO:0006351]; trophoblast giant cell differentiation [GO:0060707]; ventricular septum development [GO:0003281]\tPF00856;PF13912;\tcomp102842_c0_seq1\tTTCTCCAGTATGTATCCGCATGTGGATGTTTATTTGTGATGATTTTATAAATTTCTTGTAACAAACCTGGCACTCAAACAGTTTTTTTCCAGTATGTTTCCGAATATATATTTTAAAATTTGAGGACTGTGTAAATTTCCTATTACAAACCTGACATTGAAACAGGTTTTCTCCCGTACGATTAATCATGTGAGTCTGTAGATCAGATACTTCTACAGACATCTTATTACACACCTGGCACTCAATTGGGTTTCCACCAGTGTGTATCCGAATGTGAGAGTTTAGATGTGATGATTGTGCAAA\tscaffold71773\t69.333\t300\t86\t5\t1\t297\t33850\t34146\t5.83e-25\t109\r\n",
      "comp102842_c0_seq1\t3.00E-26\tO75626\tPR domain zinc finger protein 1 (EC 2.1.1.-) (BLIMP-1) (Beta-interferon gene positive regulatory domain I-binding factor) (PR domain-containing protein 1) (Positive regulatory domain I-binding factor 1) (PRDI-BF1) (PRDI-binding factor 1)\tHomo sapiens (Human)\taorta development [GO:0035904]; artery morphogenesis [GO:0048844]; cell fate commitment [GO:0045165]; coronary vasculature development [GO:0060976]; eye photoreceptor cell development [GO:0042462]; germ cell development [GO:0007281]; heart valve development [GO:0003170]; intestinal epithelial cell development [GO:0060576]; maternal placenta development [GO:0001893]; morphogenesis of a branching structure [GO:0001763]; negative regulation of B cell proliferation [GO:0030889]; negative regulation of lipopolysaccharide-mediated signaling pathway [GO:0031665]; negative regulation of transcription from RNA polymerase II promoter [GO:0000122]; positive regulation of B cell differentiation [GO:0045579]; positive regulation of gene expression [GO:0010628]; post-embryonic development [GO:0009791]; regulation of extrathymic T cell differentiation [GO:0033082]; regulation of natural killer cell differentiation [GO:0032823]; regulation of NK T cell differentiation [GO:0051136]; sebum secreting cell proliferation [GO:1990654]; transcription, DNA-templated [GO:0006351]; trophoblast giant cell differentiation [GO:0060707]; ventricular septum development [GO:0003281]\tPF00856;PF13912;\tcomp102842_c0_seq1\tTTCTCCAGTATGTATCCGCATGTGGATGTTTATTTGTGATGATTTTATAAATTTCTTGTAACAAACCTGGCACTCAAACAGTTTTTTTCCAGTATGTTTCCGAATATATATTTTAAAATTTGAGGACTGTGTAAATTTCCTATTACAAACCTGACATTGAAACAGGTTTTCTCCCGTACGATTAATCATGTGAGTCTGTAGATCAGATACTTCTACAGACATCTTATTACACACCTGGCACTCAATTGGGTTTCCACCAGTGTGTATCCGAATGTGAGAGTTTAGATGTGATGATTGTGCAAA\tscaffold71773\t68.350\t297\t90\t2\t1\t295\t51937\t52231\t2.03e-24\t107\r\n"
     ]
    }
   ],
   "source": [
    "# The resulting table is data-rich; it has extraneous info (e.g. the contig ID is listed twice), but I will leave as...\n",
    "# is and reformat later when I want to visualize and make available for others' use\n",
    "\n",
    "!head -n 2 Geo-70k-scaff-annotations-merged-table.tabular"
   ]
  },
  {
   "cell_type": "markdown",
   "metadata": {},
   "source": [
    "---\n",
    "\n",
    "# Identifying transposable elements"
   ]
  },
  {
   "cell_type": "markdown",
   "metadata": {},
   "source": [
    "To identify transposable elements in my genome (transcriptome?!?!) I will use the RepeatMasker program. RepeatMasker requires Linux operating system and several dependencies. The RepeatMasker download page provided very clear instructions for install and configure.\n",
    "\n",
    "* [Install RepeatMasker etc.](https://seanb80.github.io/blog/2016/11/04/Installing-RepeatMasker)  \n",
    "  * Installed [RMBlast](http://www.repeatmasker.org/RMBlast.html) (NCBI Blast modified for use with RepeatMasker/RepeatModeler): \n",
    "    * RMBlast Binaries: ftp://ftp.ncbi.nlm.nih.gov/blast/executables/rmblast/2.2.28\n",
    "    * BLAST+ Binaries: ftp://ftp.ncbi.nlm.nih.gov/blast/executables/blast+/2.2.28/\n",
    "  * [Installed TRF - Tandem Repeat Finder](http://tandem.bu.edu/trf/trf.html). Version: [Tandem Repeats Finder 4.09 for 64 bit Mac OS X](http://tandem.bu.edu/trf/trf409.macosx.download.html)\n",
    "  * Installed [RepBase](http://www.girinst.org) for RepeatMasker, database of transposable elements: [repeatmaskerlibraries-20160829.tar.gz (69.69 MB)](http://www.girinst.org/server/RepBase/index.php)\n",
    "  \n",
    "For a detailed view of the installation and configure process, see Sean's [Nov. 4 2016 blog post](https://seanb80.github.io/blog/2016/11/04/Installing-RepeatMasker). I found this very helpful to walk me through the process. \n",
    "\n",
    "### Running RepeatMasker on Geoduck genome - 70k Scaffolds\n",
    "\n",
    "RepeatMasker does the following: \n",
    "\n",
    "_RepeatMasker is a program that screens DNA sequences for interspersed repeats and low complexity DNA sequences. The output of the program is a detailed annotation of the repeats that are present in the query sequence as well as a modified version of the query sequence in which all the annotated repeats have been masked (default: replaced by Ns)._ -[RepeatMasker website](http://www.repeatmasker.org/webrepeatmaskerhelp.html)\n",
    "\n",
    "I will follow another [blogpost by Sean](https://seanb80.github.io/blog/2016/11/11/Running-Repeat-Masker-on-Oly-10K-scaffold)."
   ]
  },
  {
   "cell_type": "code",
   "execution_count": 2,
   "metadata": {
    "collapsed": false
   },
   "outputs": [
    {
     "data": {
      "text/plain": [
       "'/Users/shlaura3/Documents/SAFS/FISH_546_Bioinformatics/546-Bioinformatics/2016-10_Geo-Ann-Project/Jupyter-Notebooks'"
      ]
     },
     "execution_count": 2,
     "metadata": {},
     "output_type": "execute_result"
    }
   ],
   "source": [
    "pwd"
   ]
  },
  {
   "cell_type": "code",
   "execution_count": 3,
   "metadata": {
    "collapsed": false
   },
   "outputs": [
    {
     "name": "stdout",
     "output_type": "stream",
     "text": [
      "/Users/shlaura3/Documents/SAFS/FISH_546_Bioinformatics/546-Bioinformatics/2016-10_Geo-Ann-Project\n"
     ]
    }
   ],
   "source": [
    "cd .."
   ]
  },
  {
   "cell_type": "code",
   "execution_count": 4,
   "metadata": {
    "collapsed": false
   },
   "outputs": [
    {
     "name": "stdout",
     "output_type": "stream",
     "text": [
      "/Users/shlaura3/Documents/SAFS/FISH_546_Bioinformatics/546-Bioinformatics/2016-10_Geo-Ann-Project/analyses\n"
     ]
    }
   ],
   "source": [
    "cd analyses"
   ]
  },
  {
   "cell_type": "code",
   "execution_count": 5,
   "metadata": {
    "collapsed": true
   },
   "outputs": [],
   "source": [
    "mkdir RepeatMasker/"
   ]
  },
  {
   "cell_type": "code",
   "execution_count": 6,
   "metadata": {
    "collapsed": false
   },
   "outputs": [
    {
     "name": "stdout",
     "output_type": "stream",
     "text": [
      "/Users/shlaura3/Documents/SAFS/FISH_546_Bioinformatics/546-Bioinformatics/2016-10_Geo-Ann-Project/analyses/RepeatMasker\n"
     ]
    }
   ],
   "source": [
    "cd RepeatMasker"
   ]
  },
  {
   "cell_type": "code",
   "execution_count": 1,
   "metadata": {
    "collapsed": false
   },
   "outputs": [
    {
     "name": "stdout",
     "output_type": "stream",
     "text": [
      "Password:\n"
     ]
    }
   ],
   "source": [
    "! sudo perl /usr/local/RepeatMasker/RepeatMasker \\\n",
    "-species \"crassostrea gigas\" -gff -s ../data/Panopea_generosa_scaff-70k.scafSeq"
   ]
  },
  {
   "cell_type": "markdown",
   "metadata": {},
   "source": [
    "#### The RepeatMasker program did not want to work via Jupyter, but it DID work very well directly in the terminal. \n",
    "\n",
    "I ran RepeatMasker twice. \n",
    "\n",
    "**1)**: using the default, \"unrefined\" speed and **2)** using the slow, \"refined\" speed which takes ~3 times longer but will find and mask 0-5% more repetitive DNA sequences than the default setting. \n",
    "\n",
    "**1)** `! sudo perl /usr/local/RepeatMasker/RepeatMasker \\\n",
    "   -species \"crassostrea gigas\" -gff -s ../data/Panopea_generosa_scaff-70k.scafSeq`\n",
    "\n",
    "**2)** `! sudo perl /usr/local/RepeatMasker/RepeatMasker \\\n",
    "   -species \"crassostrea gigas\" -gff ../data/Panopea_generosa_scaff-70k.scafSeq`\n",
    "  \n",
    "Note:\n",
    " -species \"crassostrea gigas\" specifies a species library; if none specified the human genome library is the default\n",
    " -gff creates a .gff file in the output\n",
    " -sudo overrides permissions/provides access the RepeatMasker program, as it's located in the restricted /usr/local folder\n",
    " -RepeatMasker automatically prints to file in the working directory\n",
    " \n",
    "Checking out the results:"
   ]
  },
  {
   "cell_type": "code",
   "execution_count": 29,
   "metadata": {
    "collapsed": false
   },
   "outputs": [
    {
     "name": "stdout",
     "output_type": "stream",
     "text": [
      "##gff-version 2\r\n",
      "##date 2016-11-15\r\n",
      "##sequence-region Panopea_generosa_scaff-70k.scafSeq\r\n",
      "scaffold10970\tRepeatMasker\tsimilarity\t2053\t2317\t24.8\t+\t.\tTarget \"Motif:(CA)n\" 1 264\r\n",
      "scaffold10970\tRepeatMasker\tsimilarity\t3020\t3051\t21.7\t+\t.\tTarget \"Motif:(TTATAA)n\" 1 32\r\n",
      "scaffold10970\tRepeatMasker\tsimilarity\t7560\t7949\t32.2\t-\t.\tTarget \"Motif:Tx1-4_CGi\" 3372 3696\r\n",
      "scaffold10970\tRepeatMasker\tsimilarity\t10827\t10873\t 7.1\t+\t.\tTarget \"Motif:(ATT)n\" 1 47\r\n",
      "scaffold10970\tRepeatMasker\tsimilarity\t12491\t12558\t 0.0\t+\t.\tTarget \"Motif:(TAAC)n\" 1 68\r\n",
      "scaffold10970\tRepeatMasker\tsimilarity\t17918\t17949\t17.6\t+\t.\tTarget \"Motif:(TTGTAT)n\" 1 33\r\n",
      "scaffold10970\tRepeatMasker\tsimilarity\t19206\t19241\t19.7\t+\t.\tTarget \"Motif:(TATA)n\" 1 37\r\n"
     ]
    }
   ],
   "source": [
    "!head ../analyses/RepeatMasker/unrefined/Panopea_generosa_scaff-70k.scafSeq.out.gff"
   ]
  },
  {
   "cell_type": "code",
   "execution_count": 31,
   "metadata": {
    "collapsed": false
   },
   "outputs": [
    {
     "name": "stdout",
     "output_type": "stream",
     "text": [
      "642\r\n"
     ]
    }
   ],
   "source": [
    "!grep -c \"^scaffold*\" ../analyses/RepeatMasker/unrefined/Panopea_generosa_scaff-70k.scafSeq.out.gff"
   ]
  },
  {
   "cell_type": "code",
   "execution_count": 30,
   "metadata": {
    "collapsed": false
   },
   "outputs": [
    {
     "name": "stdout",
     "output_type": "stream",
     "text": [
      "##gff-version 2\r\n",
      "##date 2016-11-15\r\n",
      "##sequence-region Panopea_generosa_scaff-70k.scafSeq\r\n",
      "scaffold10970\tRepeatMasker\tsimilarity\t2053\t2317\t24.8\t+\t.\tTarget \"Motif:(CA)n\" 1 264\r\n",
      "scaffold10970\tRepeatMasker\tsimilarity\t3020\t3051\t21.7\t+\t.\tTarget \"Motif:(TTATAA)n\" 1 32\r\n",
      "scaffold10970\tRepeatMasker\tsimilarity\t7560\t7949\t32.2\t-\t.\tTarget \"Motif:Tx1-4_CGi\" 3372 3696\r\n",
      "scaffold10970\tRepeatMasker\tsimilarity\t10195\t10460\t30.3\t-\t.\tTarget \"Motif:Tx1-2_CGi\" 2686 2956\r\n",
      "scaffold10970\tRepeatMasker\tsimilarity\t10827\t10873\t 7.1\t+\t.\tTarget \"Motif:(ATT)n\" 1 47\r\n",
      "scaffold10970\tRepeatMasker\tsimilarity\t12491\t12558\t 0.0\t+\t.\tTarget \"Motif:(TAAC)n\" 1 68\r\n",
      "scaffold10970\tRepeatMasker\tsimilarity\t17918\t17949\t17.6\t+\t.\tTarget \"Motif:(TTGTAT)n\" 1 33\r\n"
     ]
    }
   ],
   "source": [
    "!head ../analyses/RepeatMasker/refined/Panopea_generosa_scaff-70k.scafSeq.out.gff"
   ]
  },
  {
   "cell_type": "code",
   "execution_count": 32,
   "metadata": {
    "collapsed": false
   },
   "outputs": [
    {
     "name": "stdout",
     "output_type": "stream",
     "text": [
      "653\r\n"
     ]
    }
   ],
   "source": [
    "!grep -c \"^scaffold*\" ../analyses/RepeatMasker/refined/Panopea_generosa_scaff-70k.scafSeq.out.gff"
   ]
  },
  {
   "cell_type": "markdown",
   "metadata": {},
   "source": [
    "**Not much of a difference between the two results; looks like the \"refined\" option found 11 more TE sequences**"
   ]
  },
  {
   "cell_type": "markdown",
   "metadata": {},
   "source": [
    "---\n",
    "\n",
    "# Identifying candidate miRNA locations\n",
    "\n",
    "I will use miRBase to identify sequences in genome scaffolds that are likely to code for miRNA.\n",
    "\n",
    "[miRBase](http://www.mirbase.org/): _The miRBase database is a searchable database of published miRNA sequences and annotation. Each entry in the miRBase Sequence database represents a predicted hairpin portion of a miRNA transcript (termed mir in the database), with information on the location and sequence of the mature miRNA sequence (termed miR). Both hairpin and mature sequences are available for searching and browsing, and entries can also be retrieved by name, keyword, references and annotation. All sequence and annotation data are also available for download._\n",
    "\n",
    "**Step 1:** download the following [miRBase sequence download](http://www.mirbase.org/ftp.shtml): fasta format sequences of all miRNA hairpins, \"hairpin.fa\", download date : 11/16/2016\n",
    "\n",
    "**Step 2:** Let's move the haripin.fa file to the appropriate directory, and then check it out."
   ]
  },
  {
   "cell_type": "code",
   "execution_count": 9,
   "metadata": {
    "collapsed": false
   },
   "outputs": [],
   "source": [
    "cp ../../../../../../Downloads/hairpin.fa.gz ../data/"
   ]
  },
  {
   "cell_type": "code",
   "execution_count": 11,
   "metadata": {
    "collapsed": false
   },
   "outputs": [
    {
     "name": "stdout",
     "output_type": "stream",
     "text": [
      "/Users/shlaura3/Documents/SAFS/FISH_546_Bioinformatics/546-Bioinformatics/2016-10_Geo-Ann-Project/data\n"
     ]
    }
   ],
   "source": [
    "cd ../data"
   ]
  },
  {
   "cell_type": "code",
   "execution_count": 14,
   "metadata": {
    "collapsed": false
   },
   "outputs": [],
   "source": [
    "!gunzip hairpin.fa.gz"
   ]
  },
  {
   "cell_type": "code",
   "execution_count": 15,
   "metadata": {
    "collapsed": false
   },
   "outputs": [
    {
     "name": "stdout",
     "output_type": "stream",
     "text": [
      ">cel-let-7 MI0000001 Caenorhabditis elegans let-7 stem-loop\r\n",
      "UACACUGUGGAUCCGGUGAGGUAGUAGGUUGUAUAGUUUGGAAUAUUACCACCGGUGAAC\r\n",
      "UAUGCAAUUUUCUACCUUACCGGAGACAGAACUCUUCGA\r\n",
      ">cel-lin-4 MI0000002 Caenorhabditis elegans lin-4 stem-loop\r\n",
      "AUGCUUCCGGCCUGUUCCCUGAGACCUCAAGUGUGAGUGUACUAUUGAUGCUUCACACCU\r\n",
      "GGGCUCUCCGGGUACCAGGACGGUUUGAGCAGAU\r\n",
      ">cel-mir-1 MI0000003 Caenorhabditis elegans miR-1 stem-loop\r\n",
      "AAAGUGACCGUACCGAGCUGCAUACUUCCUUACAUGCCCAUACUAUAUCAUAAAUGGAUA\r\n",
      "UGGAAUGUAAAGAAGUAUGUAGAACGGGGUGGUAGU\r\n",
      ">cel-mir-2 MI0000004 Caenorhabditis elegans miR-2 stem-loop\r\n"
     ]
    }
   ],
   "source": [
    "!head hairpin.fa"
   ]
  },
  {
   "cell_type": "markdown",
   "metadata": {},
   "source": [
    "**Step 3:** blastn the hairpin.fa file against my scaffolds"
   ]
  },
  {
   "cell_type": "code",
   "execution_count": 18,
   "metadata": {
    "collapsed": false
   },
   "outputs": [
    {
     "name": "stdout",
     "output_type": "stream",
     "text": [
      "BLAST query/options error: Either a BLAST database or subject sequence(s) must be specified\r\n",
      "Please refer to the BLAST+ user manual.\r\n"
     ]
    }
   ],
   "source": [
    "!/Applications/ncbi-blast-2.5.0+/bin/blastn"
   ]
  },
  {
   "cell_type": "code",
   "execution_count": 30,
   "metadata": {
    "collapsed": true
   },
   "outputs": [],
   "source": [
    "!/Applications/ncbi-blast-2.5.0+/bin/blastn \\\n",
    "-query ../data/hairpin.fa \\\n",
    "-db ../data/Panopea_generosa_scaff-70k_db \\\n",
    "-task blastn \\\n",
    "-evalue 10e-20 \\\n",
    "-outfmt 6 \\\n",
    "-max_target_seqs 1 \\\n",
    "-num_threads 6 \\\n",
    "-out ../analyses/pgenerosa-scaff70-miRNA.tab"
   ]
  },
  {
   "cell_type": "code",
   "execution_count": 34,
   "metadata": {
    "collapsed": false
   },
   "outputs": [
    {
     "name": "stdout",
     "output_type": "stream",
     "text": [
      "../analyses/pgenerosa-scaff70-miRNA.tab: empty\r\n"
     ]
    }
   ],
   "source": [
    "!file ../analyses/pgenerosa-scaff70-miRNA.tab"
   ]
  },
  {
   "cell_type": "code",
   "execution_count": 2,
   "metadata": {
    "collapsed": false
   },
   "outputs": [],
   "source": [
    "#trying again, with a less strict e-value\n",
    "!/Applications/ncbi-blast-2.5.0+/bin/blastn \\\n",
    "-query ../data/hairpin.fa \\\n",
    "-db ../data/Panopea_generosa_scaff-70k_db \\\n",
    "-task blastn \\\n",
    "-evalue 100e-20 \\\n",
    "-outfmt 6 \\\n",
    "-max_target_seqs 1 \\\n",
    "-num_threads 6 \\\n",
    "-out ../analyses/pgenerosa-scaff70-miRNA.tab"
   ]
  },
  {
   "cell_type": "code",
   "execution_count": 3,
   "metadata": {
    "collapsed": false
   },
   "outputs": [
    {
     "name": "stdout",
     "output_type": "stream",
     "text": [
      "../analyses/pgenerosa-scaff70-miRNA.tab: empty\r\n"
     ]
    }
   ],
   "source": [
    "!file ../analyses/pgenerosa-scaff70-miRNA.tab"
   ]
  },
  {
   "cell_type": "code",
   "execution_count": 4,
   "metadata": {
    "collapsed": true
   },
   "outputs": [],
   "source": [
    "#trying again, this time NOT specifying a min e-value \n",
    "!/Applications/ncbi-blast-2.5.0+/bin/blastn \\\n",
    "-query ../data/hairpin.fa \\\n",
    "-db ../data/Panopea_generosa_scaff-70k_db \\\n",
    "-task blastn \\\n",
    "-outfmt 6 \\\n",
    "-max_target_seqs 1 \\\n",
    "-num_threads 6 \\\n",
    "-out ../analyses/pgenerosa-scaff70-miRNA.tab"
   ]
  },
  {
   "cell_type": "code",
   "execution_count": 5,
   "metadata": {
    "collapsed": false
   },
   "outputs": [
    {
     "name": "stdout",
     "output_type": "stream",
     "text": [
      "../analyses/pgenerosa-scaff70-miRNA.tab: ASCII text\r\n"
     ]
    }
   ],
   "source": [
    "#Viewing file info\n",
    "!file ../analyses/pgenerosa-scaff70-miRNA.tab"
   ]
  },
  {
   "cell_type": "code",
   "execution_count": 16,
   "metadata": {
    "collapsed": false
   },
   "outputs": [
    {
     "name": "stdout",
     "output_type": "stream",
     "text": [
      "cel-let-7\tscaffold45727\t89.474\t19\t2\t0\t57\t75\t44493\t44511\t1.5\t26.5\r\n",
      "cel-lin-4\tscaffold4463\t100.000\t13\t0\t0\t20\t32\t17268\t17280\t5.0\t24.7\r\n",
      "cel-mir-1\tscaffold15463\t94.737\t19\t1\t0\t18\t36\t47318\t47300\t0.12\t30.1\r\n",
      "cel-mir-2\tscaffold30278\t100.000\t16\t0\t0\t2\t17\t6590\t6575\t0.12\t30.1\r\n",
      "cel-mir-34\tscaffold27692\t100.000\t14\t0\t0\t35\t48\t65424\t65437\t1.5\t26.5\r\n",
      "cel-mir-35\tscaffold31723\t100.000\t16\t0\t0\t82\t97\t26403\t26388\t0.12\t30.1\r\n",
      "cel-mir-36\tscaffold4463\t89.474\t19\t2\t0\t74\t92\t9287\t9305\t1.5\t26.5\r\n",
      "cel-mir-37\tscaffold26337\t100.000\t15\t0\t0\t7\t21\t108320\t108334\t0.43\t28.3\r\n",
      "cel-mir-38\tscaffold59644\t100.000\t15\t0\t0\t42\t56\t21905\t21891\t0.42\t28.3\r\n",
      "cel-mir-38\tscaffold59644\t100.000\t13\t0\t0\t42\t54\t51488\t51476\t5.1\t24.7\r\n",
      "cel-mir-39\tscaffold18558\t100.000\t14\t0\t0\t9\t22\t28960\t28947\t1.3\t26.5\r\n",
      "cel-mir-41\tscaffold71773\t100.000\t15\t0\t0\t41\t55\t87277\t87263\t0.43\t28.3\r\n",
      "cel-mir-42\tscaffold26337\t100.000\t14\t0\t0\t77\t90\t49745\t49732\t1.5\t26.5\r\n",
      "cel-mir-43\tscaffold32578\t84.000\t25\t4\t0\t39\t63\t37653\t37677\t0.43\t28.3\r\n",
      "cel-mir-44\tscaffold4463\t90.000\t20\t2\t0\t47\t66\t46253\t46234\t0.42\t28.3\r\n",
      "cel-mir-45\tscaffold5354\t89.474\t19\t2\t0\t60\t78\t46503\t46521\t1.5\t26.5\r\n",
      "cel-mir-46\tscaffold34940\t100.000\t15\t0\t0\t26\t40\t37339\t37353\t0.43\t28.3\r\n",
      "cel-mir-47\tscaffold31723\t88.889\t18\t2\t0\t29\t46\t69416\t69433\t5.2\t24.7\r\n",
      "cel-mir-48\tscaffold19489\t100.000\t15\t0\t0\t42\t56\t80500\t80514\t0.43\t28.3\r\n",
      "cel-mir-49\tscaffold20302\t100.000\t15\t0\t0\t1\t15\t48179\t48193\t0.43\t28.3\r\n"
     ]
    }
   ],
   "source": [
    "#viewing file header - the 3rd column, I believe, is the the % match. I'll pare this down later, but first I want to visualize the data.\n",
    "!head -20 ../analyses/pgenerosa-scaff70-miRNA.tab"
   ]
  },
  {
   "cell_type": "code",
   "execution_count": 7,
   "metadata": {
    "collapsed": false
   },
   "outputs": [
    {
     "name": "stdout",
     "output_type": "stream",
     "text": [
      "/Users/shlaura3/Documents/SAFS/FISH_546_Bioinformatics/546-Bioinformatics/2016-10_Geo-Ann-Project/Jupyter-Notebooks/../scripts/2_Blast2Gff.pl:176: a tab character is not allowed in an escape name\r\n",
      "/Users/shlaura3/Documents/SAFS/FISH_546_Bioinformatics/546-Bioinformatics/2016-10_Geo-Ann-Project/Jupyter-Notebooks/../scripts/2_Blast2Gff.pl:176: a tab character is not allowed in an escape name\r\n",
      "/Users/shlaura3/Documents/SAFS/FISH_546_Bioinformatics/546-Bioinformatics/2016-10_Geo-Ann-Project/Jupyter-Notebooks/../scripts/2_Blast2Gff.pl:180: cannot use character `*' as a starting delimiter\r\n",
      "/Users/shlaura3/Documents/SAFS/FISH_546_Bioinformatics/546-Bioinformatics/2016-10_Geo-Ann-Project/Jupyter-Notebooks/../scripts/2_Blast2Gff.pl:180: cannot use character `*' as a starting delimiter\r\n",
      "#!/usr/bin/perl                                                -w\r\n",
      "#-----------------------------------------------------------+   #\r\n",
      "| # Blast2Gff.pl                                              | #\r\n",
      "| #-----------------------------------------------------------+ #\r\n",
      "AUTHOR: James C. Estill                                  | # CON-\r\n",
      "TACT: JamesEstill_at_gmail.com                         | # START-\r\n",
      "ED: 04/17/2007                                       | # UPDATED:\r\n",
      "04/18/2007                                       | # DESCRIPTION:\r\n",
      "| #  Converts BLAST output to GFF format. This the the GFF    | #\r\n",
      "format that is used with the Apollo Genome Annotation    | #  cu-\r\n",
      "ration  program.                                        | #  Cur-\r\n",
      "rently this only works with m8 blast output.          | # # modi-\r\n",
      "fied  by Steven Roberts # Modified to work when doing a \"reverse\"\r\n",
      "blast. In other words the sequence ID is the Subject  as  opposed\r\n",
      "to  the Query.  # Also modifed so score field displays e-value as\r\n",
      "opposed               to                bit                score.\r\n",
      "| #-----------------------------------------------------------+\r\n",
      "\r\n",
      "=head1  INCLDUES  =cut #-----------------------------+ # INCLUDES\r\n",
      "| #-----------------------------+ use strict;                   #\r\n",
      "Keeps thing running clean use Getopt::Std;              # Get op-\r\n",
      "tions from command line\r\n",
      "\r\n",
      "=head1 VARIABLES =cut #-----------------------------+ # VARIABLES\r\n",
      "|       #-----------------------------+       my      $GffAppend;\r\n",
      "# BOOLEAN. Append to GFF file  my  $InFile;                     #\r\n",
      "Full   path   to   the  input  blast  output  file  my  $OutFile;\r\n",
      "# Full path to the gff formatted  output  file  my  $AlignFormat;\r\n",
      "# Alignment format of the blast output file\r\n",
      "                               #  ie.  -m  = 0,8, or 9 my $Print-\r\n",
      "Help;                 # Boolean, print  the  Usage  statement  my\r\n",
      "$BlastDb;                     #  Blast  database  my  $BlastProg;\r\n",
      "#   Blast   program   (ie.   blastn,    blastx    my    $SeqName;\r\n",
      "# Name of the sequence file used for query\r\n",
      "\r\n",
      "my $Usage = \"USAGE:0.\r\n",
      "    \"Blast2Gff.pl -i InFile.Fasta -o OutFile.gff -d BlastDb0.\r\n",
      "    \" -p blastprogram -m AligFormat -s SeqName -a0.\r\n",
      "    \" -i Full path to the BLAST output file[STRING]0.\r\n",
      "    \" -o Full path for the GFF formated file [STRING]0.\r\n",
      "    \"    Default is the intput file path with gff extension.0.\r\n",
      "    \" -d Blast database that was blasted against [STRING]0.\r\n",
      "    \"    This is required0.\r\n",
      "    \" -s \".\r\n",
      "    \" -m Format of the algnment outout from blast [INTEGER]0.\r\n",
      "    \"    Default value is 8. Valid values are 0,8,9\".\r\n",
      "    \" -p Blast program used [STRING]0.\r\n",
      "    \"    Default is blastn0.\r\n",
      "    \" -a Append results to the gff file [BOOLEAN]0.\r\n",
      "    \"    Default is to overwrite any exiting file.0.\r\n",
      "    \" -h Print this help statement [BOOLEAN]0;\r\n",
      "\r\n",
      "=head1         COMMAND         LINE         VARIABLES        =cut\r\n",
      "#-----------------------------+ # COMMAND LINE  VARIABLES       |\r\n",
      "#-----------------------------+            my           %Options;\r\n",
      "getopts('d:i:o:m:p:s:ha', Options);\r\n",
      "\r\n",
      "$PrintHelp = $Options{h}; if ($PrintHelp) {\r\n",
      "    print $Usage;\r\n",
      "    exit; }\r\n",
      "\r\n",
      "$SeqName = $Options{s} ||\r\n",
      "    die \"ERROR: A sequence file name  must  be  specified0Usage0;\r\n",
      "$GffAppend = $Options{a}; $InFile = $Options{i} ||\r\n",
      "    die  \"ERROR:  An  input file must be specified.0Usage0; # De-\r\n",
      "fault output is the full path of the input file with the gff  ex-\r\n",
      "tension $BlastProg = $Options{p} ||\r\n",
      "    \"blastn\"; $BlastDb = $Options{d} ||\r\n",
      "    die  \"ERROR:  A  blast  database should be indicated.0Usage0;\r\n",
      "$OutFile = $Options{o} ||\r\n",
      "    $InFile.\".gff\"; $AlignFormat = $Options{m} ||\r\n",
      "    \"8\";                        # Default format is tab delim\r\n",
      "\r\n",
      "#-----------------------------+ # CHECK FILE  EXISTENCE         |\r\n",
      "#-----------------------------+ unless (-e $InFile) {\r\n",
      "    print \"The input file could not be found0InFile0;\r\n",
      "    exit; }\r\n",
      "\r\n",
      "#-----------------------------+  #  CONVERT BLAST FILE TO GFF   |\r\n",
      "#-----------------------------+ # Test Blast2Gff subfunction\r\n",
      "\r\n",
      "if ($AlignFormat == \"8\") {\r\n",
      "    &TabBlast2Gff   ($InFile,   $OutFile,   $BlastDb,   $SeqName,\r\n",
      "\"blastn\"); } else {\r\n",
      "    print \"A valid BLAST alignment format was not selected.0; }\r\n",
      "\r\n",
      "\r\n",
      "#-----------------------------------------------------------+   #\r\n",
      "SUBFUNCTIONS                                                    |\r\n",
      "#-----------------------------------------------------------+\r\n",
      "\r\n",
      "sub TabBlast2Gff {\r\n",
      "    my $In = $_[0];       # Path to blast intput file\r\n",
      "    my $Out = $_[1];      # Path to gff output file\r\n",
      "    my  $Db  =  $_[2];       # The BLAST databas the hits are de-\r\n",
      "rived from\r\n",
      "    my $Name = $_[3];     # Seqname\r\n",
      "    my $Prog = $_[4];     # BLAST program used\r\n",
      "    my $GStart;           # GFF Start position\r\n",
      "    my $GEnd;             # GFF End position\r\n",
      "\r\n",
      "#    my  $Format  =  $_[4];    #  Format  of  the  blast  file  #\r\n",
      "# 8,9, 0 etc #    my $UseScore = $_[5]; # Score format to use\r\n",
      "\r\n",
      "    my $HitNum = \"0\";\r\n",
      "    #-----------------------------+\r\n",
      "    # FILE I/O                    |\r\n",
      "    #-----------------------------+\r\n",
      "    open  (BLASTIN,  \"<\".$In)  ||         die \"Can not open BLAST\r\n",
      "input file.$In.0;\r\n",
      "\r\n",
      "    # If append was selected, just append gff data to the\r\n",
      "    # output file\r\n",
      "    if ($GffAppend)\r\n",
      "    {         open (GFFOUT, \">>\".$Out) ||               die  \"Can\r\n",
      "not open GFF ouput file.$Out.0;\r\n",
      "    }  else  {         open (GFFOUT, \">\".$Out) ||             die\r\n",
      "\"Can not open GFF ouput file.$Out.0;\r\n",
      "    }\r\n",
      "\r\n",
      "    while (<BLASTIN>)\r\n",
      "    {         $HitNum++;\r\n",
      "\r\n",
      "        my ($QryId, $SubId, $PID,  $Len,               $MisMatch,\r\n",
      "$GapOpen,               $QStart,$QEnd,  $SStart,  $SEnd,\r\n",
      "$EVal,  $BitScore)  =  split(//);                    my  $Strand;\r\n",
      "        my  $Frame  = \".\";                  # Set the start to be\r\n",
      "less then the end         # This info can be used to dedeuct  the\r\n",
      "strand          #  sr320: modifying below to focus on S for using\r\n",
      "when blast changes direction         # sr320 changed all Q  to  S\r\n",
      "        if  ($SStart  <  $SEnd)          {              $GStart =\r\n",
      "$SStart;             $GEnd = $SEnd;              $Strand  =  \"+\";\r\n",
      "        }  elsif  ($SStart  >  $SEnd)  {               $GStart  =\r\n",
      "$SStart;             $GEnd = $SEnd;              $Strand  =  \"-\";\r\n",
      "        }  else  {               die  \"Unexpected Query Start and\r\n",
      "End:S:$QStartE:$QEnd\";         }                  # Trim  leading\r\n",
      "white  space  from  Bit score         $BitScore =~ s/^(.*?)$/$1/;\r\n",
      "                 # Currently working with this to get it to  draw\r\n",
      "        #  the  items  as  separate  items          print  GFFOUT\r\n",
      "            # I initially used the following             #  sr320\r\n",
      "rearranging for reverse blast (going in other direction)\r\n",
      "# sr320 changed to output evalue instead of  bit  score  #\r\n",
      "$Name.\"\".         #      SeqName                       $SubId.\"\".\r\n",
      "#               $QryId.\"\".                $Prog.\":\".$Db.\"\".     #\r\n",
      "Source (BLAST PROGRAM) #           $Prog.\":\".$Db.\"\".    # Feature\r\n",
      "(Database) #           $SubId.\"\".           # Feature  (Database)\r\n",
      "             $Prog.\"\".            #  Feature  (Database)\r\n",
      "$GStart.\"\".          # Start              $GEnd.\"\".             #\r\n",
      "End              $EVal.\"\".                      # evalue #\r\n",
      "$BitScore.\"\".        # Score              $Strand.\"\".           #\r\n",
      "Strand                 $Frame.\"\".             #   Frame\r\n",
      "$QryId.\"\".   #             $SubId.                  #   Attribute\r\n",
      "            \"0;\r\n",
      "    } # END OF WHILE BLASTIN\r\n",
      "\r\n",
      "} # END OF Blast2Gff Subfunction\r\n",
      "\r\n",
      "\r\n",
      "#-----------------------------------------------------------+   #\r\n",
      "PROGRAM                                                   STARTED\r\n",
      "#-----------------------------------------------------------+   #\r\n",
      "04/17/2007 # - Program started # - Started Blast2Gff  subfunction\r\n",
      "with  tab delim format # # 04/18/2007 # - Adding command line op-\r\n",
      "tions # - Working on Blast2Gff tab delim format\r\n",
      "\r\n",
      "\r\n",
      "\r\n",
      "\r\n",
      "\r\n",
      "\r\n",
      "\r\n",
      "\r\n",
      "\r\n",
      "\r\n",
      "\r\n",
      "\r\n",
      "\r\n",
      "\r\n",
      "\r\n",
      "\r\n",
      "\r\n",
      "\r\n",
      "\r\n",
      "\r\n",
      "\r\n",
      "\r\n",
      "\r\n",
      "\r\n",
      "\r\n",
      "\r\n",
      "\r\n",
      "\r\n",
      "\r\n",
      "\r\n",
      "\r\n",
      "\r\n",
      "\r\n",
      "\r\n"
     ]
    }
   ],
   "source": [
    "#before converting .tab file to .gff file, check out the \"2_Blast2Gff.pl\" script's manual to confirm commands\n",
    "! man ../scripts/2_Blast2Gff.pl"
   ]
  },
  {
   "cell_type": "code",
   "execution_count": 12,
   "metadata": {
    "collapsed": true
   },
   "outputs": [],
   "source": [
    "#convert to gff format to plot in IGV\n",
    "!perl ../scripts/2_Blast2Gff.pl \\\n",
    "-i ../analyses/pgenerosa-scaff70-miRNA.tab \\\n",
    "-s \"something\" \\\n",
    "-o ../analyses/pgenerosa-scaff70-miRNA.gff \\\n",
    "-p \"gene-blast\" \\\n",
    "-d \"mirBase hairpin.fa\""
   ]
  },
  {
   "cell_type": "code",
   "execution_count": 9,
   "metadata": {
    "collapsed": false
   },
   "outputs": [
    {
     "name": "stdout",
     "output_type": "stream",
     "text": [
      "2016-11-3_Geo70k-scaff-transcrip-sequences.tabular\r\n",
      "GeoTrans-PhelDiffExp_blasted_sorted\r\n",
      "Phel_DEGlist.tab\r\n",
      "\u001b[34mRepeatMasker\u001b[m\u001b[m/\r\n",
      "SeaStarDiffExp.R\r\n",
      "pgenerosa-scaff70-miRNA.gff\r\n",
      "pgenerosa-scaff70-miRNA.tab\r\n",
      "pgenerosa-transcrv3-blastn-scaff70k-01.gff\r\n",
      "pgenerosa-transcrv3-blastn-scaff70k-01.gff.fai\r\n",
      "pgenerosa-transcrv3-blastn-scaff70k-01.tab\r\n",
      "pgenerosa-transcrv3-blastn-scaff70k-01.tab.fai\r\n"
     ]
    }
   ],
   "source": [
    "ls ../analyses/"
   ]
  },
  {
   "cell_type": "code",
   "execution_count": 15,
   "metadata": {
    "collapsed": false
   },
   "outputs": [
    {
     "name": "stdout",
     "output_type": "stream",
     "text": [
      "scaffold45727\tblastn:mirBase hairpin.fa\tblastn\t44493\t44511\t1.5\t+\t.\tcel-let-7\t\r\n",
      "scaffold4463\tblastn:mirBase hairpin.fa\tblastn\t17268\t17280\t5.0\t+\t.\tcel-lin-4\t\r\n",
      "scaffold15463\tblastn:mirBase hairpin.fa\tblastn\t47318\t47300\t0.12\t-\t.\tcel-mir-1\t\r\n",
      "scaffold30278\tblastn:mirBase hairpin.fa\tblastn\t6590\t6575\t0.12\t-\t.\tcel-mir-2\t\r\n",
      "scaffold27692\tblastn:mirBase hairpin.fa\tblastn\t65424\t65437\t1.5\t+\t.\tcel-mir-34\t\r\n",
      "scaffold31723\tblastn:mirBase hairpin.fa\tblastn\t26403\t26388\t0.12\t-\t.\tcel-mir-35\t\r\n",
      "scaffold4463\tblastn:mirBase hairpin.fa\tblastn\t9287\t9305\t1.5\t+\t.\tcel-mir-36\t\r\n",
      "scaffold26337\tblastn:mirBase hairpin.fa\tblastn\t108320\t108334\t0.43\t+\t.\tcel-mir-37\t\r\n",
      "scaffold59644\tblastn:mirBase hairpin.fa\tblastn\t21905\t21891\t0.42\t-\t.\tcel-mir-38\t\r\n",
      "scaffold59644\tblastn:mirBase hairpin.fa\tblastn\t51488\t51476\t5.1\t-\t.\tcel-mir-38\t\r\n",
      "scaffold18558\tblastn:mirBase hairpin.fa\tblastn\t28960\t28947\t1.3\t-\t.\tcel-mir-39\t\r\n",
      "scaffold71773\tblastn:mirBase hairpin.fa\tblastn\t87277\t87263\t0.43\t-\t.\tcel-mir-41\t\r\n",
      "scaffold26337\tblastn:mirBase hairpin.fa\tblastn\t49745\t49732\t1.5\t-\t.\tcel-mir-42\t\r\n",
      "scaffold32578\tblastn:mirBase hairpin.fa\tblastn\t37653\t37677\t0.43\t+\t.\tcel-mir-43\t\r\n",
      "scaffold4463\tblastn:mirBase hairpin.fa\tblastn\t46253\t46234\t0.42\t-\t.\tcel-mir-44\t\r\n",
      "scaffold5354\tblastn:mirBase hairpin.fa\tblastn\t46503\t46521\t1.5\t+\t.\tcel-mir-45\t\r\n",
      "scaffold34940\tblastn:mirBase hairpin.fa\tblastn\t37339\t37353\t0.43\t+\t.\tcel-mir-46\t\r\n",
      "scaffold31723\tblastn:mirBase hairpin.fa\tblastn\t69416\t69433\t5.2\t+\t.\tcel-mir-47\t\r\n",
      "scaffold19489\tblastn:mirBase hairpin.fa\tblastn\t80500\t80514\t0.43\t+\t.\tcel-mir-48\t\r\n",
      "scaffold20302\tblastn:mirBase hairpin.fa\tblastn\t48179\t48193\t0.43\t+\t.\tcel-mir-49\t\r\n"
     ]
    }
   ],
   "source": [
    "!head -20 ../analyses/pgenerosa-scaff70-miRNA.gff"
   ]
  },
  {
   "cell_type": "markdown",
   "metadata": {},
   "source": [
    "---\n",
    "\n",
    "# Identifying potential methylation sites, aka CpG sites\n",
    "\n",
    "Use [Galaxy's](https://usegalaxy.org/) EMBOSS fuzznuc tool to identify CpG sites; these are locations that have potential to be methylated. Select .gff as output file for visualizing in IGV.\n",
    "\n",
    "![Galaxy-fuzznuc](../images/2016-11-17_Galaxy-fuzznuc.png)"
   ]
  },
  {
   "cell_type": "code",
   "execution_count": 17,
   "metadata": {
    "collapsed": false
   },
   "outputs": [
    {
     "name": "stdout",
     "output_type": "stream",
     "text": [
      "##gff-version 2.0\r\n",
      "##date 2016-11-17\r\n",
      "##Type DNA scaffold3071\r\n",
      "scaffold3071\tfuzznuc\tmisc_feature\t18\t19\t2.000\t+\t.\tSequence \"scaffold3071.1\" ; note \"*pat pattern1\"\r\n",
      "scaffold3071\tfuzznuc\tmisc_feature\t21\t22\t2.000\t+\t.\tSequence \"scaffold3071.2\" ; note \"*pat pattern1\"\r\n",
      "scaffold3071\tfuzznuc\tmisc_feature\t23\t24\t2.000\t+\t.\tSequence \"scaffold3071.3\" ; note \"*pat pattern1\"\r\n",
      "scaffold3071\tfuzznuc\tmisc_feature\t27\t28\t2.000\t+\t.\tSequence \"scaffold3071.4\" ; note \"*pat pattern1\"\r\n",
      "scaffold3071\tfuzznuc\tmisc_feature\t88\t89\t2.000\t+\t.\tSequence \"scaffold3071.5\" ; note \"*pat pattern1\"\r\n",
      "scaffold3071\tfuzznuc\tmisc_feature\t188\t189\t2.000\t+\t.\tSequence \"scaffold3071.6\" ; note \"*pat pattern1\"\r\n",
      "scaffold3071\tfuzznuc\tmisc_feature\t240\t241\t2.000\t+\t.\tSequence \"scaffold3071.7\" ; note \"*pat pattern1\"\r\n"
     ]
    }
   ],
   "source": [
    "# Resulting file looks like: \n",
    "!head ../analyses/Panopea_generosa_Scaff-70k-CpG.gff"
   ]
  },
  {
   "cell_type": "code",
   "execution_count": 20,
   "metadata": {
    "collapsed": false
   },
   "outputs": [
    {
     "name": "stdout",
     "output_type": "stream",
     "text": [
      "42638\r\n"
     ]
    }
   ],
   "source": [
    "!grep -c \"^scaffold*\" ../analyses/Panopea_generosa_Scaff-70k-CpG.gff"
   ]
  },
  {
   "cell_type": "markdown",
   "metadata": {},
   "source": [
    "---\n",
    "\n",
    "# Getting a first glimps @ the data via IGV\n",
    "\n",
    "[Integrative Genomics Viewer (IGV)](http://software.broadinstitute.org/software/igv/), Version 2.3.85 (135)\n",
    "\n",
    "All scaffolds: \n",
    "\n",
    "![IGV 11-17](../images/2016-11-17_IGV.png)  \n",
    "\n",
    "\n",
    "A closer view at scaffold 71773 (very last one @ far right), which looks interesting:\n",
    "\n",
    "![IGV 11-17 zoom](../images/2016-11-17_IGV-zoomed.png)"
   ]
  },
  {
   "cell_type": "code",
   "execution_count": null,
   "metadata": {
    "collapsed": true
   },
   "outputs": [],
   "source": []
  }
 ],
 "metadata": {
  "anaconda-cloud": {},
  "kernelspec": {
   "display_name": "Python [default]",
   "language": "python",
   "name": "python3"
  },
  "language_info": {
   "codemirror_mode": {
    "name": "ipython",
    "version": 3
   },
   "file_extension": ".py",
   "mimetype": "text/x-python",
   "name": "python",
   "nbconvert_exporter": "python",
   "pygments_lexer": "ipython3",
   "version": "3.5.2"
  }
 },
 "nbformat": 4,
 "nbformat_minor": 1
}
