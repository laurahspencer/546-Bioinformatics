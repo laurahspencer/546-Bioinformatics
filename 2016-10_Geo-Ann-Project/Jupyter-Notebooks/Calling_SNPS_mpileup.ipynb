{
 "cells": [
  {
   "cell_type": "markdown",
   "metadata": {},
   "source": [
    "## In this notebook I use `samtools mpileup` option to call SNPs on geoduck >70k scaffolds \n",
    "\n",
    "### The samtools [user manual](http://samtools.sourceforge.net/mpileup.shtml) is helpful"
   ]
  },
  {
   "cell_type": "code",
   "execution_count": 79,
   "metadata": {
    "collapsed": false,
    "scrolled": false
   },
   "outputs": [
    {
     "name": "stdout",
     "output_type": "stream",
     "text": [
      "samtools: unrecognized option `--help'\r\n",
      "\r\n",
      "Usage: samtools mpileup [options] in1.bam [in2.bam [...]]\r\n",
      "\r\n",
      "Input options:\r\n",
      "  -6, --illumina1.3+      quality is in the Illumina-1.3+ encoding\r\n",
      "  -A, --count-orphans     do not discard anomalous read pairs\r\n",
      "  -b, --bam-list FILE     list of input BAM filenames, one per line\r\n",
      "  -B, --no-BAQ            disable BAQ (per-Base Alignment Quality)\r\n",
      "  -C, --adjust-MQ INT     adjust mapping quality; recommended:50, disable:0 [0]\r\n",
      "  -d, --max-depth INT     max per-file depth; avoids excessive memory usage [250]\r\n",
      "  -E, --redo-BAQ          recalculate BAQ on the fly, ignore existing BQs\r\n",
      "  -f, --fasta-ref FILE    faidx indexed reference sequence file\r\n",
      "  -G, --exclude-RG FILE   exclude read groups listed in FILE\r\n",
      "  -l, --positions FILE    skip unlisted positions (chr pos) or regions (BED)\r\n",
      "  -q, --min-MQ INT        skip alignments with mapQ smaller than INT [0]\r\n",
      "  -Q, --min-BQ INT        skip bases with baseQ/BAQ smaller than INT [13]\r\n",
      "  -r, --region REG        region in which pileup is generated\r\n",
      "  -R, --ignore-RG         ignore RG tags (one BAM = one sample)\r\n",
      "  --rf, --incl-flags STR|INT  required flags: skip reads with mask bits unset []\r\n",
      "  --ff, --excl-flags STR|INT  filter flags: skip reads with mask bits set\r\n",
      "                                            [UNMAP,SECONDARY,QCFAIL,DUP]\r\n",
      "  -x, --ignore-overlaps   disable read-pair overlap detection\r\n",
      "\r\n",
      "Output options:\r\n",
      "  -o, --output FILE       write output to FILE [standard output]\r\n",
      "  -g, --BCF               generate genotype likelihoods in BCF format\r\n",
      "  -v, --VCF               generate genotype likelihoods in VCF format\r\n",
      "\r\n",
      "Output options for mpileup format (without -g/-v):\r\n",
      "  -O, --output-BP         output base positions on reads\r\n",
      "  -s, --output-MQ         output mapping quality\r\n",
      "\r\n",
      "Output options for genotype likelihoods (when -g/-v is used):\r\n",
      "  -t, --output-tags LIST  optional tags to output:\r\n",
      "               DP,AD,ADF,ADR,SP,INFO/AD,INFO/ADF,INFO/ADR []\r\n",
      "  -u, --uncompressed      generate uncompressed VCF/BCF output\r\n",
      "\r\n",
      "SNP/INDEL genotype likelihoods options (effective with -g/-v):\r\n",
      "  -e, --ext-prob INT      Phred-scaled gap extension seq error probability [20]\r\n",
      "  -F, --gap-frac FLOAT    minimum fraction of gapped reads [0.002]\r\n",
      "  -h, --tandem-qual INT   coefficient for homopolymer errors [100]\r\n",
      "  -I, --skip-indels       do not perform indel calling\r\n",
      "  -L, --max-idepth INT    maximum per-file depth for INDEL calling [250]\r\n",
      "  -m, --min-ireads INT    minimum number gapped reads for indel candidates [1]\r\n",
      "  -o, --open-prob INT     Phred-scaled gap open seq error probability [40]\r\n",
      "  -p, --per-sample-mF     apply -m and -F per-sample for increased sensitivity\r\n",
      "  -P, --platforms STR     comma separated list of platforms for indels [all]\r\n",
      "      --input-fmt-option OPT[=VAL]\r\n",
      "               Specify a single input file format option in the form\r\n",
      "               of OPTION or OPTION=VALUE\r\n",
      "      --reference FILE\r\n",
      "               Reference sequence FASTA FILE [null]\r\n",
      "\r\n",
      "Notes: Assuming diploid individuals.\r\n"
     ]
    }
   ],
   "source": [
    "! samtools mpileup --help"
   ]
  },
  {
   "cell_type": "code",
   "execution_count": 3,
   "metadata": {
    "collapsed": false
   },
   "outputs": [
    {
     "name": "stdout",
     "output_type": "stream",
     "text": [
      "[mpileup] 1 samples in 1 input files\n",
      "<mpileup> Set max per-file depth to 8000\n"
     ]
    }
   ],
   "source": [
    "! samtools mpileup -u -t DP \\\n",
    "-f ../data/Panopea_generosa_scaff-70k.fasta \\\n",
    "../analyses/Panopea_generosascaff-70k_gonadF_bowtie-sorted.bam \\\n",
    "-o ../analyses/Panopea_generosascaff-70k_gonadF_mpileup_SNPS"
   ]
  },
  {
   "cell_type": "code",
   "execution_count": null,
   "metadata": {
    "collapsed": true
   },
   "outputs": [],
   "source": []
  }
 ],
 "metadata": {
  "anaconda-cloud": {},
  "kernelspec": {
   "display_name": "Python [default]",
   "language": "python",
   "name": "python3"
  },
  "language_info": {
   "codemirror_mode": {
    "name": "ipython",
    "version": 3
   },
   "file_extension": ".py",
   "mimetype": "text/x-python",
   "name": "python",
   "nbconvert_exporter": "python",
   "pygments_lexer": "ipython3",
   "version": "3.5.2"
  }
 },
 "nbformat": 4,
 "nbformat_minor": 1
}
