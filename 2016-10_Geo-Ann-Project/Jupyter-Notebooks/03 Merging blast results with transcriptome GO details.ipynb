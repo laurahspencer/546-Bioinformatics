{
 "cells": [
  {
   "cell_type": "code",
   "execution_count": 2,
   "metadata": {
    "collapsed": false,
    "scrolled": true
   },
   "outputs": [
    {
     "name": "stdout",
     "output_type": "stream",
     "text": [
      "Software:\r\n",
      "\r\n",
      "    System Software Overview:\r\n",
      "\r\n",
      "      System Version: OS X 10.11.6 (15G1108)\r\n",
      "      Kernel Version: Darwin 15.6.0\r\n",
      "      Boot Volume: Peach Macbook\r\n",
      "      Boot Mode: Normal\r\n",
      "      Computer Name: laura spencer’s MacBook Pro\r\n",
      "      User Name: laura spencer (shlaura3)\r\n",
      "      Secure Virtual Memory: Enabled\r\n",
      "      System Integrity Protection: Enabled\r\n",
      "      Time since boot: 2 days 4:27\r\n",
      "\r\n"
     ]
    }
   ],
   "source": [
    "# SYSTEM INFO:\n",
    "! system_profiler SPSoftwareDataType"
   ]
  },
  {
   "cell_type": "markdown",
   "metadata": {},
   "source": [
    "-----\n",
    "\n",
    "# Merging blastn results with transcriptome details using Galaxy\n",
    "\n",
    "### The blast results only include genome scaffold IDs and transcriptome contig IDs and blast details, no bp sequences or gene ontology data. To compile more rich information to describe the genome I'm using a simple online tool, Galaxy, to merge the blast results table in 2 ways: 1) add bp sequences that aligned, and 2) add Uniprot IDs, Proteins info & Gene Ontology info"
   ]
  },
  {
   "cell_type": "markdown",
   "metadata": {},
   "source": [
    "---\n",
    "\n",
    "## First, merge blastn results with transcriptome fasta file for genome+transcriptome matching  bp sequences\n",
    "\n",
    "### let's see the format of the blastn results:"
   ]
  },
  {
   "cell_type": "code",
   "execution_count": 1,
   "metadata": {
    "collapsed": false
   },
   "outputs": [
    {
     "name": "stdout",
     "output_type": "stream",
     "text": [
      "comp100007_c0_seq1\tscaffold26337\t70.435\t230\t44\t7\t351\t556\t55193\t55422\t2.67e-21\t98.7\r\n",
      "comp100064_c1_seq1\tscaffold71773\t82.192\t146\t23\t3\t76\t220\t36938\t36795\t2.95e-33\t136\r\n",
      "comp100102_c0_seq1\tscaffold4463\t79.444\t180\t28\t5\t1\t175\t12886\t13061\t1.82e-35\t143\r\n",
      "comp100151_c0_seq1\tscaffold34940\t79.866\t149\t29\t1\t1\t148\t28989\t28841\t1.22e-31\t131\r\n",
      "comp100168_c0_seq1\tscaffold26337\t68.222\t343\t83\t11\t412\t744\t116776\t117102\t2.22e-22\t102\r\n",
      "comp100173_c0_seq1\tscaffold19489\t76.923\t130\t20\t2\t2\t124\t30526\t30652\t2.02e-22\t100\r\n",
      "comp100177_c1_seq1\tscaffold5354\t70.279\t323\t58\t6\t5\t289\t23010\t23332\t1.72e-39\t158\r\n",
      "comp100177_c1_seq1\tscaffold5354\t74.317\t183\t28\t3\t5\t168\t31421\t31603\t1.24e-28\t122\r\n",
      "comp100181_c0_seq1\tscaffold11875\t80.583\t103\t11\t1\t232\t334\t31235\t31142\t3.35e-22\t100\r\n",
      "comp100181_c0_seq2\tscaffold11875\t80.583\t103\t11\t1\t102\t204\t31235\t31142\t1.96e-22\t100\r\n"
     ]
    }
   ],
   "source": [
    "! head ../analyses/pgenerosa-transcrv3-blastn-scaff70k-01.tab"
   ]
  },
  {
   "cell_type": "markdown",
   "metadata": {},
   "source": [
    "### Here are descriptions of the columns:\n",
    "\n",
    "    1) Transcriptome contig ID\n",
    "    2) Genome scaffold ID\n",
    "    3) % identical matches\n",
    "    4) Alignment length (bp)\n",
    "    5) # Mismatches (bp)\n",
    "    6) # gap openings\n",
    "    7) Start of alignment query (Transcriptome)\n",
    "    8) End of alignment query\n",
    "    9) Start of alignment subject (Genome scaffolds)\n",
    "    10) End of alignment subject\n",
    "    11) e-value\n",
    "    12) bit score "
   ]
  },
  {
   "cell_type": "markdown",
   "metadata": {},
   "source": [
    "### And how about the transcriptome format? This is a fasta file, which isn't tab delineated, so no headers.  Separate lines begin with >, the contig ID, and then the bp sequence. "
   ]
  },
  {
   "cell_type": "code",
   "execution_count": 2,
   "metadata": {
    "collapsed": false
   },
   "outputs": [
    {
     "name": "stdout",
     "output_type": "stream",
     "text": [
      ">comp100000_c0_seq1\r\n",
      "TGAATGTATGTTTGTGAACGTATGTATATGAATGTATGTATGTGAATGCATACCATCTGTATAAGTATAATCCGACCGGGAGATGTTTATTCACACAGTTTGGCATTATGACGTTTAACCTCTGAATTGGCGTCTCTTGCTACTGACCGCTTCACAGTGATGACCCATGTTGTCACTTCTAATCTATTTATGTATTGCTCTTTTATATTATACTATTAACGCTGTTAAAATACACTACCGCTAAACAAATAAGAGTTGTGGGTTTGAATCATTGGTGAGTGCAGGAACCTCAGCAGGTCATTAAGATTTACGTGTACGTCTATCCTAAACCTACATGTTTCAACTTTGTTGTTTTTCGGTTTCGTTCTCTGTACACAGCTCTTGAAACATACATAAAATACCATTTTATTAAAAAATATGTCTCTATTTAATGTTAAAACCTTTTTAAGAAAA\r\n",
      ">comp100001_c1_seq1\r\n",
      "GCTTTACCAGTTGTTACAAACATTTTAATAGTTATAGTTAATATACACAACATTTTAAATTAACTAGTGTCGAGAACTTGAGTCGGACATAGAGAATTAAATGTTTGTTGAACTTTAGCCAAGCACTTTTATTCTATTACTTTTTGAAGTATTTAATACCTTAAAATAATGGAATACTCCTGTAGAGTCCTTGAAGCCATCAACAATTTACCAACCTCCAAATAAAATATGAATATATTTTACATGATGAATTTACATAATGGATATATCATTGATATCTGCCAAGTTAACTTCACCTACCATTTTTAAGCTTACTTTGACCATGTTAGTTGGTATTGTGTATATAACGAGTGGGAGGACATTCATACCTGGCATTTGTTTGGTCAAACTGACACAAGATTTATGTTTATTTCAAACCTATATATAAAACAAGTCTCAATGAATATCTTCCTAGGCACAAGACAATGCTGATAAAATGTCTTGTTCAAGGACA\r\n",
      ">comp100001_c2_seq1\r\n",
      "AGTAACAAAAACAACCCAAACTCTACCATAATCAATTTATACAAAGTCTTGATTTTATCTTAATATCACAAATGAAATCAATTAGTATATATATTTGTATATATTTCAGAAATATAGAAAACAATTACCAGTTTTTAAGTGTAATTAAAACATCTAAATCACCCCCACAGCAATACAAAATACATTTTTATATAGAATACAAAAATTATTGGGATAAAAACAGTAAAAAATATTTGAATTCAGCAACAGCTACAATAGTTTCCTTCAAGGAGGTGAACATAACATCACAACAACAAAAATATGGTCAATTGTAAAATGAGATGTGTGATCTACGTAGGCTAGAAAAATGTTCAACAAAATATACAGCATGCACACAACATGAACATGTACAATGAGAGATGGAGAAGCGGTTAGTTAGGAGGTCTATAGGCTGTGGTAACCACTACAATGTAGATGGCAGCACATTTATCACACATCACGCTAGCATTTCAGCAAACCTTCAATGCTAAAAACCAACTATATCTACTTCAAAACAGCTTTACCAGTTGTTACAAACAT\r\n",
      ">comp100002_c0_seq1\r\n",
      "GGGACGTATTGACTCACTCAGCTGTGATTTCAACTCCTCTATCAACTCTTCCCGTTGTTGCAACTCTTTCGAAACTTTCTTTTCCAGACCACGAGGTCGACGGCCACGCAAACACTGAAAAGACACAGCCATGTAATCATGGAAACTTAACATTATACTCAATGTTGAAAAAGTATGTCAAAACATTTCCATACACGTATAGCCAAAT\r\n",
      ">comp100004_c1_seq1\r\n",
      "AAGTAAATAATGCTTGACCTTCACAGCAATATGATCGCATCTGATAAGTAATCAGCTACATAAGGTCAAATAAATTGGATTCTGTATTTGCTGTAACATGGATAAAAAACATTGGGAATTTTTGTGGACACAAGTTTAACACCAATCTGACAGATACAAAGTGCTAGTATAAAACAGTTACAAGACACGAACACACACATTGAAAGGATTTAAATACCAAGTGACGTTTAAACATTGAAATGCCATTAACCTCAAATGATTATGTTAAAAAATTCA\r\n"
     ]
    }
   ],
   "source": [
    "! head ../data/Geoduck-transcriptome-v3.fa"
   ]
  },
  {
   "cell_type": "markdown",
   "metadata": {},
   "source": [
    "---\n",
    "\n",
    "## Adding bp sequences to blastn results\n",
    "\n",
    "### [Galaxy's](https://usegalaxy.org/) online tool is extremely user-friendly/intuitive. Here I am uploading both files that I want to reformat & merge:\n",
    "\n",
    "![upload both files](../images/2016-11-3_upload-files.png)"
   ]
  },
  {
   "cell_type": "markdown",
   "metadata": {},
   "source": [
    "### Converting the transcriptome file from fasta to tab format\n",
    "\n",
    "![Convert transciptome file from fasta to tab](../images/2016-11-3_transc-fasta-to-tab.png)"
   ]
  },
  {
   "cell_type": "markdown",
   "metadata": {},
   "source": [
    "### Removing excess data from transcriptome file \n",
    "\n",
    "![Removing excess data from transcriptome file](../images/2016-11-3_transc-remove-excess.png)"
   ]
  },
  {
   "cell_type": "markdown",
   "metadata": {},
   "source": [
    "### Merging the 2 files\n",
    "\n",
    "![Merging files](../images/2016-11-3_merge-files.png)"
   ]
  },
  {
   "cell_type": "markdown",
   "metadata": {},
   "source": [
    "### I downloaded the file; let's take a look at it. "
   ]
  },
  {
   "cell_type": "code",
   "execution_count": 11,
   "metadata": {
    "collapsed": false
   },
   "outputs": [
    {
     "name": "stdout",
     "output_type": "stream",
     "text": [
      "comp100007_c0_seq1\tTTGAAGAGTCTAATAATGGATCGGTAAATGAAGCTTTATGTTCTTAAAAGAGGTATATCTTAGACTTGAAGATGATTATTTAGAAATCTGTAAAAGGTCGAGGAAACTGGACACTGTTTAGGGAATTGCTACCTGAATCACAAGACTTTTGAAACGAAAAGTGCATACCTCATAGTTTTCACACTACACTTATGTTAGCAGCAATGGTAGACATGTGTCTTTGATGGATCCTATTGTGCTACCATTCTTTCTATAGGACTCAAATTAGTGAACCAATGATTCATTTTATGTATTATTATTATATGCATATGCAAATCTCCGACTATGCAATGTGTATTCATGTAGCGCTGTATTTGAGCACATTTGGCAGATCTTCTTTCAATTATATATGACTGTTTGTGATCAATACTACGATAAAAAAATCTGAAAATAGCAAAATTTGTTAGCAGTATTATCGGAAGCACAACAAATTATTCTATATGACTGTGAACTTTCTTAATATGTTTACAGTTCATAATTTATGGGGCGAATAACATTACTCAATGAACGTTCCTCGCCATGCATAGAAAATACATCATAAATATATGTCAACTCTGGAAAGTCACCAGTTCCCATGTATCGTGGTTACTGTGATATTTTCTTATGTTTACAGTTCAGCTTGATAAAAATATAGCAGATCTGAAAAAAAAAATGATCTGTATTCAAAGATTTTCGTTTTAAAGGCGATAGTTATA\tscaffold26337\t70.435\t230\t44\t7\t351\t556\t55193\t55422\t2.67e-21\t98.7\r\n",
      "comp100064_c1_seq1\tTACATGGGAATAATCATTTACATGCGTGCTTTAACAAAATATCATCTGAATGTATGGCATTGAAACGTAACACAATGAGGCCCACCCAAGGGTTTTGGAGATCTGGAAAACATGGCCAATTATTTTAGATATCTAGGGAACATTGACCATTACTTTCAGGGATCCAGGGATCAACGGCCTAATTTTAGAGATCTGAGGGAAATACTTTTGGGGAACTATG\tscaffold71773\t82.192\t146\t23\t3\t76\t220\t36938\t36795\t2.95e-33\t136\r\n",
      "comp100102_c0_seq1\tAAAAACAACGTAGTCAACCTCCAGTTCTTGTGCATTTTTAAGTGGGTATAGATTCATGCTATGAATAAAATACTTTAAAACTCTATGTTGAATTATTTTTTTACCTTTGAAATCCTAGACCTTATATTTTATGCAGAACCAACAACTCAATTCAAATGTGCAGTGAGGCCTAAAGGAGCACGCTAATATAACTAAAGTTCATG\tscaffold4463\t79.444\t180\t28\t5\t1\t175\t12886\t13061\t1.82e-35\t143\r\n",
      "comp100151_c0_seq1\tTCAGTTGCTTCAACTGAAAGTTTGGATGACTTCTCAGTTTGGTAAGTGTTCAATTGCTATGAATTTAGGAACAGGCATAGAACTCCTCCTTTTTATTTAGTGGTTAATAGACCGAATTTGGGAGGTATCAGGTTCTCGAATAGACTAAAAGAAACTGCATGTGGTTTCATTAACATTGATTATTGAGTAAAAAAGTAACCAGTCAAAATTTAATT\tscaffold34940\t79.866\t149\t29\t1\t1\t148\t28989\t28841\t1.22e-31\t131\r\n",
      "comp100168_c0_seq1\tGATGTTGCAGTAGCTGTGTCCTGCCATTGTTTGCCATTTCACTGCTTTTTTATATTTACTCGTTTGTCAAAACCAAAAGCTACGAAAAATAGACACATCTAGAAAATATAATAAAAATAATAATATATAGATAACGTTCTAGAAATTATGTTTTTATCATGTTTTTTCATGTTGTTCATGATGATGTCAATGATCCAAATTGCATTTCTCGTGCTGTATACGAGACGAAATTCCATTAATAAGGTACAATTAATATAATGCTCTTCTAGCAAAACTGTAGATGGGATTTAACGTGCTATGCTTTGTTTAGATGATCACAAAGATTGTATTCTTCACAAAATAAGTTTAAGTTGAGGACCGTGCAATGTGTTTCCCATAAGTGTATGTATATCTGATACTTTATGCCAAATTAATGCTATAACAAGTATTGGCAACATATTAAAAACAAGTTTAACCTGAAAATACATTTTAAATATTTATATCAGTAAAAATAAACGCATATTTAAAAAAAATATTTTGCCTCAAAATTTATAGTTTCGAATCAAAGTCTTGCATTTGTCTTTCAACGTTCTTGTTTACCAATTTCAGATTTTACCATGGTGGTTCAACATCAAACGTTATGGTTTAAACTATTTTCACAACACCCTGATGAACTGGGTCATCCTCCGATTTTCAAAAATTGCCAAAATTAAACGTATACATTTCGGTGTAAAAAAATCGGATATGATGTTTAAAAATCGTTTA\tscaffold26337\t68.222\t343\t83\t11\t412\t744\t116776\t117102\t2.22e-22\t102\r\n",
      "comp100173_c0_seq1\tGTCATGCCGCAGACGCATGGTATAGTGCTGCATCCAGTCATATTATGCTGACACTGGGCTGATCAGTCCTAGAACTAGCCTTCTCTAAATACTAAGAAAGGAAACTTCTGGTACCATTTTTCAAGACTGAACCTGTGACAACCTTGACACTTGCTGGGTGTCATTATGGCAAAGGCCATCTGATCAGGACCCAGTTGTTCAAAGCTTGGT\tscaffold19489\t76.923\t130\t20\t2\t2\t124\t30526\t30652\t2.02e-22\t100\r\n",
      "comp100177_c1_seq1\tTTAGTTTGAAATATTTTCAAATGGTTCTTAGAGGCTGTGATTTCTTGCTAAGCTGGCATAGCATATACAGAAATATGACATCATTGGAGTTAAACAAATGACTTTGTAGGGTTTTAACATATGTATGTATTTATGAACATTTGAAGACTTGCTTTTTAAAAATATCTTCGGGTGTCATTGCAGTCTGGTTAAGATACCAGGTATTTTGCATTTTTATGTGTGGATACAATCCTGCTATGAAAAACAATACTTCAAAAATAGTTTTATGTAGAATTGTTTTTACCATGGACAAAGAACAAAATTCAATAGTGTAGTGAGACCTGAATGTAGTTTGTACATGTGAGGTTTAGAAGCACCATTTCTAAATGTTATAGTTGCCCACTTTGGGCCATATAATG\tscaffold5354\t70.279\t323\t58\t6\t5\t289\t23010\t23332\t1.72e-39\t158\r\n",
      "comp100177_c1_seq1\tTTAGTTTGAAATATTTTCAAATGGTTCTTAGAGGCTGTGATTTCTTGCTAAGCTGGCATAGCATATACAGAAATATGACATCATTGGAGTTAAACAAATGACTTTGTAGGGTTTTAACATATGTATGTATTTATGAACATTTGAAGACTTGCTTTTTAAAAATATCTTCGGGTGTCATTGCAGTCTGGTTAAGATACCAGGTATTTTGCATTTTTATGTGTGGATACAATCCTGCTATGAAAAACAATACTTCAAAAATAGTTTTATGTAGAATTGTTTTTACCATGGACAAAGAACAAAATTCAATAGTGTAGTGAGACCTGAATGTAGTTTGTACATGTGAGGTTTAGAAGCACCATTTCTAAATGTTATAGTTGCCCACTTTGGGCCATATAATG\tscaffold5354\t74.317\t183\t28\t3\t5\t168\t31421\t31603\t1.24e-28\t122\r\n",
      "comp100181_c0_seq1\tACTGTGTTGATTTCATTAAACAAAAAACCCTATTTTGTTGTCAAATAAACCCCACAAAACATCTGATACAACCTATGCAGTGGTGTACTTAGAACAGTTTTCTGGAGCGTGTTGTTCTAGTTTTACACCAATTGACCACAACAACTTCTCAGACATTAACATATTTATCGGAAATGCAAGAGTTAAGACATTAATCCTAGGAGTGTTCGATATTCCCCCATATAACTCTATATATACTGGTCATACCCAATACCGCGAGTCTAAAAAATGTTCAACCATGTAAAGAATGCCATCAATACTAAACAGTAATAAGGCTACACAAGTGTGCTGAGTA\tscaffold11875\t80.583\t103\t11\t1\t232\t334\t31235\t31142\t3.35e-22\t100\r\n",
      "comp100181_c0_seq2\tGCATTAACATATTTATCGGAAGACATTAACATATTTATCGGAAATGCAAGAGTTAAGACATTAATCCTAGGAGTGTTCGATATTCCCCCATATAACTCTATATATACTGGTCATACCCAATACCGCGAGTCTAAAAAATGTTCAACCATGTAAAGAATGCCATCAATACTAAACAGTAATAAGGCTACACAAGTGTGCTGAGTA\tscaffold11875\t80.583\t103\t11\t1\t102\t204\t31235\t31142\t1.96e-22\t100\r\n"
     ]
    }
   ],
   "source": [
    "!head ../analyses/2016-11-3_Geo70k-scaff-transcrip-sequences.tabular"
   ]
  },
  {
   "cell_type": "markdown",
   "metadata": {},
   "source": [
    "### Header is no longer there, but columns include: \n",
    "\n",
    "    1) Transcriptome contig ID  \n",
    "    2) bp sequence  \n",
    "    3) Genome scaffold ID  \n",
    "    4) % identical matches  \n",
    "    5) Alignment length (bp)  \n",
    "    6) # Mismatches (bp)  \n",
    "    7) # gap openings  \n",
    "    8) Start of alignment query (Transcriptome)  \n",
    "    9) End of alignment query  \n",
    "    10) Start of alignment subject (Genome scaffolds)  \n",
    "    11) End of alignment subject  \n",
    "    12) e-value  \n",
    "    13) bit score   "
   ]
  },
  {
   "cell_type": "markdown",
   "metadata": {},
   "source": [
    "---\n",
    "\n",
    "# Second, merge genome scaffolds with transcriptome annotations\n",
    "\n",
    "### I downloaded [p. generosa transcriptome annotated with Uniprot data file](https://raw.githubusercontent.com/sr320/paper-pano-go/master/data-results/Geo-v3-join-uniprot-all0916-condensed.tab ) from Steven's [paper.pano.go repo](https://github.com/sr320/paper-pano-go)."
   ]
  },
  {
   "cell_type": "code",
   "execution_count": 5,
   "metadata": {
    "collapsed": false
   },
   "outputs": [
    {
     "name": "stdout",
     "output_type": "stream",
     "text": [
      "  % Total    % Received % Xferd  Average Speed   Time    Time     Time  Current\n",
      "                                 Dload  Upload   Total   Spent    Left  Speed\n",
      "100 8797k  100 8797k    0     0  3441k      0  0:00:02  0:00:02 --:--:-- 4108k\n"
     ]
    }
   ],
   "source": [
    "! curl -O https://raw.githubusercontent.com/sr320/paper-pano-go/master/data-results/Geo-v3-join-uniprot-all0916-condensed.tab "
   ]
  },
  {
   "cell_type": "code",
   "execution_count": 6,
   "metadata": {
    "collapsed": false
   },
   "outputs": [
    {
     "name": "stdout",
     "output_type": "stream",
     "text": [
      "Geo-v3-join-uniprot-all0916-condensed.tab\r\n",
      "Geoduck-transcriptome-v3.fa.zip\r\n",
      "Geoduck-transcriptome-v3.fa_db.nhr\r\n",
      "Geoduck-transcriptome-v3.fa_db.nin\r\n",
      "Geoduck-transcriptome-v3.fa_db.nsq\r\n",
      "\u001b[31mGeoduck-transcriptome-v3annotated.fa\u001b[m\u001b[m*\r\n",
      "Panopea_generosa_No-Line-Breaks.scafSeq.fai\r\n",
      "Panopea_generosa_ScafSeq.genome\r\n",
      "Panopea_generosa_scaff-70k.scafSeq\r\n",
      "Panopea_generosa_scaff-70k.scafSeq.fai\r\n",
      "Panopea_generosa_scaff-70k_db.nhr\r\n",
      "Panopea_generosa_scaff-70k_db.nin\r\n",
      "Panopea_generosa_scaff-70k_db.nsq\r\n",
      "Phel_countdata.txt\r\n",
      "Phel_transcriptome.fasta\r\n"
     ]
    }
   ],
   "source": [
    "ls"
   ]
  },
  {
   "cell_type": "markdown",
   "metadata": {},
   "source": [
    "### Here's a glimpse:"
   ]
  },
  {
   "cell_type": "code",
   "execution_count": 8,
   "metadata": {
    "collapsed": false
   },
   "outputs": [
    {
     "name": "stdout",
     "output_type": "stream",
     "text": [
      "GeoID\tEvalue\tSPID\tProteinName\tOrganism\tGO\tPFAM\r\n",
      "comp100065_c0_seq1\t2.00E-08\tQ5PRC1\tLipoma HMGIC fusion partner homolog\tDanio rerio (Zebrafish) (Brachydanio rerio)\t\tPF10242;\r\n",
      "comp100097_c0_seq1\t2.00E-37\tQ9UI26\tImportin-11 (Imp11) (Ran-binding protein 11) (RanBP11)\tHomo sapiens (Human)\tribosomal protein import into nucleus [GO:0006610]; transcription factor import into nucleus [GO:0042991]\tPF03810;\r\n",
      "comp100104_c2_seq1\t3.00E-29\tQ9NZJ4\tSacsin (DnaJ homolog subfamily C member 29) (DNAJC29)\tHomo sapiens (Human)\tnegative regulation of inclusion body assembly [GO:0090084]; protein folding [GO:0006457]\tPF05168;PF00240;\r\n",
      "comp100105_c1_seq1\t2.00E-73\tP18756\tProtein c-ets-1-B (C-ets-1B) (XE1-B) (Fragment)\tXenopus laevis (African clawed frog)\tpositive regulation of endothelial cell migration [GO:0010595]; regulation of angiogenesis [GO:0045765]; transcription, DNA-templated [GO:0006351]\tPF00178;\r\n",
      "comp100108_c1_seq1\t3.00E-59\tQ9U943\tApolipophorins [Cleaved into: Apolipophorin-2 (Apolipophorin II) (apoLp-2); Apolipophorin-1 (Apolipophorin I) (apoLp-1)]\tLocusta migratoria (Migratory locust)\tWnt signaling pathway [GO:0016055]\tPF08742;PF06448;PF09172;PF01347;PF00094;\r\n",
      "comp100109_c0_seq1\t6.00E-23\tO75443\tAlpha-tectorin\tHomo sapiens (Human)\tcell-matrix adhesion [GO:0007160]; sensory perception of sound [GO:0007605]\tPF08742;PF06119;PF01826;PF12714;PF00094;PF00100;\r\n",
      "comp100113_c0_seq1\t2.00E-06\tQ95US5\tBeta-1,3-galactosyltransferase bre-5 (EC 2.4.1.-) (Bacillus thuringiensis toxin-resistant protein 5) (Bt toxin-resistant protein 5)\tCaenorhabditis elegans\tcarbohydrate biosynthetic process [GO:0016051]; formation of infection structure on or near host [GO:0075015]; positive regulation of Notch signaling pathway [GO:0045747]; protein glycosylation [GO:0006486]; response to toxic substance [GO:0009636]\tPF01762;\r\n",
      "comp100113_c0_seq2\t9.00E-13\tQ9N295\tBeta-1,3-galactosyltransferase 5 (Beta-1,3-GalTase 5) (Beta3Gal-T5) (Beta3GalT5) (b3Gal-T5) (EC 2.4.1.-) (Beta-3-Gx-T5) (UDP-Gal:beta-GlcNAc beta-1,3-galactosyltransferase 5) (UDP-galactose:beta-N-acetylglucosamine beta-1,3-galactosyltransferase 5) (Fragment)\tPan troglodytes (Chimpanzee)\tprotein glycosylation [GO:0006486]\tPF01762;\r\n",
      "comp100113_c1_seq1\t7.00E-09\tQ9MYM7\tBeta-1,3-galactosyltransferase 1 (Beta-1,3-GalTase 1) (Beta3Gal-T1) (Beta3GalT1) (EC 2.4.1.-) (UDP-galactose:beta-N-acetyl-glucosamine-beta-1,3-galactosyltransferase 1)\tPongo pygmaeus (Bornean orangutan)\tprotein glycosylation [GO:0006486]\tPF01762;\r\n"
     ]
    }
   ],
   "source": [
    "! head -10 Geo-v3-join-uniprot-all0916-condensed.tab"
   ]
  },
  {
   "cell_type": "markdown",
   "metadata": {},
   "source": [
    "Now let's merge this file with my genome/transcriptome file using Galaxy: \n",
    "\n",
    "![Galaxy input to merge uniprot with genome](../images/2016-11-10_merge-uniprot-with-genome.png)"
   ]
  },
  {
   "cell_type": "markdown",
   "metadata": {},
   "source": [
    "### The resulting table looked like this:"
   ]
  },
  {
   "cell_type": "code",
   "execution_count": 9,
   "metadata": {
    "collapsed": false
   },
   "outputs": [
    {
     "name": "stdout",
     "output_type": "stream",
     "text": [
      "comp102842_c0_seq1\t3.00E-26\tO75626\tPR domain zinc finger protein 1 (EC 2.1.1.-) (BLIMP-1) (Beta-interferon gene positive regulatory domain I-binding factor) (PR domain-containing protein 1) (Positive regulatory domain I-binding factor 1) (PRDI-BF1) (PRDI-binding factor 1)\tHomo sapiens (Human)\taorta development [GO:0035904]; artery morphogenesis [GO:0048844]; cell fate commitment [GO:0045165]; coronary vasculature development [GO:0060976]; eye photoreceptor cell development [GO:0042462]; germ cell development [GO:0007281]; heart valve development [GO:0003170]; intestinal epithelial cell development [GO:0060576]; maternal placenta development [GO:0001893]; morphogenesis of a branching structure [GO:0001763]; negative regulation of B cell proliferation [GO:0030889]; negative regulation of lipopolysaccharide-mediated signaling pathway [GO:0031665]; negative regulation of transcription from RNA polymerase II promoter [GO:0000122]; positive regulation of B cell differentiation [GO:0045579]; positive regulation of gene expression [GO:0010628]; post-embryonic development [GO:0009791]; regulation of extrathymic T cell differentiation [GO:0033082]; regulation of natural killer cell differentiation [GO:0032823]; regulation of NK T cell differentiation [GO:0051136]; sebum secreting cell proliferation [GO:1990654]; transcription, DNA-templated [GO:0006351]; trophoblast giant cell differentiation [GO:0060707]; ventricular septum development [GO:0003281]\tPF00856;PF13912;\tcomp102842_c0_seq1\tTTCTCCAGTATGTATCCGCATGTGGATGTTTATTTGTGATGATTTTATAAATTTCTTGTAACAAACCTGGCACTCAAACAGTTTTTTTCCAGTATGTTTCCGAATATATATTTTAAAATTTGAGGACTGTGTAAATTTCCTATTACAAACCTGACATTGAAACAGGTTTTCTCCCGTACGATTAATCATGTGAGTCTGTAGATCAGATACTTCTACAGACATCTTATTACACACCTGGCACTCAATTGGGTTTCCACCAGTGTGTATCCGAATGTGAGAGTTTAGATGTGATGATTGTGCAAA\tscaffold71773\t69.333\t300\t86\t5\t1\t297\t33850\t34146\t5.83e-25\t109\r\n",
      "comp102842_c0_seq1\t3.00E-26\tO75626\tPR domain zinc finger protein 1 (EC 2.1.1.-) (BLIMP-1) (Beta-interferon gene positive regulatory domain I-binding factor) (PR domain-containing protein 1) (Positive regulatory domain I-binding factor 1) (PRDI-BF1) (PRDI-binding factor 1)\tHomo sapiens (Human)\taorta development [GO:0035904]; artery morphogenesis [GO:0048844]; cell fate commitment [GO:0045165]; coronary vasculature development [GO:0060976]; eye photoreceptor cell development [GO:0042462]; germ cell development [GO:0007281]; heart valve development [GO:0003170]; intestinal epithelial cell development [GO:0060576]; maternal placenta development [GO:0001893]; morphogenesis of a branching structure [GO:0001763]; negative regulation of B cell proliferation [GO:0030889]; negative regulation of lipopolysaccharide-mediated signaling pathway [GO:0031665]; negative regulation of transcription from RNA polymerase II promoter [GO:0000122]; positive regulation of B cell differentiation [GO:0045579]; positive regulation of gene expression [GO:0010628]; post-embryonic development [GO:0009791]; regulation of extrathymic T cell differentiation [GO:0033082]; regulation of natural killer cell differentiation [GO:0032823]; regulation of NK T cell differentiation [GO:0051136]; sebum secreting cell proliferation [GO:1990654]; transcription, DNA-templated [GO:0006351]; trophoblast giant cell differentiation [GO:0060707]; ventricular septum development [GO:0003281]\tPF00856;PF13912;\tcomp102842_c0_seq1\tTTCTCCAGTATGTATCCGCATGTGGATGTTTATTTGTGATGATTTTATAAATTTCTTGTAACAAACCTGGCACTCAAACAGTTTTTTTCCAGTATGTTTCCGAATATATATTTTAAAATTTGAGGACTGTGTAAATTTCCTATTACAAACCTGACATTGAAACAGGTTTTCTCCCGTACGATTAATCATGTGAGTCTGTAGATCAGATACTTCTACAGACATCTTATTACACACCTGGCACTCAATTGGGTTTCCACCAGTGTGTATCCGAATGTGAGAGTTTAGATGTGATGATTGTGCAAA\tscaffold71773\t68.350\t297\t90\t2\t1\t295\t51937\t52231\t2.03e-24\t107\r\n"
     ]
    }
   ],
   "source": [
    "!head -n 2 Geo-70k-scaff-annotations-merged-table.tabular"
   ]
  },
  {
   "cell_type": "markdown",
   "metadata": {},
   "source": [
    "### I added headers in Excel, moved the bp sequence column to the far right, and deleted the extraneous Transcriptome Contig ID column. The resulting file has the following column headers: \n",
    "\n",
    "    1) Transcriptome contig ID\n",
    "    2) E-value (between transcriptome & Uniprot ID)\n",
    "    3) SPID\t\n",
    "    4) ProteinName\t\n",
    "    5) Organism\n",
    "    6) GO\n",
    "    7) PFAM\n",
    "    8) Genome scaffold ID\n",
    "   \n",
    "   _below are from blastn_\n",
    "   \n",
    "    9) % identical matches\n",
    "    10) Alignment length (bp)\n",
    "    11) # Mismatches (bp)\n",
    "    12) # gap openings\n",
    "    13) Start of alignment query (Transcriptome)\n",
    "    14) End of alignment query\n",
    "    15) Start of alignment subject (Genome scaffolds)\n",
    "    16) End of alignment subject\n",
    "    17) e-value\n",
    "    18) bit score \n",
    "    19) Transcriptome bp sequence\n"
   ]
  },
  {
   "cell_type": "markdown",
   "metadata": {},
   "source": [
    "--- \n",
    "\n",
    "## Using DAVID and other program to visualize gene coding protein GO prevalence, etc. \n",
    "\n",
    "### [TBD]"
   ]
  }
 ],
 "metadata": {
  "anaconda-cloud": {},
  "kernelspec": {
   "display_name": "Python [default]",
   "language": "python",
   "name": "python3"
  },
  "language_info": {
   "codemirror_mode": {
    "name": "ipython",
    "version": 3
   },
   "file_extension": ".py",
   "mimetype": "text/x-python",
   "name": "python",
   "nbconvert_exporter": "python",
   "pygments_lexer": "ipython3",
   "version": "3.5.2"
  }
 },
 "nbformat": 4,
 "nbformat_minor": 1
}
