{
 "cells": [
  {
   "cell_type": "markdown",
   "metadata": {},
   "source": [
    "## In this notebook I use Bowtie2 to align geoduck RNASeq files to my >70k scaffolds, and convert to SAM, then BAM, then index for IGV \n",
    "\n",
    "### _Software requirements:_ \n",
    "### [Samtools Version: 1.3.1](https://sourceforge.net/projects/samtools/files/samtools/1.3.1/) (using htslib 1.3.1)\n",
    "### [Bowtie 2 version 2.2.9](https://sourceforge.net/projects/bowtie-bio/files/bowtie2/2.2.9/) \n",
    "* #### The Bowtie2 [user manual](http://bowtie-bio.sourceforge.net/bowtie2/manual.shtml) has a great tutorial, heavily utilized during this protocol.  \n",
    "\n",
    "\n",
    "\n"
   ]
  },
  {
   "cell_type": "code",
   "execution_count": 1,
   "metadata": {
    "collapsed": false
   },
   "outputs": [
    {
     "data": {
      "text/plain": [
       "'/Users/shlaura3/Documents/SAFS/FISH_546_Bioinformatics/546-Bioinformatics/2016-10_Geo-Ann-Project/Jupyter-Notebooks'"
      ]
     },
     "execution_count": 1,
     "metadata": {},
     "output_type": "execute_result"
    }
   ],
   "source": [
    "pwd"
   ]
  },
  {
   "cell_type": "code",
   "execution_count": null,
   "metadata": {
    "collapsed": true
   },
   "outputs": [],
   "source": [
    "# I have an active bioconda channel installed, so installing Bowtie2 via bioconda was very easy: conda install bowtie2\n",
    "! conda install bowtie2"
   ]
  },
  {
   "cell_type": "code",
   "execution_count": 5,
   "metadata": {
    "collapsed": false
   },
   "outputs": [
    {
     "name": "stdout",
     "output_type": "stream",
     "text": [
      "Usage: \r\n",
      "bowtie [options]* <ebwt> {-1 <m1> -2 <m2> | --12 <r> | <s>} [<hit>]\r\n",
      "\r\n",
      "  <m1>    Comma-separated list of files containing upstream mates (or the\r\n",
      "          sequences themselves, if -c is set) paired with mates in <m2>\r\n",
      "  <m2>    Comma-separated list of files containing downstream mates (or the\r\n",
      "          sequences themselves if -c is set) paired with mates in <m1>\r\n",
      "  <r>     Comma-separated list of files containing Crossbow-style reads.  Can be\r\n",
      "          a mixture of paired and unpaired.  Specify \"-\" for stdin.\r\n",
      "  <s>     Comma-separated list of files containing unpaired reads, or the\r\n",
      "          sequences themselves, if -c is set.  Specify \"-\" for stdin.\r\n",
      "  <hit>   File to write hits to (default: stdout)\r\n",
      "Input:\r\n",
      "  -q                 query input files are FASTQ .fq/.fastq (default)\r\n",
      "  -f                 query input files are (multi-)FASTA .fa/.mfa\r\n",
      "  -r                 query input files are raw one-sequence-per-line\r\n",
      "  -c                 query sequences given on cmd line (as <mates>, <singles>)\r\n",
      "  -C                 reads and index are in colorspace\r\n",
      "  -Q/--quals <file>  QV file(s) corresponding to CSFASTA inputs; use with -f -C\r\n",
      "  --Q1/--Q2 <file>   same as -Q, but for mate files 1 and 2 respectively\r\n",
      "  -s/--skip <int>    skip the first <int> reads/pairs in the input\r\n",
      "  -u/--qupto <int>   stop after first <int> reads/pairs (excl. skipped reads)\r\n",
      "  -5/--trim5 <int>   trim <int> bases from 5' (left) end of reads\r\n",
      "  -3/--trim3 <int>   trim <int> bases from 3' (right) end of reads\r\n",
      "  --phred33-quals    input quals are Phred+33 (default)\r\n",
      "  --phred64-quals    input quals are Phred+64 (same as --solexa1.3-quals)\r\n",
      "  --solexa-quals     input quals are from GA Pipeline ver. < 1.3\r\n",
      "  --solexa1.3-quals  input quals are from GA Pipeline ver. >= 1.3\r\n",
      "  --integer-quals    qualities are given as space-separated integers (not ASCII)\r\n",
      "  --large-index      force usage of a 'large' index, even if a small one is present\r\n",
      "Alignment:\r\n",
      "  -v <int>           report end-to-end hits w/ <=v mismatches; ignore qualities\r\n",
      "    or\r\n",
      "  -n/--seedmms <int> max mismatches in seed (can be 0-3, default: -n 2)\r\n",
      "  -e/--maqerr <int>  max sum of mismatch quals across alignment for -n (def: 70)\r\n",
      "  -l/--seedlen <int> seed length for -n (default: 28)\r\n",
      "  --nomaqround       disable Maq-like quality rounding for -n (nearest 10 <= 30)\r\n",
      "  -I/--minins <int>  minimum insert size for paired-end alignment (default: 0)\r\n",
      "  -X/--maxins <int>  maximum insert size for paired-end alignment (default: 250)\r\n",
      "  --fr/--rf/--ff     -1, -2 mates align fw/rev, rev/fw, fw/fw (default: --fr)\r\n",
      "  --nofw/--norc      do not align to forward/reverse-complement reference strand\r\n",
      "  --maxbts <int>     max # backtracks for -n 2/3 (default: 125, 800 for --best)\r\n",
      "  --pairtries <int>  max # attempts to find mate for anchor hit (default: 100)\r\n",
      "  -y/--tryhard       try hard to find valid alignments, at the expense of speed\r\n",
      "  --chunkmbs <int>   max megabytes of RAM for best-first search frames (def: 64)\r\n",
      "Reporting:\r\n",
      "  -k <int>           report up to <int> good alignments per read (default: 1)\r\n",
      "  -a/--all           report all alignments per read (much slower than low -k)\r\n",
      "  -m <int>           suppress all alignments if > <int> exist (def: no limit)\r\n",
      "  -M <int>           like -m, but reports 1 random hit (MAPQ=0); requires --best\r\n",
      "  --best             hits guaranteed best stratum; ties broken by quality\r\n",
      "  --strata           hits in sub-optimal strata aren't reported (requires --best)\r\n",
      "Output:\r\n",
      "  -t/--time          print wall-clock time taken by search phases\r\n",
      "  -B/--offbase <int> leftmost ref offset = <int> in bowtie output (default: 0)\r\n",
      "  --quiet            print nothing but the alignments\r\n",
      "  --refout           write alignments to files refXXXXX.map, 1 map per reference\r\n",
      "  --refidx           refer to ref. seqs by 0-based index rather than name\r\n",
      "  --al <fname>       write aligned reads/pairs to file(s) <fname>\r\n",
      "  --un <fname>       write unaligned reads/pairs to file(s) <fname>\r\n",
      "  --max <fname>      write reads/pairs over -m limit to file(s) <fname>\r\n",
      "  --suppress <cols>  suppresses given columns (comma-delim'ed) in default output\r\n",
      "  --fullref          write entire ref name (default: only up to 1st space)\r\n",
      "Colorspace:\r\n",
      "  --snpphred <int>   Phred penalty for SNP when decoding colorspace (def: 30)\r\n",
      "     or\r\n",
      "  --snpfrac <dec>    approx. fraction of SNP bases (e.g. 0.001); sets --snpphred\r\n",
      "  --col-cseq         print aligned colorspace seqs as colors, not decoded bases\r\n",
      "  --col-cqual        print original colorspace quals, not decoded quals\r\n",
      "  --col-keepends     keep nucleotides at extreme ends of decoded alignment\r\n",
      "SAM:\r\n",
      "  -S/--sam           write hits in SAM format\r\n",
      "  --mapq <int>       default mapping quality (MAPQ) to print for SAM alignments\r\n",
      "  --sam-nohead       supppress header lines (starting with @) for SAM output\r\n",
      "  --sam-nosq         supppress @SQ header lines for SAM output\r\n",
      "  --sam-RG <text>    add <text> (usually \"lab=value\") to @RG line of SAM header\r\n",
      "Performance:\r\n",
      "  -o/--offrate <int> override offrate of index; must be >= index's offrate\r\n",
      "  -p/--threads <int> number of alignment threads to launch (default: 1)\r\n",
      "  --mm               use memory-mapped I/O for index; many 'bowtie's can share\r\n",
      "  --shmem            use shared mem for index; many 'bowtie's can share\r\n",
      "Other:\r\n",
      "  --seed <int>       seed for random number generator\r\n",
      "  --verbose          verbose output (for debugging)\r\n",
      "  --version          print version information and quit\r\n",
      "  -h/--help          print this usage message\r\n"
     ]
    }
   ],
   "source": [
    "! bowtie2 -help"
   ]
  },
  {
   "cell_type": "code",
   "execution_count": 12,
   "metadata": {
    "collapsed": false
   },
   "outputs": [
    {
     "name": "stdout",
     "output_type": "stream",
     "text": [
      "/Users/srlab/546-Bioinformatics/2016-10_Geo-Ann-Project/data\n"
     ]
    }
   ],
   "source": [
    "cd ../data/ "
   ]
  },
  {
   "cell_type": "code",
   "execution_count": 13,
   "metadata": {
    "collapsed": false
   },
   "outputs": [
    {
     "name": "stdout",
     "output_type": "stream",
     "text": [
      "  % Total    % Received % Xferd  Average Speed   Time    Time     Time  Current\n",
      "                                 Dload  Upload   Total   Spent    Left  Speed\n",
      "100 24.9G  100 24.9G    0     0  65.4M      0  0:06:30  0:06:30 --:--:--  110M\n",
      "100 25.0G  100 25.0G    0     0  59.3M      0  0:07:11  0:07:11 --:--:-- 75.0M\n",
      "100 28.1G  100 28.1G    0     0  59.0M      0  0:08:07  0:08:07 --:--:-- 99.1M\n",
      "100 28.2G  100 28.2G    0     0  64.0M      0  0:07:31  0:07:31 --:--:-- 65.2M\n"
     ]
    }
   ],
   "source": [
    "# download geoduck RNASeq files, which are paired-end reads, samples from gonads in 1 male & 1 female\n",
    "! curl -O http://owl.fish.washington.edu/halfshell/bu-data-genomic/tentacle/Geoduck_v3/Geo_Pool_F_GGCTAC_L006_R2_001_val_1.fq \\\n",
    "-O http://owl.fish.washington.edu/halfshell/bu-data-genomic/tentacle/Geoduck_v3/Geo_Pool_F_GGCTAC_L006_R1_001_val_2.fq \\\n",
    "-O http://owl.fish.washington.edu/halfshell/bu-data-genomic/tentacle/Geoduck_v3/Geo_Pool_M_CTTGTA_L006_R2_001_val_1.fq \\\n",
    "-O http://owl.fish.washington.edu/halfshell/bu-data-genomic/tentacle/Geoduck_v3/Geo_Pool_M_CTTGTA_L006_R1_001_val_2.fq    "
   ]
  },
  {
   "cell_type": "code",
   "execution_count": 15,
   "metadata": {
    "collapsed": false
   },
   "outputs": [
    {
     "name": "stdout",
     "output_type": "stream",
     "text": [
      "Geo-70k-scaff-annotations-merged-table.tabular\r\n",
      "Geo-v3-join-uniprot-all0916-condensed.tab\r\n",
      "Geo_Pool_F_GGCTAC_L006_R1_001_val_2.fq\r\n",
      "Geo_Pool_F_GGCTAC_L006_R2_001_val_1.fq\r\n",
      "Geo_Pool_M_CTTGTA_L006_R1_001_val_2.fq\r\n",
      "Geo_Pool_M_CTTGTA_L006_R2_001_val_1.fq\r\n",
      "Geoduck-transcriptome-v3.fa.zip\r\n",
      "Geoduck-transcriptome-v3.fa_db.nhr\r\n",
      "Geoduck-transcriptome-v3.fa_db.nin\r\n",
      "Geoduck-transcriptome-v3.fa_db.nsq\r\n",
      "Panopea_generosa_No-Line-Breaks.scafSeq.fai\r\n",
      "Panopea_generosa_ScafSeq.genome\r\n",
      "Panopea_generosa_scaff-70k.fasta\r\n",
      "Panopea_generosa_scaff-70k.fasta.fai\r\n",
      "Panopea_generosa_scaff-70k.scafSeq\r\n",
      "Panopea_generosa_scaff-70k.scafSeq.fai\r\n",
      "Panopea_generosa_scaff-70k_bowtie2-index.1.bt2\r\n",
      "Panopea_generosa_scaff-70k_bowtie2-index.2.bt2\r\n",
      "Panopea_generosa_scaff-70k_bowtie2-index.3.bt2\r\n",
      "Panopea_generosa_scaff-70k_bowtie2-index.4.bt2\r\n",
      "Panopea_generosa_scaff-70k_bowtie2-index.rev.1.bt2\r\n",
      "Panopea_generosa_scaff-70k_bowtie2-index.rev.2.bt2\r\n",
      "Panopea_generosa_scaff-70k_db.nhr\r\n",
      "Panopea_generosa_scaff-70k_db.nin\r\n",
      "Panopea_generosa_scaff-70k_db.nsq\r\n",
      "Phel_countdata.txt\r\n",
      "Phel_transcriptome.fasta\r\n",
      "hairpin.fa\r\n"
     ]
    }
   ],
   "source": [
    "ls ../data/"
   ]
  },
  {
   "cell_type": "markdown",
   "metadata": {},
   "source": [
    "---\n",
    "\n",
    "## Building my Bowtie2 Index\n",
    "#### Bowtie2 requires a reference genome  against which to map the RNASeq data\n",
    "#### see line 1429 in the [bowtie manual](https://github.com/BenLangmead/bowtie/blob/master/MANUAL) for the bowtie-build options"
   ]
  },
  {
   "cell_type": "code",
   "execution_count": 5,
   "metadata": {
    "collapsed": false,
    "scrolled": false
   },
   "outputs": [
    {
     "name": "stdout",
     "output_type": "stream",
     "text": [
      "Settings:\n",
      "  Output files: \"../data/Panopea_generosa_scaff-70k_bowtie2-index.*.bt2\"\n",
      "  Line rate: 6 (line is 64 bytes)\n",
      "  Lines per side: 1 (side is 64 bytes)\n",
      "  Offset rate: 4 (one in 16)\n",
      "  FTable chars: 10\n",
      "  Strings: unpacked\n",
      "  Max bucket size: default\n",
      "  Max bucket size, sqrt multiplier: default\n",
      "  Max bucket size, len divisor: 4\n",
      "  Difference-cover sample period: 1024\n",
      "  Endianness: little\n",
      "  Actual local endianness: little\n",
      "  Sanity checking: disabled\n",
      "  Assertions: disabled\n",
      "  Random seed: 0\n",
      "  Sizeofs: void*:8, int:4, long:8, size_t:8\n",
      "Input files DNA, FASTA:\n",
      "  ../data/Panopea_generosa_scaff-70k.fasta\n",
      "Building a SMALL index\n",
      "Reading reference sizes\n",
      "  Time reading reference sizes: 00:00:00\n",
      "Calculating joined length\n",
      "Writing header\n",
      "Reserving space for joined string\n",
      "Joining reference sequences\n",
      "  Time to join reference sequences: 00:00:00\n",
      "bmax according to bmaxDivN setting: 451843\n",
      "Using parameters --bmax 338883 --dcv 1024\n",
      "  Doing ahead-of-time memory usage test\n",
      "  Passed!  Constructing with these parameters: --bmax 338883 --dcv 1024\n",
      "Constructing suffix-array element generator\n",
      "Building DifferenceCoverSample\n",
      "  Building sPrime\n",
      "  Building sPrimeOrder\n",
      "  V-Sorting samples\n",
      "  V-Sorting samples time: 00:00:00\n",
      "  Allocating rank array\n",
      "  Ranking v-sort output\n",
      "  Ranking v-sort output time: 00:00:00\n",
      "  Invoking Larsson-Sadakane on ranks\n",
      "  Invoking Larsson-Sadakane on ranks time: 00:00:00\n",
      "  Sanity-checking and returning\n",
      "Building samples\n",
      "Reserving space for 12 sample suffixes\n",
      "Generating random suffixes\n",
      "QSorting 12 sample offsets, eliminating duplicates\n",
      "QSorting sample offsets, eliminating duplicates time: 00:00:00\n",
      "Multikey QSorting 12 samples\n",
      "  (Using difference cover)\n",
      "  Multikey QSorting samples time: 00:00:00\n",
      "Calculating bucket sizes\n",
      "Splitting and merging\n",
      "  Splitting and merging time: 00:00:00\n",
      "Split 1, merged 7; iterating...\n",
      "Splitting and merging\n",
      "  Splitting and merging time: 00:00:00\n",
      "Avg bucket size: 258195 (target: 338882)\n",
      "Converting suffix-array elements to index image\n",
      "Allocating ftab, absorbFtab\n",
      "Entering Ebwt loop\n",
      "Getting block 1 of 7\n",
      "  Reserving size (338883) for bucket 1\n",
      "  Calculating Z arrays for bucket 1\n",
      "  Entering block accumulator loop for bucket 1:\n",
      "  bucket 1: 10%\n",
      "  bucket 1: 20%\n",
      "  bucket 1: 30%\n",
      "  bucket 1: 40%\n",
      "  bucket 1: 50%\n",
      "  bucket 1: 60%\n",
      "  bucket 1: 70%\n",
      "  bucket 1: 80%\n",
      "  bucket 1: 90%\n",
      "  bucket 1: 100%\n",
      "  Sorting block of length 299530 for bucket 1\n",
      "  (Using difference cover)\n",
      "  Sorting block time: 00:00:00\n",
      "Returning block of 299531 for bucket 1\n",
      "Getting block 2 of 7\n",
      "  Reserving size (338883) for bucket 2\n",
      "  Calculating Z arrays for bucket 2\n",
      "  Entering block accumulator loop for bucket 2:\n",
      "  bucket 2: 10%\n",
      "  bucket 2: 20%\n",
      "  bucket 2: 30%\n",
      "  bucket 2: 40%\n",
      "  bucket 2: 50%\n",
      "  bucket 2: 60%\n",
      "  bucket 2: 70%\n",
      "  bucket 2: 80%\n",
      "  bucket 2: 90%\n",
      "  bucket 2: 100%\n",
      "  Sorting block of length 148900 for bucket 2\n",
      "  (Using difference cover)\n",
      "  Sorting block time: 00:00:00\n",
      "Returning block of 148901 for bucket 2\n",
      "Getting block 3 of 7\n",
      "  Reserving size (338883) for bucket 3\n",
      "  Calculating Z arrays for bucket 3\n",
      "  Entering block accumulator loop for bucket 3:\n",
      "  bucket 3: 10%\n",
      "  bucket 3: 20%\n",
      "  bucket 3: 30%\n",
      "  bucket 3: 40%\n",
      "  bucket 3: 50%\n",
      "  bucket 3: 60%\n",
      "  bucket 3: 70%\n",
      "  bucket 3: 80%\n",
      "  bucket 3: 90%\n",
      "  bucket 3: 100%\n",
      "  Sorting block of length 323687 for bucket 3\n",
      "  (Using difference cover)\n",
      "  Sorting block time: 00:00:00\n",
      "Returning block of 323688 for bucket 3\n",
      "Getting block 4 of 7\n",
      "  Reserving size (338883) for bucket 4\n",
      "  Calculating Z arrays for bucket 4\n",
      "  Entering block accumulator loop for bucket 4:\n",
      "  bucket 4: 10%\n",
      "  bucket 4: 20%\n",
      "  bucket 4: 30%\n",
      "  bucket 4: 40%\n",
      "  bucket 4: 50%\n",
      "  bucket 4: 60%\n",
      "  bucket 4: 70%\n",
      "  bucket 4: 80%\n",
      "  bucket 4: 90%\n",
      "  bucket 4: 100%\n",
      "  Sorting block of length 284762 for bucket 4\n",
      "  (Using difference cover)\n",
      "  Sorting block time: 00:00:00\n",
      "Returning block of 284763 for bucket 4\n",
      "Getting block 5 of 7\n",
      "  Reserving size (338883) for bucket 5\n",
      "  Calculating Z arrays for bucket 5\n",
      "  Entering block accumulator loop for bucket 5:\n",
      "  bucket 5: 10%\n",
      "  bucket 5: 20%\n",
      "  bucket 5: 30%\n",
      "  bucket 5: 40%\n",
      "  bucket 5: 50%\n",
      "  bucket 5: 60%\n",
      "  bucket 5: 70%\n",
      "  bucket 5: 80%\n",
      "  bucket 5: 90%\n",
      "  bucket 5: 100%\n",
      "  Sorting block of length 208405 for bucket 5\n",
      "  (Using difference cover)\n",
      "  Sorting block time: 00:00:00\n",
      "Returning block of 208406 for bucket 5\n",
      "Getting block 6 of 7\n",
      "  Reserving size (338883) for bucket 6\n",
      "  Calculating Z arrays for bucket 6\n",
      "  Entering block accumulator loop for bucket 6:\n",
      "  bucket 6: 10%\n",
      "  bucket 6: 20%\n",
      "  bucket 6: 30%\n",
      "  bucket 6: 40%\n",
      "  bucket 6: 50%\n",
      "  bucket 6: 60%\n",
      "  bucket 6: 70%\n",
      "  bucket 6: 80%\n",
      "  bucket 6: 90%\n",
      "  bucket 6: 100%\n",
      "  Sorting block of length 324235 for bucket 6\n",
      "  (Using difference cover)\n",
      "  Sorting block time: 00:00:00\n",
      "Returning block of 324236 for bucket 6\n",
      "Getting block 7 of 7\n",
      "  Reserving size (338883) for bucket 7\n",
      "  Calculating Z arrays for bucket 7\n",
      "  Entering block accumulator loop for bucket 7:\n",
      "  bucket 7: 10%\n",
      "  bucket 7: 20%\n",
      "  bucket 7: 30%\n",
      "  bucket 7: 40%\n",
      "  bucket 7: 50%\n",
      "  bucket 7: 60%\n",
      "  bucket 7: 70%\n",
      "  bucket 7: 80%\n",
      "  bucket 7: 90%\n",
      "  bucket 7: 100%\n",
      "  Sorting block of length 217848 for bucket 7\n",
      "  (Using difference cover)\n",
      "  Sorting block time: 00:00:00\n",
      "Returning block of 217849 for bucket 7\n",
      "Exited Ebwt loop\n",
      "fchr[A]: 0\n",
      "fchr[C]: 605139\n",
      "fchr[G]: 900679\n",
      "fchr[T]: 1194923\n",
      "fchr[$]: 1807373\n",
      "Exiting Ebwt::buildToDisk()\n",
      "Returning from initFromVector\n",
      "Wrote 4804841 bytes to primary EBWT file: ../data/Panopea_generosa_scaff-70k_bowtie2-index.1.bt2\n",
      "Wrote 451848 bytes to secondary EBWT file: ../data/Panopea_generosa_scaff-70k_bowtie2-index.2.bt2\n",
      "Re-opening _in1 and _in2 as input streams\n",
      "Returning from Ebwt constructor\n",
      "Headers:\n",
      "    len: 1807373\n",
      "    bwtLen: 1807374\n",
      "    sz: 451844\n",
      "    bwtSz: 451844\n",
      "    lineRate: 6\n",
      "    offRate: 4\n",
      "    offMask: 0xfffffff0\n",
      "    ftabChars: 10\n",
      "    eftabLen: 20\n",
      "    eftabSz: 80\n",
      "    ftabLen: 1048577\n",
      "    ftabSz: 4194308\n",
      "    offsLen: 112961\n",
      "    offsSz: 451844\n",
      "    lineSz: 64\n",
      "    sideSz: 64\n",
      "    sideBwtSz: 48\n",
      "    sideBwtLen: 192\n",
      "    numSides: 9414\n",
      "    numLines: 9414\n",
      "    ebwtTotLen: 602496\n",
      "    ebwtTotSz: 602496\n",
      "    color: 0\n",
      "    reverse: 0\n",
      "Total time for call to driver() for forward index: 00:00:01\n",
      "Reading reference sizes\n",
      "  Time reading reference sizes: 00:00:00\n",
      "Calculating joined length\n",
      "Writing header\n",
      "Reserving space for joined string\n",
      "Joining reference sequences\n",
      "  Time to join reference sequences: 00:00:00\n",
      "  Time to reverse reference sequence: 00:00:00\n",
      "bmax according to bmaxDivN setting: 451843\n",
      "Using parameters --bmax 338883 --dcv 1024\n",
      "  Doing ahead-of-time memory usage test\n",
      "  Passed!  Constructing with these parameters: --bmax 338883 --dcv 1024\n",
      "Constructing suffix-array element generator\n",
      "Building DifferenceCoverSample\n",
      "  Building sPrime\n",
      "  Building sPrimeOrder\n",
      "  V-Sorting samples\n",
      "  V-Sorting samples time: 00:00:00\n",
      "  Allocating rank array\n",
      "  Ranking v-sort output\n",
      "  Ranking v-sort output time: 00:00:00\n",
      "  Invoking Larsson-Sadakane on ranks\n",
      "  Invoking Larsson-Sadakane on ranks time: 00:00:00\n",
      "  Sanity-checking and returning\n",
      "Building samples\n",
      "Reserving space for 12 sample suffixes\n",
      "Generating random suffixes\n",
      "QSorting 12 sample offsets, eliminating duplicates\n",
      "QSorting sample offsets, eliminating duplicates time: 00:00:00\n",
      "Multikey QSorting 12 samples\n",
      "  (Using difference cover)\n",
      "  Multikey QSorting samples time: 00:00:00\n",
      "Calculating bucket sizes\n",
      "Splitting and merging\n",
      "  Splitting and merging time: 00:00:00\n",
      "Avg bucket size: 258195 (target: 338882)\n",
      "Converting suffix-array elements to index image\n",
      "Allocating ftab, absorbFtab\n",
      "Entering Ebwt loop\n",
      "Getting block 1 of 7\n",
      "  Reserving size (338883) for bucket 1\n",
      "  Calculating Z arrays for bucket 1\n",
      "  Entering block accumulator loop for bucket 1:\n",
      "  bucket 1: 10%\n",
      "  bucket 1: 20%\n",
      "  bucket 1: 30%\n",
      "  bucket 1: 40%\n",
      "  bucket 1: 50%\n",
      "  bucket 1: 60%\n",
      "  bucket 1: 70%\n",
      "  bucket 1: 80%\n",
      "  bucket 1: 90%\n",
      "  bucket 1: 100%\n",
      "  Sorting block of length 302407 for bucket 1\n",
      "  (Using difference cover)\n",
      "  Sorting block time: 00:00:00\n",
      "Returning block of 302408 for bucket 1\n",
      "Getting block 2 of 7\n",
      "  Reserving size (338883) for bucket 2\n",
      "  Calculating Z arrays for bucket 2\n",
      "  Entering block accumulator loop for bucket 2:\n",
      "  bucket 2: 10%\n",
      "  bucket 2: 20%\n",
      "  bucket 2: 30%\n",
      "  bucket 2: 40%\n",
      "  bucket 2: 50%\n",
      "  bucket 2: 60%\n",
      "  bucket 2: 70%\n",
      "  bucket 2: 80%\n",
      "  bucket 2: 90%\n",
      "  bucket 2: 100%\n",
      "  Sorting block of length 170619 for bucket 2\n",
      "  (Using difference cover)\n",
      "  Sorting block time: 00:00:00\n",
      "Returning block of 170620 for bucket 2\n",
      "Getting block 3 of 7\n",
      "  Reserving size (338883) for bucket 3\n",
      "  Calculating Z arrays for bucket 3\n",
      "  Entering block accumulator loop for bucket 3:\n",
      "  bucket 3: 10%\n",
      "  bucket 3: 20%\n",
      "  bucket 3: 30%\n",
      "  bucket 3: 40%\n",
      "  bucket 3: 50%\n",
      "  bucket 3: 60%\n",
      "  bucket 3: 70%\n",
      "  bucket 3: 80%\n",
      "  bucket 3: 90%\n",
      "  bucket 3: 100%\n",
      "  Sorting block of length 287319 for bucket 3\n",
      "  (Using difference cover)\n",
      "  Sorting block time: 00:00:00\n",
      "Returning block of 287320 for bucket 3\n",
      "Getting block 4 of 7\n",
      "  Reserving size (338883) for bucket 4\n",
      "  Calculating Z arrays for bucket 4\n",
      "  Entering block accumulator loop for bucket 4:\n",
      "  bucket 4: 10%\n",
      "  bucket 4: 20%\n",
      "  bucket 4: 30%\n",
      "  bucket 4: 40%\n",
      "  bucket 4: 50%\n",
      "  bucket 4: 60%\n",
      "  bucket 4: 70%\n",
      "  bucket 4: 80%\n",
      "  bucket 4: 90%\n",
      "  bucket 4: 100%\n",
      "  Sorting block of length 330746 for bucket 4\n",
      "  (Using difference cover)\n",
      "  Sorting block time: 00:00:00\n",
      "Returning block of 330747 for bucket 4\n",
      "Getting block 5 of 7\n",
      "  Reserving size (338883) for bucket 5\n",
      "  Calculating Z arrays for bucket 5\n",
      "  Entering block accumulator loop for bucket 5:\n",
      "  bucket 5: 10%\n",
      "  bucket 5: 20%\n",
      "  bucket 5: 30%\n",
      "  bucket 5: 40%\n",
      "  bucket 5: 50%\n",
      "  bucket 5: 60%\n",
      "  bucket 5: 70%\n",
      "  bucket 5: 80%\n",
      "  bucket 5: 90%\n",
      "  bucket 5: 100%\n",
      "  Sorting block of length 235349 for bucket 5\n",
      "  (Using difference cover)\n",
      "  Sorting block time: 00:00:00\n",
      "Returning block of 235350 for bucket 5\n",
      "Getting block 6 of 7\n",
      "  Reserving size (338883) for bucket 6\n",
      "  Calculating Z arrays for bucket 6\n",
      "  Entering block accumulator loop for bucket 6:\n",
      "  bucket 6: 10%\n",
      "  bucket 6: 20%\n",
      "  bucket 6: 30%\n",
      "  bucket 6: 40%\n",
      "  bucket 6: 50%\n",
      "  bucket 6: 60%\n",
      "  bucket 6: 70%\n",
      "  bucket 6: 80%\n",
      "  bucket 6: 90%\n",
      "  bucket 6: 100%\n",
      "  Sorting block of length 151345 for bucket 6\n",
      "  (Using difference cover)\n",
      "  Sorting block time: 00:00:00\n",
      "Returning block of 151346 for bucket 6\n",
      "Getting block 7 of 7\n",
      "  Reserving size (338883) for bucket 7\n",
      "  Calculating Z arrays for bucket 7\n",
      "  Entering block accumulator loop for bucket 7:\n",
      "  bucket 7: 10%\n",
      "  bucket 7: 20%\n",
      "  bucket 7: 30%\n",
      "  bucket 7: 40%\n",
      "  bucket 7: 50%\n",
      "  bucket 7: 60%\n",
      "  bucket 7: 70%\n",
      "  bucket 7: 80%\n",
      "  bucket 7: 90%\n",
      "  bucket 7: 100%\n",
      "  Sorting block of length 329582 for bucket 7\n",
      "  (Using difference cover)\n",
      "  Sorting block time: 00:00:00\n",
      "Returning block of 329583 for bucket 7\n",
      "Exited Ebwt loop\n",
      "fchr[A]: 0\n",
      "fchr[C]: 605139\n",
      "fchr[G]: 900679\n",
      "fchr[T]: 1194923\n",
      "fchr[$]: 1807373\n",
      "Exiting Ebwt::buildToDisk()\n",
      "Returning from initFromVector\n",
      "Wrote 4804841 bytes to primary EBWT file: ../data/Panopea_generosa_scaff-70k_bowtie2-index.rev.1.bt2\n",
      "Wrote 451848 bytes to secondary EBWT file: ../data/Panopea_generosa_scaff-70k_bowtie2-index.rev.2.bt2\n",
      "Re-opening _in1 and _in2 as input streams\n",
      "Returning from Ebwt constructor\n",
      "Headers:\n",
      "    len: 1807373\n",
      "    bwtLen: 1807374\n",
      "    sz: 451844\n",
      "    bwtSz: 451844\n",
      "    lineRate: 6\n",
      "    offRate: 4\n",
      "    offMask: 0xfffffff0\n",
      "    ftabChars: 10\n",
      "    eftabLen: 20\n",
      "    eftabSz: 80\n",
      "    ftabLen: 1048577\n",
      "    ftabSz: 4194308\n",
      "    offsLen: 112961\n",
      "    offsSz: 451844\n",
      "    lineSz: 64\n",
      "    sideSz: 64\n",
      "    sideBwtSz: 48\n",
      "    sideBwtLen: 192\n",
      "    numSides: 9414\n",
      "    numLines: 9414\n",
      "    ebwtTotLen: 602496\n",
      "    ebwtTotSz: 602496\n",
      "    color: 0\n",
      "    reverse: 1\n",
      "Total time for backward call to driver() for mirror index: 00:00:01\n"
     ]
    }
   ],
   "source": [
    "# Building my \"index\" (aka database) out of my >70k genome scaffolds;\n",
    "! bowtie2-build \\\n",
    "../data/Panopea_generosa_scaff-70k.fasta \\\n",
    "../data/Panopea_generosa_scaff-70k_bowtie2-index"
   ]
  },
  {
   "cell_type": "code",
   "execution_count": 20,
   "metadata": {
    "collapsed": false
   },
   "outputs": [
    {
     "name": "stdout",
     "output_type": "stream",
     "text": [
      "Geo-70k-scaff-annotations-merged-table.tabular\r\n",
      "Geo-v3-join-uniprot-all0916-condensed.tab\r\n",
      "Geo_Pool_F_GGCTAC_L006_R1_001_val_2.fq\r\n",
      "Geo_Pool_F_GGCTAC_L006_R2_001_val_1.fq\r\n",
      "Geo_Pool_M_CTTGTA_L006_R1_001_val_2.fq\r\n",
      "Geo_Pool_M_CTTGTA_L006_R2_001_val_1.fq\r\n",
      "Geoduck-transcriptome-v3.fa.zip\r\n",
      "Geoduck-transcriptome-v3.fa_db.nhr\r\n",
      "Geoduck-transcriptome-v3.fa_db.nin\r\n",
      "Geoduck-transcriptome-v3.fa_db.nsq\r\n",
      "Panopea_generosa_No-Line-Breaks.scafSeq.fai\r\n",
      "Panopea_generosa_ScafSeq.genome\r\n",
      "Panopea_generosa_scaff-70k.fasta\r\n",
      "Panopea_generosa_scaff-70k.fasta.fai\r\n",
      "Panopea_generosa_scaff-70k.scafSeq\r\n",
      "Panopea_generosa_scaff-70k.scafSeq.fai\r\n",
      "Panopea_generosa_scaff-70k_bowtie2-index.1.bt2\r\n",
      "Panopea_generosa_scaff-70k_bowtie2-index.2.bt2\r\n",
      "Panopea_generosa_scaff-70k_bowtie2-index.3.bt2\r\n",
      "Panopea_generosa_scaff-70k_bowtie2-index.4.bt2\r\n",
      "Panopea_generosa_scaff-70k_bowtie2-index.rev.1.bt2\r\n",
      "Panopea_generosa_scaff-70k_bowtie2-index.rev.2.bt2\r\n",
      "Panopea_generosa_scaff-70k_db.nhr\r\n",
      "Panopea_generosa_scaff-70k_db.nin\r\n",
      "Panopea_generosa_scaff-70k_db.nsq\r\n",
      "Phel_countdata.txt\r\n",
      "Phel_transcriptome.fasta\r\n",
      "hairpin.fa\r\n"
     ]
    }
   ],
   "source": [
    "# Indexing creates 6 files ending in .bt2 \n",
    "! ls ../data/"
   ]
  },
  {
   "cell_type": "code",
   "execution_count": 8,
   "metadata": {
    "collapsed": false
   },
   "outputs": [
    {
     "name": "stdout",
     "output_type": "stream",
     "text": [
      "Flags\t1\r\n",
      "Reverse flags\t5\r\n",
      "Colorspace\t0\r\n",
      "2.0-compatible\t1\r\n",
      "SA-Sample\t1 in 16\r\n",
      "FTab-Chars\t10\r\n",
      "Sequence-1\tscaffold3071 37.0\t92480\r\n",
      "Sequence-2\tscaffold4463 35.0\t96504\r\n",
      "Sequence-3\tscaffold5354 34.4\t78472\r\n",
      "Sequence-4\tscaffold9504 36.1\t106643\r\n",
      "Sequence-5\tscaffold10970 36.6\t103072\r\n",
      "Sequence-6\tscaffold11875 36.6\t71487\r\n",
      "Sequence-7\tscaffold15463 36.3\t94990\r\n",
      "Sequence-8\tscaffold18558 34.9\t73279\r\n",
      "Sequence-9\tscaffold19489 36.3\t88023\r\n",
      "Sequence-10\tscaffold20302 34.0\t90664\r\n",
      "Sequence-11\tscaffold26337 37.5\t154899\r\n",
      "Sequence-12\tscaffold26960 37.7\t118606\r\n",
      "Sequence-13\tscaffold27692 37.9\t82296\r\n",
      "Sequence-14\tscaffold30278 35.7\t92860\r\n",
      "Sequence-15\tscaffold31723 35.8\t75618\r\n",
      "Sequence-16\tscaffold32578 36.5\t88248\r\n",
      "Sequence-17\tscaffold34940 36.6\t91720\r\n",
      "Sequence-18\tscaffold45727 36.4\t106547\r\n",
      "Sequence-19\tscaffold59644 35.9\t78717\r\n",
      "Sequence-20\tscaffold71773 33.8\t103920\r\n"
     ]
    }
   ],
   "source": [
    "! bowtie2-inspect --summary ../data/Panopea_generosa_scaff-70k_bowtie2-index"
   ]
  },
  {
   "cell_type": "markdown",
   "metadata": {},
   "source": [
    "### Mapping reads from femal gonad RNA Seq data to indexed fasta file"
   ]
  },
  {
   "cell_type": "code",
   "execution_count": 16,
   "metadata": {
    "collapsed": false
   },
   "outputs": [
    {
     "name": "stdout",
     "output_type": "stream",
     "text": [
      "103213920 reads; of these:\r\n",
      "  103213920 (100.00%) were paired; of these:\r\n",
      "    102864801 (99.66%) aligned concordantly 0 times\r\n",
      "    261616 (0.25%) aligned concordantly exactly 1 time\r\n",
      "    87503 (0.08%) aligned concordantly >1 times\r\n",
      "    ----\r\n",
      "    102864801 pairs aligned concordantly 0 times; of these:\r\n",
      "      14372 (0.01%) aligned discordantly 1 time\r\n",
      "    ----\r\n",
      "    102850429 pairs aligned 0 times concordantly or discordantly; of these:\r\n",
      "      205700858 mates make up the pairs; of these:\r\n",
      "        205376406 (99.84%) aligned 0 times\r\n",
      "        207451 (0.10%) aligned exactly 1 time\r\n",
      "        117001 (0.06%) aligned >1 times\r\n",
      "0.51% overall alignment rate\r\n"
     ]
    }
   ],
   "source": [
    "# Now, use bowtie to first map female gonad paired-end reads to scaffold index\n",
    "# FYI this took about an hour on my personal laptop & on Roadrunner \n",
    "! bowtie2 \\\n",
    "-x ../data/Panopea_generosa_scaff-70k_bowtie2-index \\\n",
    "-1 ../data/Geo_Pool_F_GGCTAC_L006_R2_001_val_1.fq \\\n",
    "-2 ../data/Geo_Pool_F_GGCTAC_L006_R1_001_val_2.fq \\\n",
    "-S ../analyses/Panopea_generosascaff-70k_gonadF_bowtie.sam"
   ]
  },
  {
   "cell_type": "code",
   "execution_count": 17,
   "metadata": {
    "collapsed": false
   },
   "outputs": [
    {
     "name": "stdout",
     "output_type": "stream",
     "text": [
      "2016-11-3_Geo70k-scaff-transcrip-sequences.tabular\r\n",
      "GeoTrans-PhelDiffExp_blasted_sorted\r\n",
      "P-Generosa_IGV.xml\r\n",
      "Panopea_generosascaff-70k_gonadF_bowtie.sam\r\n",
      "Phel_DEGlist.tab\r\n",
      "\u001b[34mRepeatMasker\u001b[m\u001b[m\r\n",
      "SeaStarDiffExp.R\r\n",
      "pgenerosa-scaff70-miRNA.tab\r\n",
      "pgenerosa-transcrv3-blastn-scaff70k-01.gff.fai\r\n",
      "pgenerosa-transcrv3-blastn-scaff70k-01.tab\r\n",
      "pgenerosa-transcrv3-blastn-scaff70k-01.tab.fai\r\n"
     ]
    }
   ],
   "source": [
    "!ls ../analyses/"
   ]
  },
  {
   "cell_type": "code",
   "execution_count": 18,
   "metadata": {
    "collapsed": false
   },
   "outputs": [
    {
     "name": "stdout",
     "output_type": "stream",
     "text": [
      "@HD\tVN:1.0\tSO:unsorted\r\n",
      "@SQ\tSN:scaffold3071\tLN:92480\r\n",
      "@SQ\tSN:scaffold4463\tLN:96504\r\n",
      "@SQ\tSN:scaffold5354\tLN:78472\r\n",
      "@SQ\tSN:scaffold9504\tLN:106643\r\n",
      "@SQ\tSN:scaffold10970\tLN:103072\r\n",
      "@SQ\tSN:scaffold11875\tLN:71487\r\n",
      "@SQ\tSN:scaffold15463\tLN:94990\r\n",
      "@SQ\tSN:scaffold18558\tLN:73279\r\n",
      "@SQ\tSN:scaffold19489\tLN:88023\r\n"
     ]
    }
   ],
   "source": [
    "! head ../analyses/Panopea_generosascaff-70k_gonadF_bowtie.sam"
   ]
  },
  {
   "cell_type": "markdown",
   "metadata": {},
   "source": [
    "### Converting from .sam to .bam format"
   ]
  },
  {
   "cell_type": "code",
   "execution_count": 19,
   "metadata": {
    "collapsed": false
   },
   "outputs": [],
   "source": [
    "# This took about 75 minutes on Roadrunner\n",
    "! samtools view -bS -o \\\n",
    "../analyses/Panopea_generosascaff-70k_gonadF_bowtie.bam \\\n",
    "../analyses/Panopea_generosascaff-70k_gonadF_bowtie.sam"
   ]
  },
  {
   "cell_type": "code",
   "execution_count": 21,
   "metadata": {
    "collapsed": false
   },
   "outputs": [
    {
     "name": "stdout",
     "output_type": "stream",
     "text": [
      "2016-11-3_Geo70k-scaff-transcrip-sequences.tabular\r\n",
      "GeoTrans-PhelDiffExp_blasted_sorted\r\n",
      "P-Generosa_IGV.xml\r\n",
      "Panopea_generosascaff-70k_gonadF_bowtie.bam\r\n",
      "Panopea_generosascaff-70k_gonadF_bowtie.sam\r\n",
      "Phel_DEGlist.tab\r\n",
      "\u001b[34mRepeatMasker\u001b[m\u001b[m/\r\n",
      "SeaStarDiffExp.R\r\n",
      "pgenerosa-scaff70-miRNA.tab\r\n",
      "pgenerosa-transcrv3-blastn-scaff70k-01.gff.fai\r\n",
      "pgenerosa-transcrv3-blastn-scaff70k-01.tab\r\n",
      "pgenerosa-transcrv3-blastn-scaff70k-01.tab.fai\r\n"
     ]
    }
   ],
   "source": [
    "ls ../analyses/"
   ]
  },
  {
   "cell_type": "markdown",
   "metadata": {},
   "source": [
    "### Sorting BAM, and indexing for IGV"
   ]
  },
  {
   "cell_type": "code",
   "execution_count": 22,
   "metadata": {
    "collapsed": false
   },
   "outputs": [
    {
     "name": "stdout",
     "output_type": "stream",
     "text": [
      "[bam_sort_core] merging from 91 files...\r\n"
     ]
    }
   ],
   "source": [
    "# Sort the bam file \n",
    "# this took about 90 minutes on Roadrunner\n",
    "! samtools sort \\\n",
    "-o ../analyses/Panopea_generosascaff-70k_gonadF_bowtie-sorted.bam \\\n",
    "-T TEMP_gonadF_bowtie-sorted \\\n",
    "../analyses/Panopea_generosascaff-70k_gonadF_bowtie.bam"
   ]
  },
  {
   "cell_type": "code",
   "execution_count": 23,
   "metadata": {
    "collapsed": false
   },
   "outputs": [],
   "source": [
    "# Index bam file for viewing in IGV browser\n",
    "! samtools index ../analyses/Panopea_generosascaff-70k_gonadF_bowtie-sorted.bam"
   ]
  },
  {
   "cell_type": "code",
   "execution_count": 25,
   "metadata": {
    "collapsed": false
   },
   "outputs": [],
   "source": [
    "mv ../analyses/Panopea_generosascaff-70k_gonadF_bowtie-sorted.bam.bai ../IGV_track_files/"
   ]
  },
  {
   "cell_type": "code",
   "execution_count": 26,
   "metadata": {
    "collapsed": false,
    "scrolled": false
   },
   "outputs": [
    {
     "name": "stdout",
     "output_type": "stream",
     "text": [
      "Panopea_generosa_Scaff-70k-CpG.gff\r\n",
      "Panopea_generosa_scaff-70k.scafSeq.out.refined.gff\r\n",
      "Panopea_generosa_scaff-70k.scafSeq.out.unrefined.gff\r\n",
      "Panopea_generosascaff-70k_gonadF_bowtie-sorted.bam.bai\r\n",
      "pgenerosa-scaff70-miRNA.gff\r\n",
      "pgenerosa-transcrv3-blastn-scaff70k-01.gff\r\n"
     ]
    }
   ],
   "source": [
    "ls ../IGV_track_files/"
   ]
  },
  {
   "cell_type": "markdown",
   "metadata": {
    "collapsed": true
   },
   "source": [
    "### Let's do it again! This time using male gonad RNASeq data"
   ]
  },
  {
   "cell_type": "code",
   "execution_count": 39,
   "metadata": {
    "collapsed": false
   },
   "outputs": [
    {
     "name": "stdout",
     "output_type": "stream",
     "text": [
      "116711310 reads; of these:\r\n",
      "  116711310 (100.00%) were paired; of these:\r\n",
      "    116630840 (99.93%) aligned concordantly 0 times\r\n",
      "    56523 (0.05%) aligned concordantly exactly 1 time\r\n",
      "    23947 (0.02%) aligned concordantly >1 times\r\n",
      "    ----\r\n",
      "    116630840 pairs aligned concordantly 0 times; of these:\r\n",
      "      3318 (0.00%) aligned discordantly 1 time\r\n",
      "    ----\r\n",
      "    116627522 pairs aligned 0 times concordantly or discordantly; of these:\r\n",
      "      233255044 mates make up the pairs; of these:\r\n",
      "        233141267 (99.95%) aligned 0 times\r\n",
      "        72884 (0.03%) aligned exactly 1 time\r\n",
      "        40893 (0.02%) aligned >1 times\r\n",
      "0.12% overall alignment rate\r\n"
     ]
    }
   ],
   "source": [
    "!bowtie2 \\\n",
    "-x ../data/Panopea_generosa_scaff-70k_bowtie2-index \\\n",
    "-1 ../data/Geo_Pool_M_CTTGTA_L006_R2_001_val_1.fq \\\n",
    "-2 ../data/Geo_Pool_M_CTTGTA_L006_R1_001_val_2.fq \\\n",
    "-S ../analyses/Panopea_generosascaff-70k_gonadM_bowtie.sam \\\n"
   ]
  },
  {
   "cell_type": "code",
   "execution_count": 40,
   "metadata": {
    "collapsed": false
   },
   "outputs": [],
   "source": [
    "! samtools view -bS -o \\\n",
    "../analyses/Panopea_generosascaff-70k_gonadM_bowtie.bam \\\n",
    "../analyses/Panopea_generosascaff-70k_gonadM_bowtie.sam \\\n"
   ]
  },
  {
   "cell_type": "code",
   "execution_count": 41,
   "metadata": {
    "collapsed": false
   },
   "outputs": [
    {
     "name": "stdout",
     "output_type": "stream",
     "text": [
      "[bam_sort_core] merging from 97 files...\r\n"
     ]
    }
   ],
   "source": [
    "! samtools sort \\\n",
    "-o ../analyses/Panopea_generosascaff-70k_gonadM_bowtie-sorted.bam \\\n",
    "-T TEMP_gonadM_bowtie-sorted \\\n",
    "../analyses/Panopea_generosascaff-70k_gonadM_bowtie.bam \\"
   ]
  },
  {
   "cell_type": "code",
   "execution_count": 43,
   "metadata": {
    "collapsed": true
   },
   "outputs": [],
   "source": [
    "! samtools index ../analyses/Panopea_generosascaff-70k_gonadM_bowtie-sorted.bam"
   ]
  }
 ],
 "metadata": {
  "anaconda-cloud": {},
  "kernelspec": {
   "display_name": "Python [default]",
   "language": "python",
   "name": "python3"
  },
  "language_info": {
   "codemirror_mode": {
    "name": "ipython",
    "version": 3
   },
   "file_extension": ".py",
   "mimetype": "text/x-python",
   "name": "python",
   "nbconvert_exporter": "python",
   "pygments_lexer": "ipython3",
   "version": "3.5.2"
  }
 },
 "nbformat": 4,
 "nbformat_minor": 1
}
