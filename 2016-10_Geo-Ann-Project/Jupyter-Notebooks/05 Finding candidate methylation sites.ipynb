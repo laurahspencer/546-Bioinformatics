{
 "cells": [
  {
   "cell_type": "code",
   "execution_count": 2,
   "metadata": {
    "collapsed": false,
    "scrolled": true
   },
   "outputs": [
    {
     "name": "stdout",
     "output_type": "stream",
     "text": [
      "Software:\r\n",
      "\r\n",
      "    System Software Overview:\r\n",
      "\r\n",
      "      System Version: OS X 10.11.6 (15G1108)\r\n",
      "      Kernel Version: Darwin 15.6.0\r\n",
      "      Boot Volume: Peach Macbook\r\n",
      "      Boot Mode: Normal\r\n",
      "      Computer Name: laura spencer’s MacBook Pro\r\n",
      "      User Name: laura spencer (shlaura3)\r\n",
      "      Secure Virtual Memory: Enabled\r\n",
      "      System Integrity Protection: Enabled\r\n",
      "      Time since boot: 2 days 4:27\r\n",
      "\r\n"
     ]
    }
   ],
   "source": [
    "# SYSTEM INFO:\n",
    "! system_profiler SPSoftwareDataType"
   ]
  },
  {
   "cell_type": "markdown",
   "metadata": {},
   "source": [
    "---\n",
    "\n",
    "# Identifying potential methylation sites, aka CpG sites\n",
    "\n",
    "Use [Galaxy's](https://usegalaxy.org/) EMBOSS fuzznuc tool to identify CpG sites; these are locations that have potential to be methylated. Select .gff as output file for visualizing in IGV.\n",
    "\n",
    "![Galaxy-fuzznuc](../images/2016-11-17_Galaxy-fuzznuc.png)"
   ]
  },
  {
   "cell_type": "code",
   "execution_count": 17,
   "metadata": {
    "collapsed": false
   },
   "outputs": [
    {
     "name": "stdout",
     "output_type": "stream",
     "text": [
      "##gff-version 2.0\r\n",
      "##date 2016-11-17\r\n",
      "##Type DNA scaffold3071\r\n",
      "scaffold3071\tfuzznuc\tmisc_feature\t18\t19\t2.000\t+\t.\tSequence \"scaffold3071.1\" ; note \"*pat pattern1\"\r\n",
      "scaffold3071\tfuzznuc\tmisc_feature\t21\t22\t2.000\t+\t.\tSequence \"scaffold3071.2\" ; note \"*pat pattern1\"\r\n",
      "scaffold3071\tfuzznuc\tmisc_feature\t23\t24\t2.000\t+\t.\tSequence \"scaffold3071.3\" ; note \"*pat pattern1\"\r\n",
      "scaffold3071\tfuzznuc\tmisc_feature\t27\t28\t2.000\t+\t.\tSequence \"scaffold3071.4\" ; note \"*pat pattern1\"\r\n",
      "scaffold3071\tfuzznuc\tmisc_feature\t88\t89\t2.000\t+\t.\tSequence \"scaffold3071.5\" ; note \"*pat pattern1\"\r\n",
      "scaffold3071\tfuzznuc\tmisc_feature\t188\t189\t2.000\t+\t.\tSequence \"scaffold3071.6\" ; note \"*pat pattern1\"\r\n",
      "scaffold3071\tfuzznuc\tmisc_feature\t240\t241\t2.000\t+\t.\tSequence \"scaffold3071.7\" ; note \"*pat pattern1\"\r\n"
     ]
    }
   ],
   "source": [
    "# Resulting file looks like: \n",
    "!head ../analyses/Panopea_generosa_Scaff-70k-CpG.gff"
   ]
  },
  {
   "cell_type": "code",
   "execution_count": 20,
   "metadata": {
    "collapsed": false
   },
   "outputs": [
    {
     "name": "stdout",
     "output_type": "stream",
     "text": [
      "42638\r\n"
     ]
    }
   ],
   "source": [
    "!grep -c \"^scaffold*\" ../analyses/Panopea_generosa_Scaff-70k-CpG.gff"
   ]
  },
  {
   "cell_type": "markdown",
   "metadata": {},
   "source": [
    "---\n",
    "\n",
    "# Getting a first glimps @ the data via IGV\n",
    "\n",
    "### This is a very short notebook, so let's get a first look at IGV with the various tracks I've built\n",
    "\n",
    "[Integrative Genomics Viewer (IGV)](http://software.broadinstitute.org/software/igv/), Version 2.3.85 (135)\n",
    "\n",
    "All scaffolds: \n",
    "\n",
    "![IGV 11-17](../images/2016-11-17_IGV.png)  \n",
    "\n",
    "\n",
    "A closer view at scaffold 71773 (very last one @ far right), which looks interesting:\n",
    "\n",
    "![IGV 11-17 zoom](../images/2016-11-17_IGV-zoomed.png)"
   ]
  },
  {
   "cell_type": "code",
   "execution_count": null,
   "metadata": {
    "collapsed": true
   },
   "outputs": [],
   "source": []
  }
 ],
 "metadata": {
  "anaconda-cloud": {},
  "kernelspec": {
   "display_name": "Python [default]",
   "language": "python",
   "name": "python3"
  },
  "language_info": {
   "codemirror_mode": {
    "name": "ipython",
    "version": 3
   },
   "file_extension": ".py",
   "mimetype": "text/x-python",
   "name": "python",
   "nbconvert_exporter": "python",
   "pygments_lexer": "ipython3",
   "version": "3.5.2"
  }
 },
 "nbformat": 4,
 "nbformat_minor": 1
}
