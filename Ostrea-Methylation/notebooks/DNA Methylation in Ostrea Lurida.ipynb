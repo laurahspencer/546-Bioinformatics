{
 "cells": [
  {
   "cell_type": "markdown",
   "metadata": {},
   "source": [
    "# DNA Methylation in _Ostrea lurida_\n",
    "\n",
    "Assessing methylation in a single sample of Ostrea lurida, and blasting a methylated region against _P. generosa_\n",
    "\n",
    "Original _O. lurida_ data file lives [here](file location: http://owl.fish.washington.edu/nightingales/O_lurida/20160203_mbdseq/zr1394_16_s6_R1.fastq.gz)  \n",
    "\n",
    "Software used: \n",
    " - [CoGe](https://genomevolution.org/wiki/index.php/Main_Page)\n",
    " - [NCBI blast online nucleotide tool](https://blast.ncbi.nlm.nih.gov/Blast.cgi)\n",
    "\n",
    "Results from the CoGe methylation experiment are viewable [here](https://genomevolution.org/CoGe/GenomeView.pl?embed=1&gid=28863&tracks=notebook1817%2Cexperiment9342%2Cexperiment9340&loc=scaffold3680%3A52361..66800&highlight=scaffold3680%3A60097..63157)\n",
    "And the blast results are located in my GitHub repo's [analyses folder](../analyses/)\n"
   ]
  },
  {
   "cell_type": "code",
   "execution_count": 1,
   "metadata": {
    "collapsed": false
   },
   "outputs": [
    {
     "name": "stdout",
     "output_type": "stream",
     "text": [
      "Fri Nov 11 13:47:40 PST 2016\n",
      "Software:\n",
      "\n",
      "    System Software Overview:\n",
      "\n",
      "      System Version: OS X 10.11.6 (15G1108)\n",
      "      Kernel Version: Darwin 15.6.0\n",
      "      Boot Volume: Peach Macbook\n",
      "      Boot Mode: Normal\n",
      "      Computer Name: laura spencer’s MacBook Pro\n",
      "      User Name: laura spencer (shlaura3)\n",
      "      Secure Virtual Memory: Enabled\n",
      "      System Integrity Protection: Enabled\n",
      "      Time since boot: 3 days 36 minutes\n",
      "\n"
     ]
    }
   ],
   "source": [
    "# DATE:\n",
    "!date \\\n",
    "\n",
    "# SYSTEM INFO:\n",
    "! system_profiler SPSoftwareDataType"
   ]
  },
  {
   "cell_type": "markdown",
   "metadata": {},
   "source": [
    "---\n",
    "## Use CoGe program to identify CpG location on _Ostrea lurida_ DNA"
   ]
  },
  {
   "cell_type": "markdown",
   "metadata": {
    "collapsed": true
   },
   "source": [
    "[CoGe](https://genomevolution.org/wiki/index.php/Main_Page) software is browser-based; FYI it is best to create an account so data/experiments are retrievable.\n",
    "\n",
    "Step 1: start \"new experiment\"; see image for inputs:\n",
    "\n",
    "![CoGe-1](../image/CoGe-1.png)"
   ]
  },
  {
   "cell_type": "markdown",
   "metadata": {},
   "source": [
    "Step 2: fetch data via url \n",
    "    \n",
    "![CoGe-2](../image/CoGe-2.png)"
   ]
  },
  {
   "cell_type": "markdown",
   "metadata": {},
   "source": [
    "Step 3: select methylation analysis inputs, as shown in images:\n",
    "\n",
    "![CoGe-3](../image/CoGe-3.png)\n",
    "![CoGe-4](../image/CoGe-4.png)\n",
    "        "
   ]
  },
  {
   "cell_type": "markdown",
   "metadata": {},
   "source": [
    "Step 3: execute experiment, and wait! \n",
    "Step 4: once CoGe has completed its analysis, navigate to the Notebooks tab on the left of the page, and select \"Browse\": \n",
    "\n",
    "![CoGe-4a](../image/CoGe-4a.png)"
   ]
  },
  {
   "cell_type": "markdown",
   "metadata": {},
   "source": [
    "Step 4: Review the scaffolds for sites of high methylation; you can highlight a region in yellow, as well as add tracks for different types of methlation. Here I have highlighted a region with high methylation on scaffold 3680, and show CpG methylation locations, and the BAM aligment data: \n",
    "\n",
    "![CoGe-5](../image/CoGe-5.png)"
   ]
  },
  {
   "cell_type": "markdown",
   "metadata": {},
   "source": [
    "I then zoomed in:\n",
    "\n",
    "![CoGe-6](../image/CoGe-6.png)"
   ]
  },
  {
   "cell_type": "markdown",
   "metadata": {},
   "source": [
    "Step 5: select the BAM alignments associated with high CpG methylation to view the sequences and identify the bp. Here I've found a sequence with three CpG loci on scaffold 3680 position 62260:62309 (-). The sequence ID is HWI-C00124:164:C7URDANXX:3:1308:13696:92992_1:N:0:CCGTCC\n",
    "\n",
    "The sequence, which has 3 CpG methylation sites, is: GAAATAATAAAATTACCGTTCGCCTAAAACCTCTAAACACGATTCAAACT\n",
    "\n",
    "![CoGe-7](../image/CoGe-7.png)"
   ]
  },
  {
   "cell_type": "markdown",
   "metadata": {},
   "source": [
    "---\n",
    "\n",
    "## Blasting _O. lurida_ methylated sequence (CpG) against _P. generosa_ genome \n",
    "\n",
    "Step 6: use [NCBI blast online nucleotide tool](https://blast.ncbi.nlm.nih.gov/Blast.cgi) to blast the sequence with methylation against the _P. generosa_ genome:\n",
    "\n",
    "![CoGe-8](../image/NCBI-8.png)"
   ]
  },
  {
   "cell_type": "markdown",
   "metadata": {},
   "source": [
    "The **megablast against the _P. generosa_ returned NO matches**:\n",
    "\n",
    "![NCBI-9](../image/NCBI-9.png)"
   ]
  },
  {
   "cell_type": "markdown",
   "metadata": {},
   "source": [
    "I re-blasted using the \"somewhat similar sequences (blastn)\" option: \n",
    "\n",
    "![NCBI-10](../image/NCBI-10.png)"
   ]
  },
  {
   "cell_type": "markdown",
   "metadata": {},
   "source": [
    "This time there was a match, but while the query sequence was 50bp the match is only 11bp, and doesn't include any CpGs:\n",
    "\n",
    "![NCBI-11](../image/NCBI-11.png)\n",
    "![NCBI-12](../image/NCBI-12.png)\n",
    "![NCBI-13](../image/NCBI-13.png)"
   ]
  },
  {
   "cell_type": "markdown",
   "metadata": {},
   "source": [
    "I reblasted using another sequence from the same _O. lurida_ scaffold, and slightly downstream from the previously queried sequence: scaffold3680:62326..62376 (-), AACGATCATTTATACCCTATTACTTTTCTATAATAAACTTCAATCCTACCT\n",
    "Megablast resulted in no matches.\n",
    "Blastn resulted in a very similarly small match, also associated with the p. generosa mitochondrian\n",
    "\n",
    "![NCBI-14](../image/NCBI-14.png)"
   ]
  },
  {
   "cell_type": "markdown",
   "metadata": {},
   "source": [
    "---\n",
    "\n",
    "## Bonus: blasting _O. lurida_ methylated sequences against _C. gigas_ genome"
   ]
  },
  {
   "cell_type": "markdown",
   "metadata": {},
   "source": [
    "Just for kicks I blasted the 3-methylated sequence against the _C. gigas_ genome; the megablast produced no results, but the blastn produced several matches. For a reminder, the _O. lurida_ sequence is: GAAATAATAAAATTACCGTTCGCCTAAAACCTCTAAACACGATTCAAACT\n",
    "\n",
    "Several matches were made: \n",
    "\n",
    "![NCBIr-1](../image/NCBIr-1.png)\n",
    "![NCBIr-2](../image/NCBIr-2.png)\n"
   ]
  },
  {
   "cell_type": "markdown",
   "metadata": {},
   "source": [
    "Taking a look at the sequences that match; most regions of methylation in the _O. lurida_ are not methylated in the _C. gigas_ DNA: \n",
    "\n",
    "![NCBIr-5](../image/NCBIr-5.png)\n",
    "![NCBIr-4](../image/NCBIr-4.png)"
   ]
  },
  {
   "cell_type": "markdown",
   "metadata": {},
   "source": [
    "Except for 1 region, which is a 15bp long, and predicted to be associated with the \"Crassostrea gigas mesoderm induction early response protein 1-like (LOC105327709), mRNA\"\n",
    "\n",
    "![NCBIr-3](../image/NCBIr-3.png)"
   ]
  },
  {
   "cell_type": "code",
   "execution_count": null,
   "metadata": {
    "collapsed": true
   },
   "outputs": [],
   "source": []
  }
 ],
 "metadata": {
  "anaconda-cloud": {},
  "kernelspec": {
   "display_name": "Python [default]",
   "language": "python",
   "name": "python3"
  },
  "language_info": {
   "codemirror_mode": {
    "name": "ipython",
    "version": 3
   },
   "file_extension": ".py",
   "mimetype": "text/x-python",
   "name": "python",
   "nbconvert_exporter": "python",
   "pygments_lexer": "ipython3",
   "version": "3.5.2"
  }
 },
 "nbformat": 4,
 "nbformat_minor": 1
}
