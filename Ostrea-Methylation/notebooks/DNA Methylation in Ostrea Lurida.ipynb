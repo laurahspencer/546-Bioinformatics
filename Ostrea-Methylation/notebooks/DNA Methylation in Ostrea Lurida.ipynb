{
 "cells": [
  {
   "cell_type": "markdown",
   "metadata": {},
   "source": [
    "# DNA Methylation in Ostrea lurida \n",
    "\n",
    "Assessing methylation in a single sample of Ostrea lurida,\n",
    "file location: http://owl.fish.washington.edu/nightingales/O_lurida/20160203_mbdseq/zr1394_16_s6_R1.fastq.gz\n",
    "Software used: \n",
    " - [CoGe](https://genomevolution.org/wiki/index.php/Main_Page)\n",
    " - "
   ]
  },
  {
   "cell_type": "code",
   "execution_count": 1,
   "metadata": {
    "collapsed": false
   },
   "outputs": [
    {
     "name": "stdout",
     "output_type": "stream",
     "text": [
      "Thu Nov 10 22:46:02 PST 2016\n",
      "Software:\n",
      "\n",
      "    System Software Overview:\n",
      "\n",
      "      System Version: OS X 10.11.6 (15G1108)\n",
      "      Kernel Version: Darwin 15.6.0\n",
      "      Boot Volume: Peach Macbook\n",
      "      Boot Mode: Normal\n",
      "      Computer Name: laura spencer’s MacBook Pro\n",
      "      User Name: laura spencer (shlaura3)\n",
      "      Secure Virtual Memory: Enabled\n",
      "      System Integrity Protection: Enabled\n",
      "      Time since boot: 2 days 9:34\n",
      "\n"
     ]
    }
   ],
   "source": [
    "# DATE:\n",
    "!date \\\n",
    "\n",
    "# SYSTEM INFO:\n",
    "! system_profiler SPSoftwareDataType"
   ]
  },
  {
   "cell_type": "markdown",
   "metadata": {},
   "source": [
    "---\n",
    "## Use CoGe program to identify CpG location on _Ostrea lurida_ DNA"
   ]
  },
  {
   "cell_type": "code",
   "execution_count": null,
   "metadata": {
    "collapsed": true
   },
   "outputs": [],
   "source": []
  }
 ],
 "metadata": {
  "anaconda-cloud": {},
  "kernelspec": {
   "display_name": "Python [default]",
   "language": "python",
   "name": "python3"
  },
  "language_info": {
   "codemirror_mode": {
    "name": "ipython",
    "version": 3
   },
   "file_extension": ".py",
   "mimetype": "text/x-python",
   "name": "python",
   "nbconvert_exporter": "python",
   "pygments_lexer": "ipython3",
   "version": "3.5.2"
  }
 },
 "nbformat": 4,
 "nbformat_minor": 1
}
